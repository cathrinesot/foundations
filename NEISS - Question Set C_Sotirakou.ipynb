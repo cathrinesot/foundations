{
 "cells": [
  {
   "cell_type": "markdown",
   "metadata": {},
   "source": [
    "# Exercise: NEISS, Question Set C\n",
    "\n",
    "#### Summary\n",
    "\n",
    "The [National Electronic Injury Surveillance System](https://www.cpsc.gov/Safety-Education/Safety-Guides/General-Information/National-Electronic-Injury-Surveillance-System-NEISS) is a data product produced by the US Consumer Product Safety Commission. It tracks emergency room injuries related to consumer products (e.g., \"a door fell on me!\").\n",
    "\n",
    "#### Files\n",
    "\n",
    "- **nss15.tsv**: injury data (one injury per row)\n",
    "- **2017NEISSCodingManualCPSConlyNontrauma.pdf**: column definitions and explanations\n",
    "- **2015 Neiss data highlights.pdf**: a partial summary of the data\n",
    "- **2017ComparabilityTable.pdf**: product code definitions\n",
    "- **categories-cleaned.txt**: product code definitions in CSV format (great for joining!)\n",
    "\n",
    "#### Source\n",
    "\n",
    "https://www.cpsc.gov/Safety-Education/Safety-Guides/General-Information/National-Electronic-Injury-Surveillance-System-NEISS\n",
    "\n",
    "#### Skills\n",
    "\n",
    "- Reading tab-separated files\n",
    "- Ignoring bad lines\n",
    "- Replacing values\n",
    "- Using numpy/`np.nan`\n",
    "- String search using regular expressions\n",
    "- Averages practice\n",
    "- Converting `.value_counts()` and similar results into DataFrames"
   ]
  },
  {
   "cell_type": "markdown",
   "metadata": {},
   "source": [
    "# Read in `nss15.tsv`\n",
    "\n",
    "Some of the lines just **aren't formatted correctly**. Maybe we can avoid those?"
   ]
  },
  {
   "cell_type": "code",
   "execution_count": 87,
   "metadata": {
    "collapsed": false
   },
   "outputs": [
    {
     "name": "stderr",
     "output_type": "stream",
     "text": [
      "b'Skipping line 10822: expected 19 fields, saw 20\\n'\n",
      "b'Skipping line 48623: expected 19 fields, saw 20\\nSkipping line 62534: expected 19 fields, saw 20\\n'\n",
      "b'Skipping line 103739: expected 19 fields, saw 20\\n'\n",
      "b'Skipping line 135495: expected 19 fields, saw 20\\nSkipping line 151678: expected 19 fields, saw 20\\n'\n",
      "b'Skipping line 237135: expected 19 fields, saw 20\\nSkipping line 240597: expected 19 fields, saw 20\\n'\n",
      "b'Skipping line 274270: expected 19 fields, saw 20\\nSkipping line 277461: expected 19 fields, saw 20\\n'\n"
     ]
    },
    {
     "data": {
      "text/html": [
       "<div>\n",
       "<table border=\"1\" class=\"dataframe\">\n",
       "  <thead>\n",
       "    <tr style=\"text-align: right;\">\n",
       "      <th></th>\n",
       "      <th>CPSC Case #</th>\n",
       "      <th>trmt_date</th>\n",
       "      <th>psu</th>\n",
       "      <th>weight</th>\n",
       "      <th>stratum</th>\n",
       "      <th>age</th>\n",
       "      <th>sex</th>\n",
       "      <th>race</th>\n",
       "      <th>race_other</th>\n",
       "      <th>diag</th>\n",
       "      <th>diag_other</th>\n",
       "      <th>body_part</th>\n",
       "      <th>disposition</th>\n",
       "      <th>location</th>\n",
       "      <th>fmv</th>\n",
       "      <th>prod1</th>\n",
       "      <th>prod2</th>\n",
       "      <th>narr1</th>\n",
       "      <th>narr2</th>\n",
       "    </tr>\n",
       "  </thead>\n",
       "  <tbody>\n",
       "    <tr>\n",
       "      <th>0</th>\n",
       "      <td>150733174</td>\n",
       "      <td>07/11/2015</td>\n",
       "      <td>38</td>\n",
       "      <td>15.7762</td>\n",
       "      <td>V</td>\n",
       "      <td>5</td>\n",
       "      <td>1</td>\n",
       "      <td>0</td>\n",
       "      <td>NaN</td>\n",
       "      <td>57</td>\n",
       "      <td>NaN</td>\n",
       "      <td>33</td>\n",
       "      <td>1</td>\n",
       "      <td>9</td>\n",
       "      <td>0</td>\n",
       "      <td>1267</td>\n",
       "      <td>NaN</td>\n",
       "      <td>5 YR OLD MALE PLAYING SOCCER BLOCKING BALL AND...</td>\n",
       "      <td>X IT</td>\n",
       "    </tr>\n",
       "    <tr>\n",
       "      <th>1</th>\n",
       "      <td>150734723</td>\n",
       "      <td>07/06/2015</td>\n",
       "      <td>43</td>\n",
       "      <td>83.2157</td>\n",
       "      <td>S</td>\n",
       "      <td>36</td>\n",
       "      <td>1</td>\n",
       "      <td>1</td>\n",
       "      <td>NaN</td>\n",
       "      <td>57</td>\n",
       "      <td>NaN</td>\n",
       "      <td>34</td>\n",
       "      <td>1</td>\n",
       "      <td>1</td>\n",
       "      <td>0</td>\n",
       "      <td>1439</td>\n",
       "      <td>4057.0</td>\n",
       "      <td>L WRIST FX(?)/36YOWM 2 WKS AGO@G-FRIENDS HM,MO...</td>\n",
       "      <td>AN OBJECT&amp;TWISTED WRIST TRYING TO CONTOL MOWER...</td>\n",
       "    </tr>\n",
       "    <tr>\n",
       "      <th>2</th>\n",
       "      <td>150817487</td>\n",
       "      <td>08/02/2015</td>\n",
       "      <td>51</td>\n",
       "      <td>74.8813</td>\n",
       "      <td>L</td>\n",
       "      <td>20</td>\n",
       "      <td>2</td>\n",
       "      <td>0</td>\n",
       "      <td>NaN</td>\n",
       "      <td>71</td>\n",
       "      <td>OTITIS EXTERNA</td>\n",
       "      <td>94</td>\n",
       "      <td>1</td>\n",
       "      <td>0</td>\n",
       "      <td>0</td>\n",
       "      <td>3274</td>\n",
       "      <td>NaN</td>\n",
       "      <td>20 YO F C/O EAR PAIN 1 DAY SAS WAS SWIMMING YE...</td>\n",
       "      <td>T TRIED TO USE ***S TO REMOVE WAX MADE IT WORS...</td>\n",
       "    </tr>\n",
       "    <tr>\n",
       "      <th>3</th>\n",
       "      <td>150717776</td>\n",
       "      <td>06/26/2015</td>\n",
       "      <td>41</td>\n",
       "      <td>15.7762</td>\n",
       "      <td>V</td>\n",
       "      <td>61</td>\n",
       "      <td>1</td>\n",
       "      <td>0</td>\n",
       "      <td>NaN</td>\n",
       "      <td>71</td>\n",
       "      <td>PAIN</td>\n",
       "      <td>35</td>\n",
       "      <td>1</td>\n",
       "      <td>0</td>\n",
       "      <td>0</td>\n",
       "      <td>611</td>\n",
       "      <td>NaN</td>\n",
       "      <td>61YOM W/KNEE PAIN S/P FALLING IN SHOWER 2 DAYS...</td>\n",
       "      <td>NaN</td>\n",
       "    </tr>\n",
       "    <tr>\n",
       "      <th>4</th>\n",
       "      <td>150721694</td>\n",
       "      <td>07/04/2015</td>\n",
       "      <td>42</td>\n",
       "      <td>74.8813</td>\n",
       "      <td>L</td>\n",
       "      <td>88</td>\n",
       "      <td>2</td>\n",
       "      <td>3</td>\n",
       "      <td>HISPANIC</td>\n",
       "      <td>62</td>\n",
       "      <td>NaN</td>\n",
       "      <td>75</td>\n",
       "      <td>1</td>\n",
       "      <td>0</td>\n",
       "      <td>0</td>\n",
       "      <td>1893</td>\n",
       "      <td>1807.0</td>\n",
       "      <td>88YOF PAIN TO HEAD WHEN FALL TO FLOOR WHEN WAL...</td>\n",
       "      <td>DOOR AND FELL.DENIES LOC. DX HEAD INJURY</td>\n",
       "    </tr>\n",
       "  </tbody>\n",
       "</table>\n",
       "</div>"
      ],
      "text/plain": [
       "   CPSC Case #   trmt_date  psu   weight stratum  age  sex  race race_other  \\\n",
       "0    150733174  07/11/2015   38  15.7762       V    5    1     0        NaN   \n",
       "1    150734723  07/06/2015   43  83.2157       S   36    1     1        NaN   \n",
       "2    150817487  08/02/2015   51  74.8813       L   20    2     0        NaN   \n",
       "3    150717776  06/26/2015   41  15.7762       V   61    1     0        NaN   \n",
       "4    150721694  07/04/2015   42  74.8813       L   88    2     3   HISPANIC   \n",
       "\n",
       "   diag      diag_other  body_part  disposition  location  fmv  prod1   prod2  \\\n",
       "0    57             NaN         33            1         9    0   1267     NaN   \n",
       "1    57             NaN         34            1         1    0   1439  4057.0   \n",
       "2    71  OTITIS EXTERNA         94            1         0    0   3274     NaN   \n",
       "3    71            PAIN         35            1         0    0    611     NaN   \n",
       "4    62             NaN         75            1         0    0   1893  1807.0   \n",
       "\n",
       "                                               narr1  \\\n",
       "0  5 YR OLD MALE PLAYING SOCCER BLOCKING BALL AND...   \n",
       "1  L WRIST FX(?)/36YOWM 2 WKS AGO@G-FRIENDS HM,MO...   \n",
       "2  20 YO F C/O EAR PAIN 1 DAY SAS WAS SWIMMING YE...   \n",
       "3  61YOM W/KNEE PAIN S/P FALLING IN SHOWER 2 DAYS...   \n",
       "4  88YOF PAIN TO HEAD WHEN FALL TO FLOOR WHEN WAL...   \n",
       "\n",
       "                                               narr2  \n",
       "0                                               X IT  \n",
       "1  AN OBJECT&TWISTED WRIST TRYING TO CONTOL MOWER...  \n",
       "2  T TRIED TO USE ***S TO REMOVE WAX MADE IT WORS...  \n",
       "3                                                NaN  \n",
       "4           DOOR AND FELL.DENIES LOC. DX HEAD INJURY  "
      ]
     },
     "execution_count": 87,
     "metadata": {},
     "output_type": "execute_result"
    }
   ],
   "source": [
    "import pandas as pd\n",
    "import numpy as np\n",
    "df = pd.read_csv(\"nss15.tsv\", sep=\"\\t\", error_bad_lines=False)\n",
    "df.head()"
   ]
  },
  {
   "cell_type": "markdown",
   "metadata": {},
   "source": [
    "### Check that your dataframe has 357727 rows and 19 columns."
   ]
  },
  {
   "cell_type": "code",
   "execution_count": 88,
   "metadata": {
    "collapsed": false
   },
   "outputs": [
    {
     "data": {
      "text/plain": [
       "(357727, 19)"
      ]
     },
     "execution_count": 88,
     "metadata": {},
     "output_type": "execute_result"
    }
   ],
   "source": [
    "df.shape"
   ]
  },
  {
   "cell_type": "markdown",
   "metadata": {},
   "source": [
    "### List the columns and their data types"
   ]
  },
  {
   "cell_type": "code",
   "execution_count": 89,
   "metadata": {
    "collapsed": false
   },
   "outputs": [
    {
     "data": {
      "text/plain": [
       "CPSC Case #      int64\n",
       "trmt_date       object\n",
       "psu              int64\n",
       "weight         float64\n",
       "stratum         object\n",
       "age              int64\n",
       "sex              int64\n",
       "race             int64\n",
       "race_other      object\n",
       "diag             int64\n",
       "diag_other      object\n",
       "body_part        int64\n",
       "disposition      int64\n",
       "location         int64\n",
       "fmv              int64\n",
       "prod1            int64\n",
       "prod2          float64\n",
       "narr1           object\n",
       "narr2           object\n",
       "dtype: object"
      ]
     },
     "execution_count": 89,
     "metadata": {},
     "output_type": "execute_result"
    }
   ],
   "source": [
    "df.dtypes"
   ]
  },
  {
   "cell_type": "markdown",
   "metadata": {},
   "source": [
    "### What does each column mean?"
   ]
  },
  {
   "cell_type": "code",
   "execution_count": 90,
   "metadata": {
    "collapsed": false
   },
   "outputs": [],
   "source": [
    "#diag = diagnosis\n",
    "#race :0 = not stated , 1 = white. 2 = black\n",
    "#prod1/2 = are the products involved"
   ]
  },
  {
   "cell_type": "markdown",
   "metadata": {},
   "source": [
    "# Cleaning up a column\n",
    "\n",
    "Take a look at the **sex** column. How many rows of each sex are there?"
   ]
  },
  {
   "cell_type": "code",
   "execution_count": 91,
   "metadata": {
    "collapsed": false
   },
   "outputs": [
    {
     "data": {
      "text/plain": [
       "1    195071\n",
       "2    162654\n",
       "0         2\n",
       "Name: sex, dtype: int64"
      ]
     },
     "execution_count": 91,
     "metadata": {},
     "output_type": "execute_result"
    }
   ],
   "source": [
    "df['sex'].value_counts()\n",
    "#1 = male\n",
    "#2 = female\n",
    "#0 = not recorded"
   ]
  },
  {
   "cell_type": "markdown",
   "metadata": {},
   "source": [
    "## Replace the numbers with the appropriate words they stand for.\n",
    "\n",
    "Those numbers are terrible - codes are fine for storage but not really for reading. **Replace the numbers with the  words they stand for.**\n",
    "\n",
    "Refer to page 7 of the column definitions file."
   ]
  },
  {
   "cell_type": "code",
   "execution_count": 92,
   "metadata": {
    "collapsed": false
   },
   "outputs": [
    {
     "data": {
      "text/plain": [
       "CPSC Case #      int64\n",
       "trmt_date       object\n",
       "psu              int64\n",
       "weight         float64\n",
       "stratum         object\n",
       "age              int64\n",
       "sex             object\n",
       "race             int64\n",
       "race_other      object\n",
       "diag             int64\n",
       "diag_other      object\n",
       "body_part        int64\n",
       "disposition      int64\n",
       "location         int64\n",
       "fmv              int64\n",
       "prod1            int64\n",
       "prod2          float64\n",
       "narr1           object\n",
       "narr2           object\n",
       "dtype: object"
      ]
     },
     "execution_count": 92,
     "metadata": {},
     "output_type": "execute_result"
    }
   ],
   "source": [
    "df['sex'] = df['sex'].astype('str').replace(\"1\", \"male\").replace(\"2\", \"female\")\n",
    "df.dtypes"
   ]
  },
  {
   "cell_type": "code",
   "execution_count": 93,
   "metadata": {
    "collapsed": false
   },
   "outputs": [
    {
     "data": {
      "text/html": [
       "<div>\n",
       "<table border=\"1\" class=\"dataframe\">\n",
       "  <thead>\n",
       "    <tr style=\"text-align: right;\">\n",
       "      <th></th>\n",
       "      <th>CPSC Case #</th>\n",
       "      <th>trmt_date</th>\n",
       "      <th>psu</th>\n",
       "      <th>weight</th>\n",
       "      <th>stratum</th>\n",
       "      <th>age</th>\n",
       "      <th>sex</th>\n",
       "      <th>race</th>\n",
       "      <th>race_other</th>\n",
       "      <th>diag</th>\n",
       "      <th>diag_other</th>\n",
       "      <th>body_part</th>\n",
       "      <th>disposition</th>\n",
       "      <th>location</th>\n",
       "      <th>fmv</th>\n",
       "      <th>prod1</th>\n",
       "      <th>prod2</th>\n",
       "      <th>narr1</th>\n",
       "      <th>narr2</th>\n",
       "    </tr>\n",
       "  </thead>\n",
       "  <tbody>\n",
       "    <tr>\n",
       "      <th>0</th>\n",
       "      <td>150733174</td>\n",
       "      <td>07/11/2015</td>\n",
       "      <td>38</td>\n",
       "      <td>15.7762</td>\n",
       "      <td>V</td>\n",
       "      <td>5</td>\n",
       "      <td>male</td>\n",
       "      <td>0</td>\n",
       "      <td>NaN</td>\n",
       "      <td>57</td>\n",
       "      <td>NaN</td>\n",
       "      <td>33</td>\n",
       "      <td>1</td>\n",
       "      <td>9</td>\n",
       "      <td>0</td>\n",
       "      <td>1267</td>\n",
       "      <td>NaN</td>\n",
       "      <td>5 YR OLD MALE PLAYING SOCCER BLOCKING BALL AND...</td>\n",
       "      <td>X IT</td>\n",
       "    </tr>\n",
       "    <tr>\n",
       "      <th>1</th>\n",
       "      <td>150734723</td>\n",
       "      <td>07/06/2015</td>\n",
       "      <td>43</td>\n",
       "      <td>83.2157</td>\n",
       "      <td>S</td>\n",
       "      <td>36</td>\n",
       "      <td>male</td>\n",
       "      <td>1</td>\n",
       "      <td>NaN</td>\n",
       "      <td>57</td>\n",
       "      <td>NaN</td>\n",
       "      <td>34</td>\n",
       "      <td>1</td>\n",
       "      <td>1</td>\n",
       "      <td>0</td>\n",
       "      <td>1439</td>\n",
       "      <td>4057.0</td>\n",
       "      <td>L WRIST FX(?)/36YOWM 2 WKS AGO@G-FRIENDS HM,MO...</td>\n",
       "      <td>AN OBJECT&amp;TWISTED WRIST TRYING TO CONTOL MOWER...</td>\n",
       "    </tr>\n",
       "    <tr>\n",
       "      <th>2</th>\n",
       "      <td>150817487</td>\n",
       "      <td>08/02/2015</td>\n",
       "      <td>51</td>\n",
       "      <td>74.8813</td>\n",
       "      <td>L</td>\n",
       "      <td>20</td>\n",
       "      <td>female</td>\n",
       "      <td>0</td>\n",
       "      <td>NaN</td>\n",
       "      <td>71</td>\n",
       "      <td>OTITIS EXTERNA</td>\n",
       "      <td>94</td>\n",
       "      <td>1</td>\n",
       "      <td>0</td>\n",
       "      <td>0</td>\n",
       "      <td>3274</td>\n",
       "      <td>NaN</td>\n",
       "      <td>20 YO F C/O EAR PAIN 1 DAY SAS WAS SWIMMING YE...</td>\n",
       "      <td>T TRIED TO USE ***S TO REMOVE WAX MADE IT WORS...</td>\n",
       "    </tr>\n",
       "    <tr>\n",
       "      <th>3</th>\n",
       "      <td>150717776</td>\n",
       "      <td>06/26/2015</td>\n",
       "      <td>41</td>\n",
       "      <td>15.7762</td>\n",
       "      <td>V</td>\n",
       "      <td>61</td>\n",
       "      <td>male</td>\n",
       "      <td>0</td>\n",
       "      <td>NaN</td>\n",
       "      <td>71</td>\n",
       "      <td>PAIN</td>\n",
       "      <td>35</td>\n",
       "      <td>1</td>\n",
       "      <td>0</td>\n",
       "      <td>0</td>\n",
       "      <td>611</td>\n",
       "      <td>NaN</td>\n",
       "      <td>61YOM W/KNEE PAIN S/P FALLING IN SHOWER 2 DAYS...</td>\n",
       "      <td>NaN</td>\n",
       "    </tr>\n",
       "    <tr>\n",
       "      <th>4</th>\n",
       "      <td>150721694</td>\n",
       "      <td>07/04/2015</td>\n",
       "      <td>42</td>\n",
       "      <td>74.8813</td>\n",
       "      <td>L</td>\n",
       "      <td>88</td>\n",
       "      <td>female</td>\n",
       "      <td>3</td>\n",
       "      <td>HISPANIC</td>\n",
       "      <td>62</td>\n",
       "      <td>NaN</td>\n",
       "      <td>75</td>\n",
       "      <td>1</td>\n",
       "      <td>0</td>\n",
       "      <td>0</td>\n",
       "      <td>1893</td>\n",
       "      <td>1807.0</td>\n",
       "      <td>88YOF PAIN TO HEAD WHEN FALL TO FLOOR WHEN WAL...</td>\n",
       "      <td>DOOR AND FELL.DENIES LOC. DX HEAD INJURY</td>\n",
       "    </tr>\n",
       "  </tbody>\n",
       "</table>\n",
       "</div>"
      ],
      "text/plain": [
       "   CPSC Case #   trmt_date  psu   weight stratum  age     sex  race  \\\n",
       "0    150733174  07/11/2015   38  15.7762       V    5    male     0   \n",
       "1    150734723  07/06/2015   43  83.2157       S   36    male     1   \n",
       "2    150817487  08/02/2015   51  74.8813       L   20  female     0   \n",
       "3    150717776  06/26/2015   41  15.7762       V   61    male     0   \n",
       "4    150721694  07/04/2015   42  74.8813       L   88  female     3   \n",
       "\n",
       "  race_other  diag      diag_other  body_part  disposition  location  fmv  \\\n",
       "0        NaN    57             NaN         33            1         9    0   \n",
       "1        NaN    57             NaN         34            1         1    0   \n",
       "2        NaN    71  OTITIS EXTERNA         94            1         0    0   \n",
       "3        NaN    71            PAIN         35            1         0    0   \n",
       "4   HISPANIC    62             NaN         75            1         0    0   \n",
       "\n",
       "   prod1   prod2                                              narr1  \\\n",
       "0   1267     NaN  5 YR OLD MALE PLAYING SOCCER BLOCKING BALL AND...   \n",
       "1   1439  4057.0  L WRIST FX(?)/36YOWM 2 WKS AGO@G-FRIENDS HM,MO...   \n",
       "2   3274     NaN  20 YO F C/O EAR PAIN 1 DAY SAS WAS SWIMMING YE...   \n",
       "3    611     NaN  61YOM W/KNEE PAIN S/P FALLING IN SHOWER 2 DAYS...   \n",
       "4   1893  1807.0  88YOF PAIN TO HEAD WHEN FALL TO FLOOR WHEN WAL...   \n",
       "\n",
       "                                               narr2  \n",
       "0                                               X IT  \n",
       "1  AN OBJECT&TWISTED WRIST TRYING TO CONTOL MOWER...  \n",
       "2  T TRIED TO USE ***S TO REMOVE WAX MADE IT WORS...  \n",
       "3                                                NaN  \n",
       "4           DOOR AND FELL.DENIES LOC. DX HEAD INJURY  "
      ]
     },
     "execution_count": 93,
     "metadata": {},
     "output_type": "execute_result"
    }
   ],
   "source": [
    "df.head()"
   ]
  },
  {
   "cell_type": "code",
   "execution_count": 94,
   "metadata": {
    "collapsed": true
   },
   "outputs": [],
   "source": [
    "#df.sex.replace(2,\"Female\", inplace=True)"
   ]
  },
  {
   "cell_type": "markdown",
   "metadata": {},
   "source": [
    "## Confirm you have 195071 male, 162654 female, and 2 \"Not Recorded.\""
   ]
  },
  {
   "cell_type": "code",
   "execution_count": 95,
   "metadata": {
    "collapsed": false
   },
   "outputs": [
    {
     "data": {
      "text/plain": [
       "male      195071\n",
       "female    162654\n",
       "0              2\n",
       "Name: sex, dtype: int64"
      ]
     },
     "execution_count": 95,
     "metadata": {},
     "output_type": "execute_result"
    }
   ],
   "source": [
    "df.sex.value_counts()"
   ]
  },
  {
   "cell_type": "code",
   "execution_count": 96,
   "metadata": {
    "collapsed": false
   },
   "outputs": [],
   "source": [
    "df.sex.replace(\"0\", \"Not Recorded\", inplace = True)"
   ]
  },
  {
   "cell_type": "markdown",
   "metadata": {},
   "source": [
    "## Graph the number of men and women, but don’t included the “Not Recorded” records"
   ]
  },
  {
   "cell_type": "code",
   "execution_count": 97,
   "metadata": {
    "collapsed": false
   },
   "outputs": [
    {
     "data": {
      "text/plain": [
       "male            195071\n",
       "female          162654\n",
       "Not Recorded         2\n",
       "Name: sex, dtype: int64"
      ]
     },
     "execution_count": 97,
     "metadata": {},
     "output_type": "execute_result"
    }
   ],
   "source": [
    "df.sex.value_counts()"
   ]
  },
  {
   "cell_type": "code",
   "execution_count": 98,
   "metadata": {
    "collapsed": false
   },
   "outputs": [
    {
     "data": {
      "text/plain": [
       "<matplotlib.axes._subplots.AxesSubplot at 0x7c40d62358>"
      ]
     },
     "execution_count": 98,
     "metadata": {},
     "output_type": "execute_result"
    },
    {
     "data": {
      "image/png": "[encoded data removed]",
      "text/plain": [
       "<matplotlib.figure.Figure at 0x7c388cf550>"
      ]
     },
     "metadata": {},
     "output_type": "display_data"
    }
   ],
   "source": [
    "%matplotlib inline\n",
    "df.sex.value_counts().plot(kind='barh')"
   ]
  },
  {
   "cell_type": "code",
   "execution_count": 99,
   "metadata": {
    "collapsed": false
   },
   "outputs": [
    {
     "data": {
      "text/plain": [
       "male      195071\n",
       "female    162654\n",
       "Name: sex, dtype: int64"
      ]
     },
     "execution_count": 99,
     "metadata": {},
     "output_type": "execute_result"
    }
   ],
   "source": [
    "df[df.sex!='Not Recorded'].sex.value_counts()"
   ]
  },
  {
   "cell_type": "markdown",
   "metadata": {},
   "source": [
    "## \"Not recorded\" seems silly - change it to be `NaN` instead\n",
    "\n",
    "Don't use `na_values` for this."
   ]
  },
  {
   "cell_type": "code",
   "execution_count": 100,
   "metadata": {
    "collapsed": false
   },
   "outputs": [],
   "source": [
    "df['sex'] = df['sex'].replace(\"Not Recorded\", np.nan)"
   ]
  },
  {
   "cell_type": "markdown",
   "metadata": {},
   "source": [
    "## Graph the count of men and women, but don’t included the “Not Recorded” records\n",
    "\n",
    "Yes, again! The code you use should be different this time."
   ]
  },
  {
   "cell_type": "code",
   "execution_count": 101,
   "metadata": {
    "collapsed": false
   },
   "outputs": [
    {
     "data": {
      "text/plain": [
       "<matplotlib.axes._subplots.AxesSubplot at 0x7c37cceb00>"
      ]
     },
     "execution_count": 101,
     "metadata": {},
     "output_type": "execute_result"
    },
    {
     "data": {
      "image/png": "[encoded data removed]",
      "text/plain": [
       "<matplotlib.figure.Figure at 0x7c37ce2cc0>"
      ]
     },
     "metadata": {},
     "output_type": "display_data"
    }
   ],
   "source": [
    "df.sex.value_counts().plot(kind='barh')"
   ]
  },
  {
   "cell_type": "code",
   "execution_count": null,
   "metadata": {
    "collapsed": true
   },
   "outputs": [],
   "source": []
  },
  {
   "cell_type": "markdown",
   "metadata": {},
   "source": [
    "# Wall punching"
   ]
  },
  {
   "cell_type": "markdown",
   "metadata": {},
   "source": [
    "## Find every instance where the narrative includes punching a wall\n",
    "\n",
    "Include phrases like \"punched a wall\" or \"punch wall\" or \"punched ten thousand walls.\" Do not type them each individually. How do you do that?????"
   ]
  },
  {
   "cell_type": "code",
   "execution_count": 102,
   "metadata": {
    "collapsed": true
   },
   "outputs": [],
   "source": [
    "#df[df.narrl/str.contains[PUNCH] & .....[WALL]]"
   ]
  },
  {
   "cell_type": "code",
   "execution_count": 103,
   "metadata": {
    "collapsed": false
   },
   "outputs": [],
   "source": [
    "df_punch =  df[df.narr1.str.contains(\"PUNCH.*WALL\")]"
   ]
  },
  {
   "cell_type": "markdown",
   "metadata": {},
   "source": [
    "## Graph the gender distribution of wall-punching."
   ]
  },
  {
   "cell_type": "code",
   "execution_count": 104,
   "metadata": {
    "collapsed": false
   },
   "outputs": [
    {
     "data": {
      "text/plain": [
       "<matplotlib.axes._subplots.AxesSubplot at 0x7c38279e80>"
      ]
     },
     "execution_count": 104,
     "metadata": {},
     "output_type": "execute_result"
    },
    {
     "data": {
      "image/png": "[encoded data removed]",
      "text/plain": [
       "<matplotlib.figure.Figure at 0x7c382906d8>"
      ]
     },
     "metadata": {},
     "output_type": "display_data"
    }
   ],
   "source": [
    "df_punch['sex'].value_counts().plot(kind=\"bar\")"
   ]
  },
  {
   "cell_type": "markdown",
   "metadata": {},
   "source": [
    "## Find the average age of a wall-puncher.\n",
    "\n",
    "Graph the distribution of the ages, too."
   ]
  },
  {
   "cell_type": "code",
   "execution_count": 147,
   "metadata": {
    "collapsed": false
   },
   "outputs": [
    {
     "data": {
      "text/plain": [
       "24.303611738148984"
      ]
     },
     "execution_count": 147,
     "metadata": {},
     "output_type": "execute_result"
    }
   ],
   "source": [
    "df_punch['age'].mean()"
   ]
  },
  {
   "cell_type": "markdown",
   "metadata": {},
   "source": [
    "# Which months are the most popular for wall punching?\n",
    "\n",
    "The month is hidden inside of the `trmt_date` column - you'll need to extract it. To check, January should have 27109 cases."
   ]
  },
  {
   "cell_type": "code",
   "execution_count": 106,
   "metadata": {
    "collapsed": false
   },
   "outputs": [],
   "source": [
    "#notes from class  :  df_punch['trmt_date'].str[0:2].value_counts().head(1)"
   ]
  },
  {
   "cell_type": "code",
   "execution_count": 107,
   "metadata": {
    "collapsed": false
   },
   "outputs": [],
   "source": [
    "#df.narr1.str.extract(\"FELL OFF(\\w+)\").dropna()"
   ]
  },
  {
   "cell_type": "code",
   "execution_count": 146,
   "metadata": {
    "collapsed": false
   },
   "outputs": [
    {
     "name": "stderr",
     "output_type": "stream",
     "text": [
      "C:\\Users\\user\\Anaconda3\\lib\\site-packages\\ipykernel\\__main__.py:1: FutureWarning: currently extract(expand=None) means expand=False (return Index/Series/DataFrame) but in a future version of pandas this will be changed to expand=True (return DataFrame)\n",
      "  if __name__ == '__main__':\n"
     ]
    },
    {
     "data": {
      "text/plain": [
       "09    175\n",
       "06    170\n",
       "10    162\n",
       "05    162\n",
       "04    156\n",
       "03    151\n",
       "11    145\n",
       "12    142\n",
       "07    134\n",
       "01    132\n",
       "08    131\n",
       "02    112\n",
       "Name: trmt_date, dtype: int64"
      ]
     },
     "execution_count": 146,
     "metadata": {},
     "output_type": "execute_result"
    }
   ],
   "source": [
    "df_punch['trmt_date'].str.extract('(\\d\\d)/\\d\\d/\\d\\d\\d\\d').dropna().value_counts()"
   ]
  },
  {
   "cell_type": "markdown",
   "metadata": {},
   "source": [
    "## Graph the amount of wall punching in each month\n",
    "\n",
    "Having numbers on the x axis (1-12) is fine."
   ]
  },
  {
   "cell_type": "code",
   "execution_count": 108,
   "metadata": {
    "collapsed": false
   },
   "outputs": [
    {
     "name": "stderr",
     "output_type": "stream",
     "text": [
      "C:\\Users\\user\\Anaconda3\\lib\\site-packages\\ipykernel\\__main__.py:1: FutureWarning: currently extract(expand=None) means expand=False (return Index/Series/DataFrame) but in a future version of pandas this will be changed to expand=True (return DataFrame)\n",
      "  if __name__ == '__main__':\n"
     ]
    },
    {
     "data": {
      "text/plain": [
       "<matplotlib.axes._subplots.AxesSubplot at 0x7c38391080>"
      ]
     },
     "execution_count": 108,
     "metadata": {},
     "output_type": "execute_result"
    },
    {
     "data": {
      "image/png": "[encoded data removed]",
      "text/plain": [
       "<matplotlib.figure.Figure at 0x7c38393a58>"
      ]
     },
     "metadata": {},
     "output_type": "display_data"
    }
   ],
   "source": [
    "df_punch['trmt_date'].str.extract('(\\d\\d)/\\d\\d/\\d\\d\\d\\d').dropna().value_counts().plot(kind='bar')"
   ]
  },
  {
   "cell_type": "code",
   "execution_count": null,
   "metadata": {
    "collapsed": true
   },
   "outputs": [],
   "source": []
  },
  {
   "cell_type": "markdown",
   "metadata": {},
   "source": [
    "## Sort the graph so that the months are in order from Jan-Dec (or 01-12)"
   ]
  },
  {
   "cell_type": "code",
   "execution_count": 109,
   "metadata": {
    "collapsed": false
   },
   "outputs": [
    {
     "name": "stderr",
     "output_type": "stream",
     "text": [
      "C:\\Users\\user\\Anaconda3\\lib\\site-packages\\ipykernel\\__main__.py:1: FutureWarning: currently extract(expand=None) means expand=False (return Index/Series/DataFrame) but in a future version of pandas this will be changed to expand=True (return DataFrame)\n",
      "  if __name__ == '__main__':\n"
     ]
    },
    {
     "data": {
      "text/plain": [
       "<matplotlib.axes._subplots.AxesSubplot at 0x7c384227b8>"
      ]
     },
     "execution_count": 109,
     "metadata": {},
     "output_type": "execute_result"
    },
    {
     "data": {
      "image/png": "[encoded data removed]",
      "text/plain": [
       "<matplotlib.figure.Figure at 0x7c38425198>"
      ]
     },
     "metadata": {},
     "output_type": "display_data"
    }
   ],
   "source": [
    "df_punch['trmt_date'].str.extract('(\\d\\d)/\\d\\d/\\d\\d\\d\\d').dropna().value_counts().sort_index().plot(kind='bar')"
   ]
  },
  {
   "cell_type": "markdown",
   "metadata": {},
   "source": [
    "## What month is most common for air conditioner-related injuries?\n",
    "\n",
    "Use the product code, which you can find in `2017ComparabilityTable.pdf` or `categories-cleaned.txt`."
   ]
  },
  {
   "cell_type": "code",
   "execution_count": 110,
   "metadata": {
    "collapsed": false
   },
   "outputs": [
    {
     "name": "stderr",
     "output_type": "stream",
     "text": [
      "C:\\Users\\user\\Anaconda3\\lib\\site-packages\\ipykernel\\__main__.py:5: FutureWarning: currently extract(expand=None) means expand=False (return Index/Series/DataFrame) but in a future version of pandas this will be changed to expand=True (return DataFrame)\n"
     ]
    },
    {
     "data": {
      "text/plain": [
       "07    45\n",
       "06    43\n",
       "08    42\n",
       "09    36\n",
       "05    32\n",
       "10    32\n",
       "12    17\n",
       "04    17\n",
       "11    15\n",
       "03    14\n",
       "02     9\n",
       "01     8\n",
       "Name: trmt_date, dtype: int64"
      ]
     },
     "execution_count": 110,
     "metadata": {},
     "output_type": "execute_result"
    }
   ],
   "source": [
    "#df_air = df[df['prod1'] == 381]\n",
    "#df_air['trmt_date'].str.extract('(\\d\\d)/\\d\\d/\\d\\d\\d\\d').dropna().value_counts()\n",
    "df['prod1'] = df.prod1.astype(str).str.pad(4, fillchar ='0')\n",
    "df['prod2'] = df.prod1.astype(str).str.pad(4, fillchar ='0')\n",
    "df[df['prod1'] == '0381']['trmt_date'].str.extract(\"(\\d\\d)/\\d\\d/\\d\\d\\d\\d\").value_counts()"
   ]
  },
  {
   "cell_type": "markdown",
   "metadata": {},
   "source": [
    "## Find what else people punched using the prod1 and prod2 columns.\n",
    "\n",
    "Look at the top 10 for each separately."
   ]
  },
  {
   "cell_type": "code",
   "execution_count": 111,
   "metadata": {
    "collapsed": false
   },
   "outputs": [],
   "source": [
    "#if prod1 was not a string column yet\n",
    "#(you didn;t do dtype={'prod1': 'str'})\n",
    "#df.prod1.astype(str).str.pad(4, fillchar='0')\n",
    "#If you set the type, you can do this without.astype(str)"
   ]
  },
  {
   "cell_type": "code",
   "execution_count": 112,
   "metadata": {
    "collapsed": false
   },
   "outputs": [
    {
     "data": {
      "text/plain": [
       "1884    1796\n",
       "1894     566\n",
       "1893     244\n",
       "1207     159\n",
       "4004     122\n",
       "Name: prod1, dtype: int64"
      ]
     },
     "execution_count": 112,
     "metadata": {},
     "output_type": "execute_result"
    }
   ],
   "source": [
    "punch_df = df[(df.narr1.str.contains(\"PUNCH.*\")) | (df.narr1.str.contains(\"PUNCH.*\"))]\n",
    "punch_df['prod1'].value_counts().head()"
   ]
  },
  {
   "cell_type": "code",
   "execution_count": 113,
   "metadata": {
    "collapsed": false
   },
   "outputs": [
    {
     "data": {
      "text/plain": [
       "1884    1796\n",
       "1894     566\n",
       "1893     244\n",
       "1207     159\n",
       "4004     122\n",
       "Name: prod2, dtype: int64"
      ]
     },
     "execution_count": 113,
     "metadata": {},
     "output_type": "execute_result"
    }
   ],
   "source": [
    "punch_df['prod2'].value_counts().head()"
   ]
  },
  {
   "cell_type": "code",
   "execution_count": 114,
   "metadata": {
    "collapsed": true
   },
   "outputs": [],
   "source": [
    "# 1894,\"Windows and window glass, other than storm windows\"\n",
    "# 1893,\"Doors, other or not specified\"\n",
    "# 1207,\"Boxing (activity, apparel or equipment)\""
   ]
  },
  {
   "cell_type": "markdown",
   "metadata": {},
   "source": [
    "## Uh, they're the same!"
   ]
  },
  {
   "cell_type": "code",
   "execution_count": null,
   "metadata": {
    "collapsed": true
   },
   "outputs": [],
   "source": []
  },
  {
   "cell_type": "markdown",
   "metadata": {},
   "source": [
    "The order of `prod1` and `prod2` don't actually matter!\n",
    "\n",
    "> When only one product is associated with an injury, place the product code for that product in the space allocated for \"First Product Code\" and fill in the \"Second Product Code\" spaces with 4 zeros (0000).\n",
    "When two products are associated with an injury, either product may be coded as the first product and the other as the second product.\n",
    ">\n",
    "> Example: An 11-year old boy riding a bicycle ran into a swing. Code: Product 1 = 5040 (bicycle) and Product 2 = 3246 (swings) or\n",
    ">\n",
    "> Code: Product 1 = 3246 (swings) and Product 2 = 5040 (bicycle)\n",
    "\n",
    "## Okay, okay, there’s no difference between prod1 and prod2, so you should add their frequencies together for an overall count!\n",
    "\n",
    "It's *almost* as easy as adding together the `value_counts()`.\n",
    "\n",
    "Take a look at the air conditioner question and the `.value_counts()` you just did, though, to see why combining them might not be that simple. **What is different about `prod1` and `prod2`?** You probably have to go all the way back up to where you read the file in to make them match."
   ]
  },
  {
   "cell_type": "code",
   "execution_count": 115,
   "metadata": {
    "collapsed": false
   },
   "outputs": [
    {
     "data": {
      "text/html": [
       "<div>\n",
       "<table border=\"1\" class=\"dataframe\">\n",
       "  <thead>\n",
       "    <tr style=\"text-align: right;\">\n",
       "      <th></th>\n",
       "      <th>CPSC Case #</th>\n",
       "      <th>trmt_date</th>\n",
       "      <th>psu</th>\n",
       "      <th>weight</th>\n",
       "      <th>stratum</th>\n",
       "      <th>age</th>\n",
       "      <th>sex</th>\n",
       "      <th>race</th>\n",
       "      <th>race_other</th>\n",
       "      <th>diag</th>\n",
       "      <th>diag_other</th>\n",
       "      <th>body_part</th>\n",
       "      <th>disposition</th>\n",
       "      <th>location</th>\n",
       "      <th>fmv</th>\n",
       "      <th>prod1</th>\n",
       "      <th>prod2</th>\n",
       "      <th>narr1</th>\n",
       "      <th>narr2</th>\n",
       "    </tr>\n",
       "  </thead>\n",
       "  <tbody>\n",
       "    <tr>\n",
       "      <th>0</th>\n",
       "      <td>150733174</td>\n",
       "      <td>07/11/2015</td>\n",
       "      <td>38</td>\n",
       "      <td>15.7762</td>\n",
       "      <td>V</td>\n",
       "      <td>5</td>\n",
       "      <td>male</td>\n",
       "      <td>0</td>\n",
       "      <td>NaN</td>\n",
       "      <td>57</td>\n",
       "      <td>NaN</td>\n",
       "      <td>33</td>\n",
       "      <td>1</td>\n",
       "      <td>9</td>\n",
       "      <td>0</td>\n",
       "      <td>1267</td>\n",
       "      <td>1267</td>\n",
       "      <td>5 YR OLD MALE PLAYING SOCCER BLOCKING BALL AND...</td>\n",
       "      <td>X IT</td>\n",
       "    </tr>\n",
       "    <tr>\n",
       "      <th>1</th>\n",
       "      <td>150734723</td>\n",
       "      <td>07/06/2015</td>\n",
       "      <td>43</td>\n",
       "      <td>83.2157</td>\n",
       "      <td>S</td>\n",
       "      <td>36</td>\n",
       "      <td>male</td>\n",
       "      <td>1</td>\n",
       "      <td>NaN</td>\n",
       "      <td>57</td>\n",
       "      <td>NaN</td>\n",
       "      <td>34</td>\n",
       "      <td>1</td>\n",
       "      <td>1</td>\n",
       "      <td>0</td>\n",
       "      <td>1439</td>\n",
       "      <td>1439</td>\n",
       "      <td>L WRIST FX(?)/36YOWM 2 WKS AGO@G-FRIENDS HM,MO...</td>\n",
       "      <td>AN OBJECT&amp;TWISTED WRIST TRYING TO CONTOL MOWER...</td>\n",
       "    </tr>\n",
       "    <tr>\n",
       "      <th>2</th>\n",
       "      <td>150817487</td>\n",
       "      <td>08/02/2015</td>\n",
       "      <td>51</td>\n",
       "      <td>74.8813</td>\n",
       "      <td>L</td>\n",
       "      <td>20</td>\n",
       "      <td>female</td>\n",
       "      <td>0</td>\n",
       "      <td>NaN</td>\n",
       "      <td>71</td>\n",
       "      <td>OTITIS EXTERNA</td>\n",
       "      <td>94</td>\n",
       "      <td>1</td>\n",
       "      <td>0</td>\n",
       "      <td>0</td>\n",
       "      <td>3274</td>\n",
       "      <td>3274</td>\n",
       "      <td>20 YO F C/O EAR PAIN 1 DAY SAS WAS SWIMMING YE...</td>\n",
       "      <td>T TRIED TO USE ***S TO REMOVE WAX MADE IT WORS...</td>\n",
       "    </tr>\n",
       "    <tr>\n",
       "      <th>3</th>\n",
       "      <td>150717776</td>\n",
       "      <td>06/26/2015</td>\n",
       "      <td>41</td>\n",
       "      <td>15.7762</td>\n",
       "      <td>V</td>\n",
       "      <td>61</td>\n",
       "      <td>male</td>\n",
       "      <td>0</td>\n",
       "      <td>NaN</td>\n",
       "      <td>71</td>\n",
       "      <td>PAIN</td>\n",
       "      <td>35</td>\n",
       "      <td>1</td>\n",
       "      <td>0</td>\n",
       "      <td>0</td>\n",
       "      <td>0611</td>\n",
       "      <td>0611</td>\n",
       "      <td>61YOM W/KNEE PAIN S/P FALLING IN SHOWER 2 DAYS...</td>\n",
       "      <td>NaN</td>\n",
       "    </tr>\n",
       "    <tr>\n",
       "      <th>4</th>\n",
       "      <td>150721694</td>\n",
       "      <td>07/04/2015</td>\n",
       "      <td>42</td>\n",
       "      <td>74.8813</td>\n",
       "      <td>L</td>\n",
       "      <td>88</td>\n",
       "      <td>female</td>\n",
       "      <td>3</td>\n",
       "      <td>HISPANIC</td>\n",
       "      <td>62</td>\n",
       "      <td>NaN</td>\n",
       "      <td>75</td>\n",
       "      <td>1</td>\n",
       "      <td>0</td>\n",
       "      <td>0</td>\n",
       "      <td>1893</td>\n",
       "      <td>1893</td>\n",
       "      <td>88YOF PAIN TO HEAD WHEN FALL TO FLOOR WHEN WAL...</td>\n",
       "      <td>DOOR AND FELL.DENIES LOC. DX HEAD INJURY</td>\n",
       "    </tr>\n",
       "  </tbody>\n",
       "</table>\n",
       "</div>"
      ],
      "text/plain": [
       "   CPSC Case #   trmt_date  psu   weight stratum  age     sex  race  \\\n",
       "0    150733174  07/11/2015   38  15.7762       V    5    male     0   \n",
       "1    150734723  07/06/2015   43  83.2157       S   36    male     1   \n",
       "2    150817487  08/02/2015   51  74.8813       L   20  female     0   \n",
       "3    150717776  06/26/2015   41  15.7762       V   61    male     0   \n",
       "4    150721694  07/04/2015   42  74.8813       L   88  female     3   \n",
       "\n",
       "  race_other  diag      diag_other  body_part  disposition  location  fmv  \\\n",
       "0        NaN    57             NaN         33            1         9    0   \n",
       "1        NaN    57             NaN         34            1         1    0   \n",
       "2        NaN    71  OTITIS EXTERNA         94            1         0    0   \n",
       "3        NaN    71            PAIN         35            1         0    0   \n",
       "4   HISPANIC    62             NaN         75            1         0    0   \n",
       "\n",
       "  prod1 prod2                                              narr1  \\\n",
       "0  1267  1267  5 YR OLD MALE PLAYING SOCCER BLOCKING BALL AND...   \n",
       "1  1439  1439  L WRIST FX(?)/36YOWM 2 WKS AGO@G-FRIENDS HM,MO...   \n",
       "2  3274  3274  20 YO F C/O EAR PAIN 1 DAY SAS WAS SWIMMING YE...   \n",
       "3  0611  0611  61YOM W/KNEE PAIN S/P FALLING IN SHOWER 2 DAYS...   \n",
       "4  1893  1893  88YOF PAIN TO HEAD WHEN FALL TO FLOOR WHEN WAL...   \n",
       "\n",
       "                                               narr2  \n",
       "0                                               X IT  \n",
       "1  AN OBJECT&TWISTED WRIST TRYING TO CONTOL MOWER...  \n",
       "2  T TRIED TO USE ***S TO REMOVE WAX MADE IT WORS...  \n",
       "3                                                NaN  \n",
       "4           DOOR AND FELL.DENIES LOC. DX HEAD INJURY  "
      ]
     },
     "execution_count": 115,
     "metadata": {},
     "output_type": "execute_result"
    }
   ],
   "source": [
    "df.prod1 = df.prod1.replace(np.nan, '0000')\n",
    "df.prod2 = df.prod2.replace(np.nan, '0000')\n",
    "df.head()"
   ]
  },
  {
   "cell_type": "code",
   "execution_count": 116,
   "metadata": {
    "collapsed": false
   },
   "outputs": [
    {
     "data": {
      "text/plain": [
       "1842    57218\n",
       "1807    56510\n",
       "4076    33414\n",
       "1205    28190\n",
       "5040    25474\n",
       "1211    23228\n",
       "4074    16478\n",
       "1884    15510\n",
       "1893    15378\n",
       "4057    14654\n",
       "0464    14562\n",
       "0611    14368\n",
       "1267    14280\n",
       "3299    14114\n",
       "0679    10162\n",
       "1615     7346\n",
       "4078     7330\n",
       "1233     6394\n",
       "4056     6232\n",
       "5041     6126\n",
       "dtype: int64"
      ]
     },
     "execution_count": 116,
     "metadata": {},
     "output_type": "execute_result"
    }
   ],
   "source": [
    "df['prod1'].value_counts().add(df['prod2'].value_counts(), fill_value=0).head(20)"
   ]
  },
  {
   "cell_type": "markdown",
   "metadata": {},
   "source": [
    "## Turn that into a dataframe\n",
    "\n",
    "Use `.reset_index()` on the result to turn it into a dataframe. Rename your columns to be `product_code` and `injury_count`."
   ]
  },
  {
   "cell_type": "code",
   "execution_count": 148,
   "metadata": {
    "collapsed": false
   },
   "outputs": [
    {
     "data": {
      "text/html": [
       "<div>\n",
       "<table border=\"1\" class=\"dataframe\">\n",
       "  <thead>\n",
       "    <tr style=\"text-align: right;\">\n",
       "      <th></th>\n",
       "      <th>index</th>\n",
       "      <th>0</th>\n",
       "    </tr>\n",
       "  </thead>\n",
       "  <tbody>\n",
       "    <tr>\n",
       "      <th>0</th>\n",
       "      <td>1842</td>\n",
       "      <td>57218</td>\n",
       "    </tr>\n",
       "    <tr>\n",
       "      <th>1</th>\n",
       "      <td>1807</td>\n",
       "      <td>56510</td>\n",
       "    </tr>\n",
       "    <tr>\n",
       "      <th>2</th>\n",
       "      <td>4076</td>\n",
       "      <td>33414</td>\n",
       "    </tr>\n",
       "    <tr>\n",
       "      <th>3</th>\n",
       "      <td>1205</td>\n",
       "      <td>28190</td>\n",
       "    </tr>\n",
       "    <tr>\n",
       "      <th>4</th>\n",
       "      <td>5040</td>\n",
       "      <td>25474</td>\n",
       "    </tr>\n",
       "  </tbody>\n",
       "</table>\n",
       "</div>"
      ],
      "text/plain": [
       "  index      0\n",
       "0  1842  57218\n",
       "1  1807  56510\n",
       "2  4076  33414\n",
       "3  1205  28190\n",
       "4  5040  25474"
      ]
     },
     "execution_count": 148,
     "metadata": {},
     "output_type": "execute_result"
    }
   ],
   "source": [
    "df_inj = df['prod1'].value_counts().add(df['prod2'].value_counts(), fill_value=0).reset_index()\n",
    "df_inj.head()"
   ]
  },
  {
   "cell_type": "code",
   "execution_count": 149,
   "metadata": {
    "collapsed": false
   },
   "outputs": [
    {
     "data": {
      "text/html": [
       "<div>\n",
       "<table border=\"1\" class=\"dataframe\">\n",
       "  <thead>\n",
       "    <tr style=\"text-align: right;\">\n",
       "      <th></th>\n",
       "      <th>product_code</th>\n",
       "      <th>injury_count</th>\n",
       "    </tr>\n",
       "  </thead>\n",
       "  <tbody>\n",
       "    <tr>\n",
       "      <th>0</th>\n",
       "      <td>1842</td>\n",
       "      <td>57218</td>\n",
       "    </tr>\n",
       "    <tr>\n",
       "      <th>1</th>\n",
       "      <td>1807</td>\n",
       "      <td>56510</td>\n",
       "    </tr>\n",
       "    <tr>\n",
       "      <th>2</th>\n",
       "      <td>4076</td>\n",
       "      <td>33414</td>\n",
       "    </tr>\n",
       "    <tr>\n",
       "      <th>3</th>\n",
       "      <td>1205</td>\n",
       "      <td>28190</td>\n",
       "    </tr>\n",
       "    <tr>\n",
       "      <th>4</th>\n",
       "      <td>5040</td>\n",
       "      <td>25474</td>\n",
       "    </tr>\n",
       "  </tbody>\n",
       "</table>\n",
       "</div>"
      ],
      "text/plain": [
       "  product_code  injury_count\n",
       "0         1842         57218\n",
       "1         1807         56510\n",
       "2         4076         33414\n",
       "3         1205         28190\n",
       "4         5040         25474"
      ]
     },
     "execution_count": 149,
     "metadata": {},
     "output_type": "execute_result"
    }
   ],
   "source": [
    "df_inj.columns = ['product_code', 'injury_count']\n",
    "df_inj.head()"
   ]
  },
  {
   "cell_type": "markdown",
   "metadata": {},
   "source": [
    "## Fix the product codes\n",
    "\n",
    "Uh, wait, look at those product codes. \"102\" shouldn't be possible, it should be `0102` - this actually doesn't have to do with coding, it has to do with *the data doesn't match the codebook*.\n",
    "\n",
    "### Add zeroes to the left of the product code until it is 4 characters long"
   ]
  },
  {
   "cell_type": "code",
   "execution_count": 119,
   "metadata": {
    "collapsed": false
   },
   "outputs": [
    {
     "data": {
      "text/plain": [
       "0    1267\n",
       "1    1439\n",
       "2    3274\n",
       "3    0611\n",
       "4    1893\n",
       "Name: prod1, dtype: object"
      ]
     },
     "execution_count": 119,
     "metadata": {},
     "output_type": "execute_result"
    }
   ],
   "source": [
    "df.prod1.astype(str).str.pad(4, fillchar='0').head()"
   ]
  },
  {
   "cell_type": "markdown",
   "metadata": {},
   "source": [
    "## Get meaningful names for \"product code\"\n",
    "\n",
    "Join with `categories-cleaned.txt` to turn the codes into actual words. **When you read in `categories-cleaned.txt`, make sure it has 803 rows and 2 columns.**"
   ]
  },
  {
   "cell_type": "code",
   "execution_count": 151,
   "metadata": {
    "collapsed": false
   },
   "outputs": [],
   "source": [
    "df_cat = pd.read_csv('categories-cleaned.txt', sep =\",\", names = (\"code\", \"description\"))\n",
    "df_cat.code = df_cat.code.astype(str).str.pad(4, fillchar='0')"
   ]
  },
  {
   "cell_type": "code",
   "execution_count": 152,
   "metadata": {
    "collapsed": false
   },
   "outputs": [
    {
     "data": {
      "text/html": [
       "<div>\n",
       "<table border=\"1\" class=\"dataframe\">\n",
       "  <thead>\n",
       "    <tr style=\"text-align: right;\">\n",
       "      <th></th>\n",
       "      <th>code</th>\n",
       "      <th>description</th>\n",
       "    </tr>\n",
       "  </thead>\n",
       "  <tbody>\n",
       "    <tr>\n",
       "      <th>0</th>\n",
       "      <td>0102</td>\n",
       "      <td>Wringer washing machines</td>\n",
       "    </tr>\n",
       "    <tr>\n",
       "      <th>1</th>\n",
       "      <td>0106</td>\n",
       "      <td>Electric clothes dryers without washers</td>\n",
       "    </tr>\n",
       "    <tr>\n",
       "      <th>2</th>\n",
       "      <td>0107</td>\n",
       "      <td>Gas clothes dryers without washers</td>\n",
       "    </tr>\n",
       "    <tr>\n",
       "      <th>3</th>\n",
       "      <td>0110</td>\n",
       "      <td>Electric heating pads</td>\n",
       "    </tr>\n",
       "    <tr>\n",
       "      <th>4</th>\n",
       "      <td>0112</td>\n",
       "      <td>Sewing machines or accessories</td>\n",
       "    </tr>\n",
       "  </tbody>\n",
       "</table>\n",
       "</div>"
      ],
      "text/plain": [
       "   code                              description\n",
       "0  0102                 Wringer washing machines\n",
       "1  0106  Electric clothes dryers without washers\n",
       "2  0107       Gas clothes dryers without washers\n",
       "3  0110                    Electric heating pads\n",
       "4  0112           Sewing machines or accessories"
      ]
     },
     "execution_count": 152,
     "metadata": {},
     "output_type": "execute_result"
    }
   ],
   "source": [
    "df_cat.head()"
   ]
  },
  {
   "cell_type": "code",
   "execution_count": 156,
   "metadata": {
    "collapsed": false
   },
   "outputs": [
    {
     "data": {
      "text/html": [
       "<div>\n",
       "<table border=\"1\" class=\"dataframe\">\n",
       "  <thead>\n",
       "    <tr style=\"text-align: right;\">\n",
       "      <th></th>\n",
       "      <th>product_code</th>\n",
       "      <th>injury_count</th>\n",
       "      <th>code</th>\n",
       "      <th>description</th>\n",
       "    </tr>\n",
       "  </thead>\n",
       "  <tbody>\n",
       "    <tr>\n",
       "      <th>0</th>\n",
       "      <td>1842</td>\n",
       "      <td>57218</td>\n",
       "      <td>1842</td>\n",
       "      <td>Stairs or steps (excluding pull-down and foldi...</td>\n",
       "    </tr>\n",
       "    <tr>\n",
       "      <th>1</th>\n",
       "      <td>1807</td>\n",
       "      <td>56510</td>\n",
       "      <td>1807</td>\n",
       "      <td>Floors or flooring materials</td>\n",
       "    </tr>\n",
       "    <tr>\n",
       "      <th>2</th>\n",
       "      <td>4076</td>\n",
       "      <td>33414</td>\n",
       "      <td>4076</td>\n",
       "      <td>Beds or bedframes, other or not specified</td>\n",
       "    </tr>\n",
       "    <tr>\n",
       "      <th>3</th>\n",
       "      <td>1205</td>\n",
       "      <td>28190</td>\n",
       "      <td>1205</td>\n",
       "      <td>Basketball (activity, apparel or equipment)</td>\n",
       "    </tr>\n",
       "    <tr>\n",
       "      <th>4</th>\n",
       "      <td>5040</td>\n",
       "      <td>25474</td>\n",
       "      <td>5040</td>\n",
       "      <td>Bicycles or accessories (excluding mountain or...</td>\n",
       "    </tr>\n",
       "  </tbody>\n",
       "</table>\n",
       "</div>"
      ],
      "text/plain": [
       "  product_code  injury_count  code  \\\n",
       "0         1842         57218  1842   \n",
       "1         1807         56510  1807   \n",
       "2         4076         33414  4076   \n",
       "3         1205         28190  1205   \n",
       "4         5040         25474  5040   \n",
       "\n",
       "                                         description  \n",
       "0  Stairs or steps (excluding pull-down and foldi...  \n",
       "1                       Floors or flooring materials  \n",
       "2          Beds or bedframes, other or not specified  \n",
       "3        Basketball (activity, apparel or equipment)  \n",
       "4  Bicycles or accessories (excluding mountain or...  "
      ]
     },
     "execution_count": 156,
     "metadata": {},
     "output_type": "execute_result"
    }
   ],
   "source": [
    "df_final = df_inj.merge(df_cat, left_on='product_code', right_on='code')\n",
    "df_final.head()"
   ]
  },
  {
   "cell_type": "code",
   "execution_count": 157,
   "metadata": {
    "collapsed": false
   },
   "outputs": [
    {
     "data": {
      "text/html": [
       "<div>\n",
       "<table border=\"1\" class=\"dataframe\">\n",
       "  <thead>\n",
       "    <tr style=\"text-align: right;\">\n",
       "      <th></th>\n",
       "      <th>injury_count</th>\n",
       "      <th>code</th>\n",
       "      <th>description</th>\n",
       "    </tr>\n",
       "  </thead>\n",
       "  <tbody>\n",
       "    <tr>\n",
       "      <th>0</th>\n",
       "      <td>57218</td>\n",
       "      <td>1842</td>\n",
       "      <td>Stairs or steps (excluding pull-down and foldi...</td>\n",
       "    </tr>\n",
       "    <tr>\n",
       "      <th>1</th>\n",
       "      <td>56510</td>\n",
       "      <td>1807</td>\n",
       "      <td>Floors or flooring materials</td>\n",
       "    </tr>\n",
       "    <tr>\n",
       "      <th>2</th>\n",
       "      <td>33414</td>\n",
       "      <td>4076</td>\n",
       "      <td>Beds or bedframes, other or not specified</td>\n",
       "    </tr>\n",
       "    <tr>\n",
       "      <th>3</th>\n",
       "      <td>28190</td>\n",
       "      <td>1205</td>\n",
       "      <td>Basketball (activity, apparel or equipment)</td>\n",
       "    </tr>\n",
       "    <tr>\n",
       "      <th>4</th>\n",
       "      <td>25474</td>\n",
       "      <td>5040</td>\n",
       "      <td>Bicycles or accessories (excluding mountain or...</td>\n",
       "    </tr>\n",
       "  </tbody>\n",
       "</table>\n",
       "</div>"
      ],
      "text/plain": [
       "   injury_count  code                                        description\n",
       "0         57218  1842  Stairs or steps (excluding pull-down and foldi...\n",
       "1         56510  1807                       Floors or flooring materials\n",
       "2         33414  4076          Beds or bedframes, other or not specified\n",
       "3         28190  1205        Basketball (activity, apparel or equipment)\n",
       "4         25474  5040  Bicycles or accessories (excluding mountain or..."
      ]
     },
     "execution_count": 157,
     "metadata": {},
     "output_type": "execute_result"
    }
   ],
   "source": [
    "df_final.drop('product_code', axis=1, inplace=True)\n",
    "df_final.head()"
   ]
  },
  {
   "cell_type": "markdown",
   "metadata": {},
   "source": [
    "### Confirm that it worked by seeing if product code '0102' gives you 'Wringer washing machines\""
   ]
  },
  {
   "cell_type": "code",
   "execution_count": 159,
   "metadata": {
    "collapsed": false
   },
   "outputs": [
    {
     "data": {
      "text/html": [
       "<div>\n",
       "<table border=\"1\" class=\"dataframe\">\n",
       "  <thead>\n",
       "    <tr style=\"text-align: right;\">\n",
       "      <th></th>\n",
       "      <th>code</th>\n",
       "      <th>description</th>\n",
       "    </tr>\n",
       "  </thead>\n",
       "  <tbody>\n",
       "    <tr>\n",
       "      <th>0</th>\n",
       "      <td>0102</td>\n",
       "      <td>Wringer washing machines</td>\n",
       "    </tr>\n",
       "  </tbody>\n",
       "</table>\n",
       "</div>"
      ],
      "text/plain": [
       "   code               description\n",
       "0  0102  Wringer washing machines"
      ]
     },
     "execution_count": 159,
     "metadata": {},
     "output_type": "execute_result"
    }
   ],
   "source": [
    "df_cat.head(1)"
   ]
  },
  {
   "cell_type": "markdown",
   "metadata": {},
   "source": [
    "## Graph the top 10 most popular products for injuries "
   ]
  },
  {
   "cell_type": "code",
   "execution_count": 160,
   "metadata": {
    "collapsed": false
   },
   "outputs": [
    {
     "data": {
      "text/plain": [
       "<matplotlib.axes._subplots.AxesSubplot at 0x7c48caabe0>"
      ]
     },
     "execution_count": 160,
     "metadata": {},
     "output_type": "execute_result"
    },
    {
     "data": {
      "image/png": "[encoded data removed]",
      "text/plain": [
       "<matplotlib.figure.Figure at 0x7c48cb2e10>"
      ]
     },
     "metadata": {},
     "output_type": "display_data"
    }
   ],
   "source": [
    "df_final.head(10).sort_index(ascending= False).plot(kind='barh', x='description')"
   ]
  },
  {
   "cell_type": "code",
   "execution_count": null,
   "metadata": {
    "collapsed": true
   },
   "outputs": [],
   "source": []
  }
 ],
 "metadata": {
  "kernelspec": {
   "display_name": "Python 3",
   "language": "python",
   "name": "python3"
  },
  "language_info": {
   "codemirror_mode": {
    "name": "ipython",
    "version": 3
   },
   "file_extension": ".py",
   "mimetype": "text/x-python",
   "name": "python",
   "nbconvert_exporter": "python",
   "pygments_lexer": "ipython3",
   "version": "3.6.0"
  }
 },
 "nbformat": 4,
 "nbformat_minor": 2
}
