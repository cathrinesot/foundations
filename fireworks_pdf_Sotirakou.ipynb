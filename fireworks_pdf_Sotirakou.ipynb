{
 "cells": [
  {
   "cell_type": "markdown",
   "metadata": {},
   "source": [
    "# Downloaded this file from https://www.muckrock.com/foi/united-states-of-america-10/records-concerning-hillary-clintons-fireworks-show-29898/#files  \n",
    "    \n",
    "It contains some records concerning Hillary Clinton’s fireworks marine show.\n",
    "\n",
    "I did : pdf2txt.py FOIA_2017-CGFO-00433_Responsive_Documents.pdf -o output.txt  and then cleaned a little with regex."
   ]
  },
  {
   "cell_type": "code",
   "execution_count": null,
   "metadata": {
    "collapsed": true
   },
   "outputs": [],
   "source": [
    "import pdfquery"
   ]
  },
  {
   "cell_type": "code",
   "execution_count": 2,
   "metadata": {
    "collapsed": true
   },
   "outputs": [],
   "source": [
    "pdf = pdfquery.PDFQuery(\"FOIA_2017-CGFO-00433_Responsive_Documents.pdf\")\n",
    "pdf.load()"
   ]
  },
  {
   "cell_type": "code",
   "execution_count": 3,
   "metadata": {
    "collapsed": true
   },
   "outputs": [],
   "source": [
    "pdf.load()"
   ]
  },
  {
   "cell_type": "code",
   "execution_count": 8,
   "metadata": {},
   "outputs": [
    {
     "data": {
      "text/plain": [
       "[<LTTextLineHorizontal>]"
      ]
     },
     "execution_count": 8,
     "metadata": {},
     "output_type": "execute_result"
    }
   ],
   "source": [
    "label= pdf.pq('LTTextLineHorizontal:contains(\"Total Weight of Fireworks\")')\n",
    "label"
   ]
  },
  {
   "cell_type": "code",
   "execution_count": 10,
   "metadata": {},
   "outputs": [
    {
     "data": {
      "text/plain": [
       "'8a. Total Weight of Fireworks'"
      ]
     },
     "execution_count": 10,
     "metadata": {},
     "output_type": "execute_result"
    }
   ],
   "source": [
    "label.text()"
   ]
  },
  {
   "cell_type": "code",
   "execution_count": 11,
   "metadata": {
    "collapsed": true
   },
   "outputs": [],
   "source": [
    "##It doesn't catch the text benith so ..."
   ]
  },
  {
   "cell_type": "code",
   "execution_count": 31,
   "metadata": {
    "collapsed": true
   },
   "outputs": [],
   "source": [
    "import re"
   ]
  },
  {
   "cell_type": "code",
   "execution_count": 33,
   "metadata": {},
   "outputs": [],
   "source": [
    "f = open('/Users/catherine/Desktop/output.txt')"
   ]
  },
  {
   "cell_type": "code",
   "execution_count": 35,
   "metadata": {},
   "outputs": [],
   "source": [
    "fire = f.read()"
   ]
  },
  {
   "cell_type": "code",
   "execution_count": 36,
   "metadata": {},
   "outputs": [
    {
     "data": {
      "text/plain": [
       "'DEPARTMENT OF HOMELAND SECURITY\\n\\nAPPLICATION FOR MARINE EVENT\\n\\nOMB Number: 1625-0008\\n Expires: 9/30/2017\\n\\nDate Submitted: 10/20/2016     Tracking No:152845\\n\\n1. Please complete either this online form or a paper CG-4423.\\n2. This application must reach the appropriate Captain of the Port (selected via dropdown box) at least 135 days prior to the event.\\n3. Attach a section of a chart or scale drawing showing boundaries and/or courses and markers contemplated.\\n4. Submit a copy of your entry requirements, and any special rules pertaining to equipment, rigs or procedures.\\n\\nFORM INSTRUCTIONS\\n\\n1. Name of Event\\n\\nHillary Clinton Post Election Celebration\\n\\n3. Location of Event\\n\\nHudson River at 4045\\'35.5\"N 7400\\'30.9\"W\\nThe barge would be placed in the Hudson across from the Jacob Javits Center  where Hillary\\nClinton would be hosting an event on election night.\\nBarge would be set 500 feet West of the NYPD tow pound, between 34th and 40th street.\\n\\n2. Date of Event\\n\\n11/08/2016 -\\n11/09/2016\\n\\n4. Time From: 11:00 PM To: 12:30 AM\\n\\n5. Name and Address of Sponsoring Organization (Include Zip Code)\\n\\n6. No. of Participants\\n\\n7. Sizes of Boats\\n\\nHFACC, Inc., D/B/A Hillary For America\\nPO Box 1375\\nNew York, NY 10185\\n\\n0\\n\\n8. Types of Boats\\n\\nNone\\n\\n10. Description of Events\\n\\nNone.  This is a fireworks\\ndisplay to be launched from a\\nbarge in the Hudson River for\\na nationally televised audience\\nand Hillary Clinton at the Jacob\\nJavits Center\\n\\n9. No. of Spectator Craft\\n\\n0\\n\\nThis is a 2 minute long fireworks display to be launched from a barge in the Hudson River for a nationally televised audience and Hillary Clinton at the Jacob Javits\\nCenter.  The exact launch time of the event is unknown.  The timing will be based on when enough electoral votes have decided the presidency.  If Hillary Clinton wins\\nthe presidency, the fireworks display will be fired shortly after the announcement.  Shell size requested is 10\" Aerial Display Shells.\\n\\n11. Will This Event Interfere or Impede the Natural Flow of Traffic?  NO\\n\\n CG-4423 (3/2011)\\n\\n\\x0c11a. If YES briefly explain:\\n\\n There is ample room to navigate around the fallout zone.  Additionally, the display will only be 2 minutes in duration.\\n\\n12.What Extra or Unusual Hazard (to participants or non-participants) Will Be Introduced Into the Regatta Area?\\n\\nThis a fireworks display.\\n\\n13. Have any Objections Been Received from Other Interested Parties?  NO\\n\\n13a. If YES briefly explain:\\n\\n14. Vessels Provided by Sponsoring Organization for Safety Purposes (number, description and length)\\n\\nNumber\\n\\nDescription\\n\\n1\\n1\\n\\nSafety Boat with Red/Yellow Flashing Lights\\nBarge and Tug Boat\\n\\nLength\\n\\nTBD\\nTBD\\n\\n15. Does the Sponsoring Organization Deem their Patrol Adequate for Safety Purposes?  NO\\n\\n15a. If NO briefly explain:\\n\\n Because it is a fireworks display in the Hudson River for a presidential candidate we request USCG support.\\n\\n16. Is a Coast Guard or Coast Guard Auxiliary Patrol Requested for Control of Spectator and/or Commercial Traffic?  YES\\n\\n16a. If YES how many vessels do you recommend and why?:\\n\\n We recommend 1 or 2 support vessels since it is a fireworks display in the Hudson River for a high profile event.  Please note, the event is not being advertised so it\\nwill not draw an audience.\\n\\n17. Person In Charge\\n\\n18. Where Will \\'Person In Charge\\' be During Event?\\n\\nAt the Jacob Javits Center\\n\\n19. How Can \\'Person In Charge\\' be Contacted During the Event? By Cell Phone at \\n\\n CG-4423 (3/2011)\\n\\n\\x0c\\x0cSENSITIVE SECURITY INFORMATION \\n\\nWHEN FILLED OUT \\n\\n \\n\\n \\nFireworks Addendum to Application for Marine Event\\n \\n\\nInstructions: 1. This addendum must be submitted with the Application for Approval of Marine Event (cg-4423)\\n                     2. Attach a section of a chart or chart photocopy showing the display site. \\n                     3. Address questions concerning request to Sector LIS, Marine Event Permit Coordinator at (203) 468-4596 \\n\\n \\n\\n8a. Total Weight of Fireworks \\nNet Powder Weight is 500 lbs                                        \\n\\n8b. Hazard Class of Fireworks \\n1.3G UN0335 \\n\\n9. Quantities and Sizes of Shells to be Used and Their Maximum Altitude during the display \\nShell Sizes will range from 3” to 10” Aerial Display Shells.  Maximum Altitude would be 1200’. \\nQuantity of shells 1,000 \\n \\n10. Fire Department or Fire Marshall Point of Contact (Include phone number and Email address) \\nNew York Fire Department. Inspector \\n\\n, EXPLOUNIT@FDNY.NYC.GOV \\n\\n \\n\\n11. Describe in Detail Provisions made with Local Fire Department to Supply Fire Fighting Protection \\nDuring the Event \\n \\nNYFD will have multiple Firemen on the spacer barge.  \\n \\n12. List all Permits Required and Received from Local, State, and Federal Agencies \\n \\nPermit from NYFD and Keasby, NJ for loading site \\n \\n13. Licensed Fireworks Contractor (Name, Address, and Phone/Fax) \\nGarden State Fireworks, Inc. 383 Carlton Road, Millington, NJ 07946 (P)800-999-0912  \\n(Fax) 908-647-6258 \\n14. Will the site be compliant with 33 CFR § 126.15 & 126.27 at the time of loading/offloading? \\n \\nYes \\n \\n15. How will security be handled at the temporary designated waterfront facility? (If needed include \\nattachments) \\nFireworks will not be left unattended at anytime.  Security will be provided by Garden State Fireworks, \\nLocal Fire will be on standby. \\n \\n \\n \\n\\n \\n\\n \\n\\nDepartment of Homeland Security \\n\\nU.S. Coast Guard \\n\\nCG-COTPLIS-01 (REV. 12-10) \\n\\n \\n\\n \\n \\n\\n1.  Name of Event \\n\\nHillary Clinton Post Election Celebration \\n \\n2. Date and Time of Event \\nNovember 8, 2016.  Approximate Launch time is 11 pm \\n \\n\\n3. Rain Date, if any \\nNone. \\n \\n4.Name of Involved Tug(s) and Barge(s \\n\\n \\n\\nVinik Marine (Tug Name: Agnes) \\nBarge Size 130x40 (Name: Willets Point) and ‘spacer’ barge of 30x80. (Name: Vinik 1) \\n \\n5. Type of Deck Covering if Barge is of Wood Construction \\n \\nSteel Deck Barge \\n\\n6. The Exact Location of Vessel When Loading Fireworks \\nBay Shore Recycling, Keasby NJ \\n\\n7. Date and Time of Fireworks Loading \\nFireworks to be loaded on November 8th at 7 a m. \\n \\n\\n8. Time Vessels(s) Will Transit to Launch Site \\nBetween 3pm and 4pm \\n\\n \\nWarning:  This record, once filled out, contains Sensitive Security Information that is controlled under 49 CFR § 1520. No part of this record may be disclosed to persons \\nwithout “need to know” as defined by 49 CFR § 1520.5 except with the written permission of the Secretary of Homeland Security.  Unauthorized release may result in \\ncivil penalty or other action.  For U.S. Government agencies, public disclosure is governed by 5 U.S.C. 552 and 49 CFR § 1520. \\n \\n \\n\\nPage 1 of 2 Enclosure (9) \\n\\n \\n\\n\\x0c16. Latitude and Longitude of Launch Site \\n40°45\\'35.5\"N 74°00\\'30.9\"W \\n \\n17. Method of Securing Launch Vessel(s) at the Launch Site (The Towing Vessel is Required to \\nStand Off During the Fireworks display) \\nAttached to barge via spacer barge. \\n18. Time the Launch Vessel(s) will Depart Display Site After the Launch \\n \\nUpon completion of the display which is contingent upon final election result timing.  Estimated \\nto be 11pm or later. \\n \\n\\n \\n\\n \\n \\n\\n \\n\\n \\n\\n19. Responsible Official for the Sponsoring Organization that can be Contacted for Additional \\nInformation \\n\\n20  Name of Person Completing Addendum and Fax Number (For approved Permit) \\n\\n21. Not required but helpful:  Email address of Sponsor and Person Completing Addendum \\n\\nApplicant Read Before Signing \\n\\nI certify that the above information is true and accurate.  I am providing this information in order to obtain a Marine Event Permit to hold a fireworks display in accordance with  33 \\nCFR § 100.  I understand that if I make any false of fraudulent statement in this application, I may be subject to a fine or imprisonment of up to five (5) years, or both 18 U.S.C. 1001. \\n \\n                                             \\n                             Signature:\\n \\n \\n \\n\\n                                           10/21/16 \\n                                Date:                                                                                \\n\\nSPECIAL NOTE:  THE AREA DESIGNATED BY THE COAST GUARD AS A SAFETY ZONE MUST BE MARKED WITH ORANGE BUOYS BY THE SPONSOR \\n\\nThis Block for Coast Guard Use Only \\n\\n \\n\\nWarning:  This record, once filled out, contains Sensitive Security Information that is controlled under 49 CFR § 1520. No part of this record may be disclosed to persons \\nwithout “need to know” as defined by 49 CFR § 1520.5 except with the written permission of the Secretary of Homeland Security.  Unauthorized release may result in \\n\\ncivil penalty or other action.  For U.S. Government agencies, public disclosure is governed by 5 U.S.C. 552 and 49 CFR § 1520. \\n\\nSENSITIVE SECURITY INFORMATION \\n\\nWHEN FILLED OUT \\n\\n \\n\\n \\n\\n \\n \\n \\n\\n \\n\\nPage 2 of 2 Enclosure (9) \\n\\n \\n \\n \\n \\n\\n \\n \\n \\n \\n \\n \\n \\n \\n\\n \\n\\n\\x0c\\x0cOn Fri, Oct 21, 2016 at 9:08 AM, \\n\\n MST1 \\n\\n wrote:\\n\\n        Good morning \\nJavits Convention Center on November 8-9, 2016.\\n\\n, I have received an application for fireworks on the Hudson River in vicinity of the\\n\\n        \\n\\n        Since we have less than 20 days before the event, establishing a safety zone may not be possible for a barge\\nlaunch in the requested location. There is a pre-established safety zone just north of the Javits Center near pier 84, is\\nthere a possibility of launching from that location?\\n\\n        \\n\\n        Let me know and we\\'ll do our best to work with obtaining CG assets to enforce a safety zone for the barge.\\n\\n        \\n\\n        \\n\\n        Very Respectfully,\\n\\n        \\n\\n        MST1 \\n\\n        Sector New York\\n\\n        212 Coast Guard Drive\\n\\n        Staten Island, NY 10305\\n\\n        Waterways Management, Marine Events\\n\\n        \\n\\n        Fax:(718)354-4192 <tel:%28718%29354-4192>\\n\\n       \\n\\n\\x0c\\x0c\\x0c\\x0c\\x0cFrom:\\nTo:\\nSubject:\\n\\nDate:\\n\\n MST1\\n\\n[Non-DoD Source] Re: USCG Letter - Hillary Clinton Post Election Celebration - Fireworks Display - Pier 76,\\nHudson River, Manhattan, NY - November 8, 2016\\nMonday, October 31, 2016 8:50:39 AM\\n\\nPetty Officer\\n\\n,\\n\\nMy sincere thanks to you and your sector command for your assistance with this short notice event.  We truly\\nappreciate it.  Please do let me know if this is a future date where you would like to visit our facility as it remains an\\nopen invite. \\n\\nThanks,\\n\\nOn Mon, Oct 31, 2016 at 8:38 AM, \\n\\n MST1 \\n\\n wrote:\\n\\n        Good morning,\\n       \\n        Attached is your letter from the US Coast Guard for the \"Hillary Clinton\\n        Post Election Celebration\" - Fireworks Display - Pier 76, Hudson River,\\n        Manhattan, NY - November 8, 2016 as per Marine Event Application.\\n       \\n        If you have issues and require direct assistance on the day of the event\\n        please call our 24 hour Sector Command Center (718-354-4353 <tel:%28718-354-4353> ) so they may\\n        assist.  The Command Center works with the US Coast Guard Vessel Traffic\\n        System to ensure the smooth operation of the Port of New York and New\\n        Jersey.\\n       \\n        You are encouraged to contact Vessel Traffic Service New York (718)354-4088 <tel:%28718%29354-4088>\\n        or on VHF CH 11 fifteen minutes prior to the start of the event, and upon\\n        its completion.  Please give them all the basic background due to the large\\n        volume of events and actions that occur each day in NYC. Thank you for your\\n        follow up and please contact us for any future such events.\\n       \\n        If your event is cancelled or changed for any reason, it is your\\n        responsibility to contact the Coast Guard to provide proper notification.\\n        During normal business hours (Mon-Fri 7:30am-3:30pm) you can contact me at\\n        \\n.  If the event is cancelled\\n        after hours or on the weekend, please notify the Sector New York Command\\n        Center at 718-354-4353.\\n       \\n        Best of Luck, the Office of Waterway Management.\\n       \\n       \\n       \\n        Very Respectfully,\\n       \\n        MST1 \\n        Sector New York\\n\\n or MST1 \\n\\n at \\n\\n\\x0c        212 Coast Guard Drive\\n        Staten Island, NY 10305\\n        Waterways Management, Marine Events\\n        \\n        Fax:(718)354-4192\\n       \\n       \\n\\n\\x0c CIV\\n MST1\\n\\n LCDR\\n\\nRE: TMZ / Fireworks Show\\nWednesday, November 02, 2016 7:48:10 AM\\n\\nFrom:\\nTo:\\nCc:\\nSubject:\\nDate:\\n\\nThank you.\\n\\nU.S. Coast Guard Public Affairs\\nSector New York\\n718-354-2359 (w)\\n\\n MST1\\n\\n-----Original Message-----\\nFrom: \\nSent: Wednesday, November 02, 2016 7:47 AM\\nTo: \\nCc\\nSubject: FW: TMZ / Fireworks Show\\nImportance: High\\n\\n CIV\\n LCDR\\n\\nGood morning \\n\\n,\\n\\nWanted to forward this on to you. The fireworks in question are a non marine\\nevent and the sponsoring organization was sent a letter stating that fact,\\nthere is no approval or denial from our office. I\\'ve attached the event file\\nfor your awareness.\\n\\nVery Respectfully,\\n\\nMST1 \\n\\nSector New York\\n\\n212 Coast Guard Drive\\n\\nStaten Island, NY 10305\\n\\nWaterways Management, Marine Events\\n\\n\\x0cFax:(718)354-4192\\n\\n(*IC) [mailto\\n\\nFrom: \\nSent: Tuesday, November 01, 2016 4:33 PM\\nTo: \\nSubject: [Non-DoD Source] TMZ / Fireworks Show\\nImportance: High\\n\\nMST1\\n\\nOfficer\\n\\n,\\n\\n I\\'m a producer with TMZ.  I wanted to contact you to verify\\n\\nMy name is \\nthe approval of a fireworks show scheduled for Nov 8th at Pier 76 in the\\nHudson River for Hillary Clinton.  Thanks!\\n\\nTake care,\\n\\nSr. News Producer\\n\\nTMZ.com / TMZ TV / TMZ Live\\n\\nTMZ_Logo\\n\\n\\x0c\\x0c       \\n       \\n       \\n        Very Respectfully,\\n       \\n        MST1 \\n        Sector New York\\n        212 Coast Guard Drive\\n        Staten Island, NY 10305\\n        Waterways Management, Marine Events\\n        \\n        Fax:(718)354-4192\\n       \\n       \\n\\n\\x0c'"
      ]
     },
     "execution_count": 36,
     "metadata": {},
     "output_type": "execute_result"
    }
   ],
   "source": [
    "fire"
   ]
  },
  {
   "cell_type": "code",
   "execution_count": 40,
   "metadata": {},
   "outputs": [],
   "source": [
    "clean = re.sub(\"\\n+\", \" \", fire)"
   ]
  },
  {
   "cell_type": "code",
   "execution_count": 41,
   "metadata": {},
   "outputs": [
    {
     "data": {
      "text/plain": [
       "'DEPARTMENT OF HOMELAND SECURITY APPLICATION FOR MARINE EVENT OMB Number: 1625-0008  Expires: 9/30/2017 Date Submitted: 10/20/2016     Tracking No:152845 1. Please complete either this online form or a paper CG-4423. 2. This application must reach the appropriate Captain of the Port (selected via dropdown box) at least 135 days prior to the event. 3. Attach a section of a chart or scale drawing showing boundaries and/or courses and markers contemplated. 4. Submit a copy of your entry requirements, and any special rules pertaining to equipment, rigs or procedures. FORM INSTRUCTIONS 1. Name of Event Hillary Clinton Post Election Celebration 3. Location of Event Hudson River at 4045\\'35.5\"N 7400\\'30.9\"W The barge would be placed in the Hudson across from the Jacob Javits Center  where Hillary Clinton would be hosting an event on election night. Barge would be set 500 feet West of the NYPD tow pound, between 34th and 40th street. 2. Date of Event 11/08/2016 - 11/09/2016 4. Time From: 11:00 PM To: 12:30 AM 5. Name and Address of Sponsoring Organization (Include Zip Code) 6. No. of Participants 7. Sizes of Boats HFACC, Inc., D/B/A Hillary For America PO Box 1375 New York, NY 10185 0 8. Types of Boats None 10. Description of Events None.  This is a fireworks display to be launched from a barge in the Hudson River for a nationally televised audience and Hillary Clinton at the Jacob Javits Center 9. No. of Spectator Craft 0 This is a 2 minute long fireworks display to be launched from a barge in the Hudson River for a nationally televised audience and Hillary Clinton at the Jacob Javits Center.  The exact launch time of the event is unknown.  The timing will be based on when enough electoral votes have decided the presidency.  If Hillary Clinton wins the presidency, the fireworks display will be fired shortly after the announcement.  Shell size requested is 10\" Aerial Display Shells. 11. Will This Event Interfere or Impede the Natural Flow of Traffic?  NO  CG-4423 (3/2011) \\x0c11a. If YES briefly explain:  There is ample room to navigate around the fallout zone.  Additionally, the display will only be 2 minutes in duration. 12.What Extra or Unusual Hazard (to participants or non-participants) Will Be Introduced Into the Regatta Area? This a fireworks display. 13. Have any Objections Been Received from Other Interested Parties?  NO 13a. If YES briefly explain: 14. Vessels Provided by Sponsoring Organization for Safety Purposes (number, description and length) Number Description 1 1 Safety Boat with Red/Yellow Flashing Lights Barge and Tug Boat Length TBD TBD 15. Does the Sponsoring Organization Deem their Patrol Adequate for Safety Purposes?  NO 15a. If NO briefly explain:  Because it is a fireworks display in the Hudson River for a presidential candidate we request USCG support. 16. Is a Coast Guard or Coast Guard Auxiliary Patrol Requested for Control of Spectator and/or Commercial Traffic?  YES 16a. If YES how many vessels do you recommend and why?:  We recommend 1 or 2 support vessels since it is a fireworks display in the Hudson River for a high profile event.  Please note, the event is not being advertised so it will not draw an audience. 17. Person In Charge 18. Where Will \\'Person In Charge\\' be During Event? At the Jacob Javits Center 19. How Can \\'Person In Charge\\' be Contacted During the Event? By Cell Phone at   CG-4423 (3/2011) \\x0c\\x0cSENSITIVE SECURITY INFORMATION  WHEN FILLED OUT      Fireworks Addendum to Application for Marine Event   Instructions: 1. This addendum must be submitted with the Application for Approval of Marine Event (cg-4423)                      2. Attach a section of a chart or chart photocopy showing the display site.                       3. Address questions concerning request to Sector LIS, Marine Event Permit Coordinator at (203) 468-4596    8a. Total Weight of Fireworks  Net Powder Weight is 500 lbs                                         8b. Hazard Class of Fireworks  1.3G UN0335  9. Quantities and Sizes of Shells to be Used and Their Maximum Altitude during the display  Shell Sizes will range from 3” to 10” Aerial Display Shells.  Maximum Altitude would be 1200’.  Quantity of shells 1,000    10. Fire Department or Fire Marshall Point of Contact (Include phone number and Email address)  New York Fire Department. Inspector  , EXPLOUNIT@FDNY.NYC.GOV    11. Describe in Detail Provisions made with Local Fire Department to Supply Fire Fighting Protection  During the Event    NYFD will have multiple Firemen on the spacer barge.     12. List all Permits Required and Received from Local, State, and Federal Agencies    Permit from NYFD and Keasby, NJ for loading site    13. Licensed Fireworks Contractor (Name, Address, and Phone/Fax)  Garden State Fireworks, Inc. 383 Carlton Road, Millington, NJ 07946 (P)800-999-0912   (Fax) 908-647-6258  14. Will the site be compliant with 33 CFR § 126.15 & 126.27 at the time of loading/offloading?    Yes    15. How will security be handled at the temporary designated waterfront facility? (If needed include  attachments)  Fireworks will not be left unattended at anytime.  Security will be provided by Garden State Fireworks,  Local Fire will be on standby.            Department of Homeland Security  U.S. Coast Guard  CG-COTPLIS-01 (REV. 12-10)        1.  Name of Event  Hillary Clinton Post Election Celebration    2. Date and Time of Event  November 8, 2016.  Approximate Launch time is 11 pm    3. Rain Date, if any  None.    4.Name of Involved Tug(s) and Barge(s    Vinik Marine (Tug Name: Agnes)  Barge Size 130x40 (Name: Willets Point) and ‘spacer’ barge of 30x80. (Name: Vinik 1)    5. Type of Deck Covering if Barge is of Wood Construction    Steel Deck Barge  6. The Exact Location of Vessel When Loading Fireworks  Bay Shore Recycling, Keasby NJ  7. Date and Time of Fireworks Loading  Fireworks to be loaded on November 8th at 7 a m.    8. Time Vessels(s) Will Transit to Launch Site  Between 3pm and 4pm    Warning:  This record, once filled out, contains Sensitive Security Information that is controlled under 49 CFR § 1520. No part of this record may be disclosed to persons  without “need to know” as defined by 49 CFR § 1520.5 except with the written permission of the Secretary of Homeland Security.  Unauthorized release may result in  civil penalty or other action.  For U.S. Government agencies, public disclosure is governed by 5 U.S.C. 552 and 49 CFR § 1520.      Page 1 of 2 Enclosure (9)    \\x0c16. Latitude and Longitude of Launch Site  40°45\\'35.5\"N 74°00\\'30.9\"W    17. Method of Securing Launch Vessel(s) at the Launch Site (The Towing Vessel is Required to  Stand Off During the Fireworks display)  Attached to barge via spacer barge.  18. Time the Launch Vessel(s) will Depart Display Site After the Launch    Upon completion of the display which is contingent upon final election result timing.  Estimated  to be 11pm or later.              19. Responsible Official for the Sponsoring Organization that can be Contacted for Additional  Information  20  Name of Person Completing Addendum and Fax Number (For approved Permit)  21. Not required but helpful:  Email address of Sponsor and Person Completing Addendum  Applicant Read Before Signing  I certify that the above information is true and accurate.  I am providing this information in order to obtain a Marine Event Permit to hold a fireworks display in accordance with  33  CFR § 100.  I understand that if I make any false of fraudulent statement in this application, I may be subject to a fine or imprisonment of up to five (5) years, or both 18 U.S.C. 1001.                                                                               Signature:                                                  10/21/16                                  Date:                                                                                 SPECIAL NOTE:  THE AREA DESIGNATED BY THE COAST GUARD AS A SAFETY ZONE MUST BE MARKED WITH ORANGE BUOYS BY THE SPONSOR  This Block for Coast Guard Use Only    Warning:  This record, once filled out, contains Sensitive Security Information that is controlled under 49 CFR § 1520. No part of this record may be disclosed to persons  without “need to know” as defined by 49 CFR § 1520.5 except with the written permission of the Secretary of Homeland Security.  Unauthorized release may result in  civil penalty or other action.  For U.S. Government agencies, public disclosure is governed by 5 U.S.C. 552 and 49 CFR § 1520.  SENSITIVE SECURITY INFORMATION  WHEN FILLED OUT              Page 2 of 2 Enclosure (9)                            \\x0c\\x0cOn Fri, Oct 21, 2016 at 9:08 AM,   MST1   wrote:         Good morning  Javits Convention Center on November 8-9, 2016. , I have received an application for fireworks on the Hudson River in vicinity of the                  Since we have less than 20 days before the event, establishing a safety zone may not be possible for a barge launch in the requested location. There is a pre-established safety zone just north of the Javits Center near pier 84, is there a possibility of launching from that location?                  Let me know and we\\'ll do our best to work with obtaining CG assets to enforce a safety zone for the barge.                           Very Respectfully,                  MST1          Sector New York         212 Coast Guard Drive         Staten Island, NY 10305         Waterways Management, Marine Events                  Fax:(718)354-4192 <tel:%28718%29354-4192>         \\x0c\\x0c\\x0c\\x0c\\x0cFrom: To: Subject: Date:  MST1 [Non-DoD Source] Re: USCG Letter - Hillary Clinton Post Election Celebration - Fireworks Display - Pier 76, Hudson River, Manhattan, NY - November 8, 2016 Monday, October 31, 2016 8:50:39 AM Petty Officer , My sincere thanks to you and your sector command for your assistance with this short notice event.  We truly appreciate it.  Please do let me know if this is a future date where you would like to visit our facility as it remains an open invite.  Thanks, On Mon, Oct 31, 2016 at 8:38 AM,   MST1   wrote:         Good morning,                 Attached is your letter from the US Coast Guard for the \"Hillary Clinton         Post Election Celebration\" - Fireworks Display - Pier 76, Hudson River,         Manhattan, NY - November 8, 2016 as per Marine Event Application.                 If you have issues and require direct assistance on the day of the event         please call our 24 hour Sector Command Center (718-354-4353 <tel:%28718-354-4353> ) so they may         assist.  The Command Center works with the US Coast Guard Vessel Traffic         System to ensure the smooth operation of the Port of New York and New         Jersey.                 You are encouraged to contact Vessel Traffic Service New York (718)354-4088 <tel:%28718%29354-4088>         or on VHF CH 11 fifteen minutes prior to the start of the event, and upon         its completion.  Please give them all the basic background due to the large         volume of events and actions that occur each day in NYC. Thank you for your         follow up and please contact us for any future such events.                 If your event is cancelled or changed for any reason, it is your         responsibility to contact the Coast Guard to provide proper notification.         During normal business hours (Mon-Fri 7:30am-3:30pm) you can contact me at          .  If the event is cancelled         after hours or on the weekend, please notify the Sector New York Command         Center at 718-354-4353.                 Best of Luck, the Office of Waterway Management.                                 Very Respectfully,                 MST1          Sector New York  or MST1   at  \\x0c        212 Coast Guard Drive         Staten Island, NY 10305         Waterways Management, Marine Events                  Fax:(718)354-4192                 \\x0c CIV  MST1  LCDR RE: TMZ / Fireworks Show Wednesday, November 02, 2016 7:48:10 AM From: To: Cc: Subject: Date: Thank you. U.S. Coast Guard Public Affairs Sector New York 718-354-2359 (w)  MST1 -----Original Message----- From:  Sent: Wednesday, November 02, 2016 7:47 AM To:  Cc Subject: FW: TMZ / Fireworks Show Importance: High  CIV  LCDR Good morning  , Wanted to forward this on to you. The fireworks in question are a non marine event and the sponsoring organization was sent a letter stating that fact, there is no approval or denial from our office. I\\'ve attached the event file for your awareness. Very Respectfully, MST1  Sector New York 212 Coast Guard Drive Staten Island, NY 10305 Waterways Management, Marine Events \\x0cFax:(718)354-4192 (*IC) [mailto From:  Sent: Tuesday, November 01, 2016 4:33 PM To:  Subject: [Non-DoD Source] TMZ / Fireworks Show Importance: High MST1 Officer ,  I\\'m a producer with TMZ.  I wanted to contact you to verify My name is  the approval of a fireworks show scheduled for Nov 8th at Pier 76 in the Hudson River for Hillary Clinton.  Thanks! Take care, Sr. News Producer TMZ.com / TMZ TV / TMZ Live TMZ_Logo \\x0c\\x0c                                Very Respectfully,                 MST1          Sector New York         212 Coast Guard Drive         Staten Island, NY 10305         Waterways Management, Marine Events                  Fax:(718)354-4192                 \\x0c'"
      ]
     },
     "execution_count": 41,
     "metadata": {},
     "output_type": "execute_result"
    }
   ],
   "source": [
    "clean"
   ]
  },
  {
   "cell_type": "code",
   "execution_count": 53,
   "metadata": {},
   "outputs": [
    {
     "data": {
      "text/plain": [
       "['10/20/2016    ']"
      ]
     },
     "execution_count": 53,
     "metadata": {},
     "output_type": "execute_result"
    }
   ],
   "source": [
    "my_regex = r\"Date Submitted: (.*) Tracking\"\n",
    "start_end_date_time = re.findall(my_regex, clean)\n",
    "start_end_date_time"
   ]
  }
 ],
 "metadata": {
  "kernelspec": {
   "display_name": "Python 3",
   "language": "python",
   "name": "python3"
  },
  "language_info": {
   "codemirror_mode": {
    "name": "ipython",
    "version": 3
   },
   "file_extension": ".py",
   "mimetype": "text/x-python",
   "name": "python",
   "nbconvert_exporter": "python",
   "pygments_lexer": "ipython3",
   "version": "3.6.1"
  }
 },
 "nbformat": 4,
 "nbformat_minor": 2
}
