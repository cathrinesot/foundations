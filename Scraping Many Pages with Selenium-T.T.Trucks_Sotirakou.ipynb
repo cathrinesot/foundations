{
 "cells": [
  {
   "cell_type": "markdown",
   "metadata": {},
   "source": [
    "# Texas Tow Trucks (`.apply` and Selenium)\n",
    "\n",
    "We're going to scrape some [tow trucks in Texas](https://www.tdlr.texas.gov/tools_search/).\n",
    "\n",
    "Try searching for the TLDR Number `006179570C`."
   ]
  },
  {
   "cell_type": "markdown",
   "metadata": {},
   "source": [
    "## Preparation"
   ]
  },
  {
   "cell_type": "markdown",
   "metadata": {},
   "source": [
    "### What URL will Selenium be starting on?\n",
    "\n",
    "- Tip: The answer is *not* `https://www.tdlr.texas.gov/tools_search/`"
   ]
  },
  {
   "cell_type": "code",
   "execution_count": 4,
   "metadata": {
    "collapsed": true
   },
   "outputs": [],
   "source": [
    "#https://www.tdlr.texas.gov/tools_search/mccs_search.asp"
   ]
  },
  {
   "cell_type": "markdown",
   "metadata": {},
   "source": [
    "### Why are you using Selenium for this?"
   ]
  },
  {
   "cell_type": "code",
   "execution_count": 5,
   "metadata": {
    "collapsed": true
   },
   "outputs": [],
   "source": [
    "#because the page doesn't give us the data if we use bots! it needs a browser"
   ]
  },
  {
   "cell_type": "markdown",
   "metadata": {},
   "source": [
    "## Scrape this page\n",
    "\n",
    "Scrape this page, displaying the\n",
    "\n",
    "- The business name\n",
    "- Phone number\n",
    "- License status\n",
    "- Physical address\n",
    "\n",
    "- *TIP: For physical address, **ask me on the board** and I'll give you a secret trick about situations like this.*"
   ]
  },
  {
   "cell_type": "code",
   "execution_count": 39,
   "metadata": {},
   "outputs": [],
   "source": [
    "from selenium import webdriver\n",
    "\n",
    "chrome_options = webdriver.ChromeOptions()\n",
    "chrome_options.add_argument(\"--incognito\")\n",
    "\n",
    "driver = webdriver.Chrome(chrome_options=chrome_options)\n",
    "driver.get('https://www.tdlr.texas.gov/tools_search/mccs_search.asp')"
   ]
  },
  {
   "cell_type": "code",
   "execution_count": 31,
   "metadata": {},
   "outputs": [],
   "source": [
    "check_box = driver.find_element_by_xpath('//*[@id=\"mcrbutton\"]')\n",
    "check_box.click()\n",
    "\n",
    "search_in = driver.find_element_by_xpath('//*[@id=\"mcrdata\"]')\n",
    "search_in.click()\n",
    "search_in.send_keys(\"006179570C\")\n"
   ]
  },
  {
   "cell_type": "code",
   "execution_count": 32,
   "metadata": {
    "collapsed": true
   },
   "outputs": [],
   "source": [
    "search_box = driver.find_element_by_xpath('//*[@id=\"submit3\"]').click()"
   ]
  },
  {
   "cell_type": "code",
   "execution_count": 33,
   "metadata": {},
   "outputs": [
    {
     "data": {
      "text/plain": [
       "'Name:   B.D. SMITH TOWING'"
      ]
     },
     "execution_count": 33,
     "metadata": {},
     "output_type": "execute_result"
    }
   ],
   "source": [
    "name = driver.find_element_by_xpath('//*[@id=\"t1\"]/tbody/tr/td/font/table[2]/tbody/tr[2]/td[1]').text\n",
    "name"
   ]
  },
  {
   "cell_type": "code",
   "execution_count": 10,
   "metadata": {},
   "outputs": [
    {
     "data": {
      "text/plain": [
       "'Phone:   8173330706'"
      ]
     },
     "execution_count": 10,
     "metadata": {},
     "output_type": "execute_result"
    }
   ],
   "source": [
    "phone = driver.find_element_by_xpath('//*[@id=\"t1\"]/tbody/tr/td/font/table[2]/tbody/tr[4]/td[1]').text\n",
    "phone"
   ]
  },
  {
   "cell_type": "code",
   "execution_count": 11,
   "metadata": {},
   "outputs": [
    {
     "data": {
      "text/plain": [
       "'Active'"
      ]
     },
     "execution_count": 11,
     "metadata": {},
     "output_type": "execute_result"
    }
   ],
   "source": [
    "status = driver.find_element_by_xpath('//*[@id=\"t1\"]/tbody/tr/td/font/table[3]/tbody/tr[1]/td[2]/font/font').text\n",
    "status"
   ]
  },
  {
   "cell_type": "code",
   "execution_count": 12,
   "metadata": {},
   "outputs": [
    {
     "name": "stdout",
     "output_type": "stream",
     "text": [
      "13619 BRETT JACKSON RD.\n",
      "FORT WORTH, TX. 76179\n"
     ]
    }
   ],
   "source": [
    "physical = driver.find_element_by_xpath('//*[@id=\"t1\"]/tbody/tr/td/font/table[3]/tbody/tr[2]/td[2]')\n",
    "print(physical.text.split(\":\")[-1].strip())"
   ]
  },
  {
   "cell_type": "code",
   "execution_count": 34,
   "metadata": {
    "collapsed": true
   },
   "outputs": [],
   "source": [
    "from bs4 import BeautifulSoup\n",
    "doc = BeautifulSoup(driver.page_source, 'html.parser')"
   ]
  },
  {
   "cell_type": "markdown",
   "metadata": {},
   "source": [
    "# Using .apply to find data about SEVERAL tow truck companies\n",
    "\n",
    "The file `trucks-subset.csv` has information about the trucks, we'll use it to find the pages to scrape.\n",
    "\n",
    "### Open up `trucks-subset.csv` and save it into a dataframe"
   ]
  },
  {
   "cell_type": "code",
   "execution_count": 44,
   "metadata": {
    "collapsed": true
   },
   "outputs": [],
   "source": [
    "import pandas as pd"
   ]
  },
  {
   "cell_type": "code",
   "execution_count": 45,
   "metadata": {},
   "outputs": [
    {
     "data": {
      "text/html": [
       "<div>\n",
       "<style>\n",
       "    .dataframe thead tr:only-child th {\n",
       "        text-align: right;\n",
       "    }\n",
       "\n",
       "    .dataframe thead th {\n",
       "        text-align: left;\n",
       "    }\n",
       "\n",
       "    .dataframe tbody tr th {\n",
       "        vertical-align: top;\n",
       "    }\n",
       "</style>\n",
       "<table border=\"1\" class=\"dataframe\">\n",
       "  <thead>\n",
       "    <tr style=\"text-align: right;\">\n",
       "      <th></th>\n",
       "      <th>TDLR Number</th>\n",
       "    </tr>\n",
       "  </thead>\n",
       "  <tbody>\n",
       "    <tr>\n",
       "      <th>0</th>\n",
       "      <td>006507931C</td>\n",
       "    </tr>\n",
       "    <tr>\n",
       "      <th>1</th>\n",
       "      <td>006179570C</td>\n",
       "    </tr>\n",
       "    <tr>\n",
       "      <th>2</th>\n",
       "      <td>006502097C</td>\n",
       "    </tr>\n",
       "  </tbody>\n",
       "</table>\n",
       "</div>"
      ],
      "text/plain": [
       "  TDLR Number\n",
       "0  006507931C\n",
       "1  006179570C\n",
       "2  006502097C"
      ]
     },
     "execution_count": 45,
     "metadata": {},
     "output_type": "execute_result"
    }
   ],
   "source": [
    "df = pd.read_csv(\"trucks-subset.csv\")\n",
    "df"
   ]
  },
  {
   "cell_type": "markdown",
   "metadata": {},
   "source": [
    "### Open up `trucks-subset.csv` in a text editor, then look at your dataframe. Is something different about them? If so, make them match.\n",
    "\n",
    "- *TIP: I can help with this.*"
   ]
  },
  {
   "cell_type": "code",
   "execution_count": 16,
   "metadata": {
    "collapsed": true
   },
   "outputs": [],
   "source": [
    "#no"
   ]
  },
  {
   "cell_type": "markdown",
   "metadata": {},
   "source": [
    "## Use `.apply` to go through each row of the dataset, printing out information about each tow truck company.\n",
    "\n",
    "- The business name\n",
    "- Phone number\n",
    "- License status\n",
    "- Physical address\n",
    "\n",
    "Just print it out for now.\n",
    "\n",
    "- *TIP: use .apply and a function*\n",
    "- *TIP: If you need help with .apply, look at the \"Using apply in pandas\" notebook *"
   ]
  },
  {
   "cell_type": "code",
   "execution_count": 46,
   "metadata": {},
   "outputs": [
    {
     "data": {
      "text/plain": [
       "0    (Name:   AUGUSTUS E SMITH, Phone:   9032276464...\n",
       "1    (Name:   B.D. SMITH TOWING, Phone:   817333070...\n",
       "2    (Name:   BARRY MICHAEL SMITH, Phone:   8066544...\n",
       "dtype: object"
      ]
     },
     "execution_count": 46,
     "metadata": {},
     "output_type": "execute_result"
    }
   ],
   "source": [
    "\n",
    "\n",
    "def info(row):\n",
    "    driver = webdriver.Chrome(chrome_options=chrome_options)\n",
    "    driver.get('https://www.tdlr.texas.gov/tools_search/mccs_search.asp')\n",
    "    check_box = driver.find_element_by_xpath('//*[@id=\"mcrbutton\"]')\n",
    "    check_box.click()\n",
    "    search_in = driver.find_element_by_xpath('//*[@id=\"mcrdata\"]')\n",
    "    search_in.click()\n",
    "    search_in.send_keys(row['TDLR Number'])\n",
    "    driver.find_element_by_xpath('//*[@id=\"submit3\"]').click()\n",
    "    name = driver.find_element_by_xpath('//*[@id=\"t1\"]/tbody/tr/td/font/table[2]/tbody/tr[2]/td[1]').text\n",
    "    phone = driver.find_element_by_xpath('//*[@id=\"t1\"]/tbody/tr/td/font/table[2]/tbody/tr[4]/td[1]').text\n",
    "    status = driver.find_element_by_xpath('//*[@id=\"t1\"]/tbody/tr/td/font/table[3]/tbody/tr[1]/td[2]/font/font').text\n",
    "    physical = driver.find_element_by_xpath('//*[@id=\"t1\"]/tbody/tr/td/font/table[3]/tbody/tr[2]/td[2]')\n",
    "    return name, phone, status, physical.text.split(\":\")[-1].strip()\n",
    "\n",
    "\n",
    "df.apply(info, axis=1)\n",
    "\n"
   ]
  },
  {
   "cell_type": "markdown",
   "metadata": {},
   "source": [
    "## Scrape the following information for each row of the dataset, and save it into new columns in your dataframe.\n",
    "\n",
    "- The business name\n",
    "- Phone number\n",
    "- License status\n",
    "- Physical address\n",
    "\n",
    "It's basically what we did before, but using the function a little differently.\n",
    "\n",
    "- *TIP: Use .apply and a function*\n",
    "- *TIP: Remember to use `return`*"
   ]
  },
  {
   "cell_type": "code",
   "execution_count": 50,
   "metadata": {},
   "outputs": [],
   "source": [
    "def infophone(row):\n",
    "    driver = webdriver.Chrome(chrome_options=chrome_options)\n",
    "    driver.get('https://www.tdlr.texas.gov/tools_search/mccs_search.asp')\n",
    "    check_box = driver.find_element_by_xpath('//*[@id=\"mcrbutton\"]')\n",
    "    check_box.click()\n",
    "    search_in = driver.find_element_by_xpath('//*[@id=\"mcrdata\"]')\n",
    "    search_in.click()\n",
    "    search_in.send_keys(row['TDLR Number'])\n",
    "    driver.find_element_by_xpath('//*[@id=\"submit3\"]').click()\n",
    "    name = driver.find_element_by_xpath('//*[@id=\"t1\"]/tbody/tr/td/font/table[2]/tbody/tr[2]/td[1]').text\n",
    "    phone = driver.find_element_by_xpath('//*[@id=\"t1\"]/tbody/tr/td/font/table[2]/tbody/tr[4]/td[1]').text\n",
    "    status = driver.find_element_by_xpath('//*[@id=\"t1\"]/tbody/tr/td/font/table[3]/tbody/tr[1]/td[2]/font/font').text\n",
    "    physical = driver.find_element_by_xpath('//*[@id=\"t1\"]/tbody/tr/td/font/table[3]/tbody/tr[2]/td[2]')\n",
    "    return pd.Series({\n",
    "        'name': name,\n",
    "        'phone': phone,\n",
    "        'status': status,\n",
    "        'physical': physical.text.split(\":\")[-1].strip()\n",
    "    })\n",
    "\n",
    "#df.apply(infophone, axis=1)\n",
    "df = df.apply(infophone, axis=1).join(df)\n",
    "#df.head()\n"
   ]
  },
  {
   "cell_type": "code",
   "execution_count": 53,
   "metadata": {},
   "outputs": [
    {
     "data": {
      "text/html": [
       "<div>\n",
       "<style>\n",
       "    .dataframe thead tr:only-child th {\n",
       "        text-align: right;\n",
       "    }\n",
       "\n",
       "    .dataframe thead th {\n",
       "        text-align: left;\n",
       "    }\n",
       "\n",
       "    .dataframe tbody tr th {\n",
       "        vertical-align: top;\n",
       "    }\n",
       "</style>\n",
       "<table border=\"1\" class=\"dataframe\">\n",
       "  <thead>\n",
       "    <tr style=\"text-align: right;\">\n",
       "      <th></th>\n",
       "      <th>name</th>\n",
       "      <th>phone</th>\n",
       "      <th>physical</th>\n",
       "      <th>status</th>\n",
       "      <th>TDLR Number</th>\n",
       "    </tr>\n",
       "  </thead>\n",
       "  <tbody>\n",
       "    <tr>\n",
       "      <th>0</th>\n",
       "      <td>Name:   AUGUSTUS E SMITH</td>\n",
       "      <td>Phone:   9032276464</td>\n",
       "      <td>103 N MAIN ST\\nBONHAM, TX. 75418</td>\n",
       "      <td>Active</td>\n",
       "      <td>006507931C</td>\n",
       "    </tr>\n",
       "    <tr>\n",
       "      <th>1</th>\n",
       "      <td>Name:   B.D. SMITH TOWING</td>\n",
       "      <td>Phone:   8173330706</td>\n",
       "      <td>13619 BRETT JACKSON RD.\\nFORT WORTH, TX. 76179</td>\n",
       "      <td>Active</td>\n",
       "      <td>006179570C</td>\n",
       "    </tr>\n",
       "    <tr>\n",
       "      <th>2</th>\n",
       "      <td>Name:   BARRY MICHAEL SMITH</td>\n",
       "      <td>Phone:   8066544404</td>\n",
       "      <td>4501 W CEMETERY RD\\nCANYON, TX. 79015</td>\n",
       "      <td>Active</td>\n",
       "      <td>006502097C</td>\n",
       "    </tr>\n",
       "  </tbody>\n",
       "</table>\n",
       "</div>"
      ],
      "text/plain": [
       "                          name                phone  \\\n",
       "0     Name:   AUGUSTUS E SMITH  Phone:   9032276464   \n",
       "1    Name:   B.D. SMITH TOWING  Phone:   8173330706   \n",
       "2  Name:   BARRY MICHAEL SMITH  Phone:   8066544404   \n",
       "\n",
       "                                         physical  status TDLR Number  \n",
       "0                103 N MAIN ST\\nBONHAM, TX. 75418  Active  006507931C  \n",
       "1  13619 BRETT JACKSON RD.\\nFORT WORTH, TX. 76179  Active  006179570C  \n",
       "2           4501 W CEMETERY RD\\nCANYON, TX. 79015  Active  006502097C  "
      ]
     },
     "execution_count": 53,
     "metadata": {},
     "output_type": "execute_result"
    }
   ],
   "source": [
    "df"
   ]
  },
  {
   "cell_type": "code",
   "execution_count": 54,
   "metadata": {},
   "outputs": [
    {
     "data": {
      "text/html": [
       "<div>\n",
       "<style>\n",
       "    .dataframe thead tr:only-child th {\n",
       "        text-align: right;\n",
       "    }\n",
       "\n",
       "    .dataframe thead th {\n",
       "        text-align: left;\n",
       "    }\n",
       "\n",
       "    .dataframe tbody tr th {\n",
       "        vertical-align: top;\n",
       "    }\n",
       "</style>\n",
       "<table border=\"1\" class=\"dataframe\">\n",
       "  <thead>\n",
       "    <tr style=\"text-align: right;\">\n",
       "      <th></th>\n",
       "      <th>name</th>\n",
       "      <th>phone</th>\n",
       "      <th>physical</th>\n",
       "      <th>status</th>\n",
       "      <th>TDLR Number</th>\n",
       "    </tr>\n",
       "  </thead>\n",
       "  <tbody>\n",
       "    <tr>\n",
       "      <th>0</th>\n",
       "      <td>AUGUSTUS E SMITH</td>\n",
       "      <td>Phone:   9032276464</td>\n",
       "      <td>103 N MAIN ST\\nBONHAM, TX. 75418</td>\n",
       "      <td>Active</td>\n",
       "      <td>006507931C</td>\n",
       "    </tr>\n",
       "    <tr>\n",
       "      <th>1</th>\n",
       "      <td>B.D. SMITH TOWING</td>\n",
       "      <td>Phone:   8173330706</td>\n",
       "      <td>13619 BRETT JACKSON RD.\\nFORT WORTH, TX. 76179</td>\n",
       "      <td>Active</td>\n",
       "      <td>006179570C</td>\n",
       "    </tr>\n",
       "    <tr>\n",
       "      <th>2</th>\n",
       "      <td>BARRY MICHAEL SMITH</td>\n",
       "      <td>Phone:   8066544404</td>\n",
       "      <td>4501 W CEMETERY RD\\nCANYON, TX. 79015</td>\n",
       "      <td>Active</td>\n",
       "      <td>006502097C</td>\n",
       "    </tr>\n",
       "  </tbody>\n",
       "</table>\n",
       "</div>"
      ],
      "text/plain": [
       "                    name                phone  \\\n",
       "0       AUGUSTUS E SMITH  Phone:   9032276464   \n",
       "1      B.D. SMITH TOWING  Phone:   8173330706   \n",
       "2    BARRY MICHAEL SMITH  Phone:   8066544404   \n",
       "\n",
       "                                         physical  status TDLR Number  \n",
       "0                103 N MAIN ST\\nBONHAM, TX. 75418  Active  006507931C  \n",
       "1  13619 BRETT JACKSON RD.\\nFORT WORTH, TX. 76179  Active  006179570C  \n",
       "2           4501 W CEMETERY RD\\nCANYON, TX. 79015  Active  006502097C  "
      ]
     },
     "execution_count": 54,
     "metadata": {},
     "output_type": "execute_result"
    }
   ],
   "source": [
    "df['name'] = df['name'].str.replace(\"Name: \", \"\")\n",
    "df"
   ]
  },
  {
   "cell_type": "code",
   "execution_count": 55,
   "metadata": {},
   "outputs": [
    {
     "data": {
      "text/html": [
       "<div>\n",
       "<style>\n",
       "    .dataframe thead tr:only-child th {\n",
       "        text-align: right;\n",
       "    }\n",
       "\n",
       "    .dataframe thead th {\n",
       "        text-align: left;\n",
       "    }\n",
       "\n",
       "    .dataframe tbody tr th {\n",
       "        vertical-align: top;\n",
       "    }\n",
       "</style>\n",
       "<table border=\"1\" class=\"dataframe\">\n",
       "  <thead>\n",
       "    <tr style=\"text-align: right;\">\n",
       "      <th></th>\n",
       "      <th>name</th>\n",
       "      <th>phone</th>\n",
       "      <th>physical</th>\n",
       "      <th>status</th>\n",
       "      <th>TDLR Number</th>\n",
       "    </tr>\n",
       "  </thead>\n",
       "  <tbody>\n",
       "    <tr>\n",
       "      <th>0</th>\n",
       "      <td>AUGUSTUS E SMITH</td>\n",
       "      <td>9032276464</td>\n",
       "      <td>103 N MAIN ST\\nBONHAM, TX. 75418</td>\n",
       "      <td>Active</td>\n",
       "      <td>006507931C</td>\n",
       "    </tr>\n",
       "    <tr>\n",
       "      <th>1</th>\n",
       "      <td>B.D. SMITH TOWING</td>\n",
       "      <td>8173330706</td>\n",
       "      <td>13619 BRETT JACKSON RD.\\nFORT WORTH, TX. 76179</td>\n",
       "      <td>Active</td>\n",
       "      <td>006179570C</td>\n",
       "    </tr>\n",
       "    <tr>\n",
       "      <th>2</th>\n",
       "      <td>BARRY MICHAEL SMITH</td>\n",
       "      <td>8066544404</td>\n",
       "      <td>4501 W CEMETERY RD\\nCANYON, TX. 79015</td>\n",
       "      <td>Active</td>\n",
       "      <td>006502097C</td>\n",
       "    </tr>\n",
       "  </tbody>\n",
       "</table>\n",
       "</div>"
      ],
      "text/plain": [
       "                    name         phone  \\\n",
       "0       AUGUSTUS E SMITH    9032276464   \n",
       "1      B.D. SMITH TOWING    8173330706   \n",
       "2    BARRY MICHAEL SMITH    8066544404   \n",
       "\n",
       "                                         physical  status TDLR Number  \n",
       "0                103 N MAIN ST\\nBONHAM, TX. 75418  Active  006507931C  \n",
       "1  13619 BRETT JACKSON RD.\\nFORT WORTH, TX. 76179  Active  006179570C  \n",
       "2           4501 W CEMETERY RD\\nCANYON, TX. 79015  Active  006502097C  "
      ]
     },
     "execution_count": 55,
     "metadata": {},
     "output_type": "execute_result"
    }
   ],
   "source": [
    "df['phone'] = df['phone'].str.replace(\"Phone: \", \"\")\n",
    "df"
   ]
  },
  {
   "cell_type": "code",
   "execution_count": null,
   "metadata": {
    "collapsed": true
   },
   "outputs": [],
   "source": []
  },
  {
   "cell_type": "markdown",
   "metadata": {},
   "source": []
  },
  {
   "cell_type": "code",
   "execution_count": 22,
   "metadata": {
    "collapsed": true
   },
   "outputs": [],
   "source": [
    "#done above!"
   ]
  },
  {
   "cell_type": "markdown",
   "metadata": {},
   "source": [
    "### Save your dataframe as a CSV"
   ]
  },
  {
   "cell_type": "code",
   "execution_count": 56,
   "metadata": {
    "collapsed": true
   },
   "outputs": [],
   "source": [
    "df.to_csv(\"tow_subset_new.csv\", index = False)"
   ]
  },
  {
   "cell_type": "code",
   "execution_count": null,
   "metadata": {
    "collapsed": true
   },
   "outputs": [],
   "source": []
  },
  {
   "cell_type": "markdown",
   "metadata": {},
   "source": [
    "### Re-open your dataframe to confirm you didn't save any extra weird columns"
   ]
  },
  {
   "cell_type": "code",
   "execution_count": 57,
   "metadata": {},
   "outputs": [
    {
     "data": {
      "text/html": [
       "<div>\n",
       "<style>\n",
       "    .dataframe thead tr:only-child th {\n",
       "        text-align: right;\n",
       "    }\n",
       "\n",
       "    .dataframe thead th {\n",
       "        text-align: left;\n",
       "    }\n",
       "\n",
       "    .dataframe tbody tr th {\n",
       "        vertical-align: top;\n",
       "    }\n",
       "</style>\n",
       "<table border=\"1\" class=\"dataframe\">\n",
       "  <thead>\n",
       "    <tr style=\"text-align: right;\">\n",
       "      <th></th>\n",
       "      <th>name</th>\n",
       "      <th>phone</th>\n",
       "      <th>physical</th>\n",
       "      <th>status</th>\n",
       "      <th>TDLR Number</th>\n",
       "    </tr>\n",
       "  </thead>\n",
       "  <tbody>\n",
       "    <tr>\n",
       "      <th>0</th>\n",
       "      <td>AUGUSTUS E SMITH</td>\n",
       "      <td>9032276464</td>\n",
       "      <td>103 N MAIN ST\\nBONHAM, TX. 75418</td>\n",
       "      <td>Active</td>\n",
       "      <td>006507931C</td>\n",
       "    </tr>\n",
       "    <tr>\n",
       "      <th>1</th>\n",
       "      <td>B.D. SMITH TOWING</td>\n",
       "      <td>8173330706</td>\n",
       "      <td>13619 BRETT JACKSON RD.\\nFORT WORTH, TX. 76179</td>\n",
       "      <td>Active</td>\n",
       "      <td>006179570C</td>\n",
       "    </tr>\n",
       "    <tr>\n",
       "      <th>2</th>\n",
       "      <td>BARRY MICHAEL SMITH</td>\n",
       "      <td>8066544404</td>\n",
       "      <td>4501 W CEMETERY RD\\nCANYON, TX. 79015</td>\n",
       "      <td>Active</td>\n",
       "      <td>006502097C</td>\n",
       "    </tr>\n",
       "  </tbody>\n",
       "</table>\n",
       "</div>"
      ],
      "text/plain": [
       "                    name       phone  \\\n",
       "0       AUGUSTUS E SMITH  9032276464   \n",
       "1      B.D. SMITH TOWING  8173330706   \n",
       "2    BARRY MICHAEL SMITH  8066544404   \n",
       "\n",
       "                                         physical  status TDLR Number  \n",
       "0                103 N MAIN ST\\nBONHAM, TX. 75418  Active  006507931C  \n",
       "1  13619 BRETT JACKSON RD.\\nFORT WORTH, TX. 76179  Active  006179570C  \n",
       "2           4501 W CEMETERY RD\\nCANYON, TX. 79015  Active  006502097C  "
      ]
     },
     "execution_count": 57,
     "metadata": {},
     "output_type": "execute_result"
    }
   ],
   "source": [
    "df = pd.read_csv(\"tow_subset_new.csv\")\n",
    "df.head()"
   ]
  },
  {
   "cell_type": "markdown",
   "metadata": {},
   "source": [
    "## Repeat this process for the entire `tow-trucks.csv` file"
   ]
  },
  {
   "cell_type": "code",
   "execution_count": 60,
   "metadata": {},
   "outputs": [
    {
     "data": {
      "text/html": [
       "<div>\n",
       "<style>\n",
       "    .dataframe thead tr:only-child th {\n",
       "        text-align: right;\n",
       "    }\n",
       "\n",
       "    .dataframe thead th {\n",
       "        text-align: left;\n",
       "    }\n",
       "\n",
       "    .dataframe tbody tr th {\n",
       "        vertical-align: top;\n",
       "    }\n",
       "</style>\n",
       "<table border=\"1\" class=\"dataframe\">\n",
       "  <thead>\n",
       "    <tr style=\"text-align: right;\">\n",
       "      <th></th>\n",
       "      <th>TDLR Number</th>\n",
       "    </tr>\n",
       "  </thead>\n",
       "  <tbody>\n",
       "    <tr>\n",
       "      <th>0</th>\n",
       "      <td>006507931C</td>\n",
       "    </tr>\n",
       "    <tr>\n",
       "      <th>1</th>\n",
       "      <td>006179570C</td>\n",
       "    </tr>\n",
       "    <tr>\n",
       "      <th>2</th>\n",
       "      <td>006502097C</td>\n",
       "    </tr>\n",
       "    <tr>\n",
       "      <th>3</th>\n",
       "      <td>006494912C</td>\n",
       "    </tr>\n",
       "    <tr>\n",
       "      <th>4</th>\n",
       "      <td>0649468VSF</td>\n",
       "    </tr>\n",
       "    <tr>\n",
       "      <th>5</th>\n",
       "      <td>006448786C</td>\n",
       "    </tr>\n",
       "    <tr>\n",
       "      <th>6</th>\n",
       "      <td>0648444VSF</td>\n",
       "    </tr>\n",
       "    <tr>\n",
       "      <th>7</th>\n",
       "      <td>0651667VSF</td>\n",
       "    </tr>\n",
       "    <tr>\n",
       "      <th>8</th>\n",
       "      <td>006017767C</td>\n",
       "    </tr>\n",
       "    <tr>\n",
       "      <th>9</th>\n",
       "      <td>006495492C</td>\n",
       "    </tr>\n",
       "    <tr>\n",
       "      <th>10</th>\n",
       "      <td>006518521C</td>\n",
       "    </tr>\n",
       "    <tr>\n",
       "      <th>11</th>\n",
       "      <td>006521662C</td>\n",
       "    </tr>\n",
       "    <tr>\n",
       "      <th>12</th>\n",
       "      <td>006482451C</td>\n",
       "    </tr>\n",
       "    <tr>\n",
       "      <th>13</th>\n",
       "      <td>0646264VSF</td>\n",
       "    </tr>\n",
       "    <tr>\n",
       "      <th>14</th>\n",
       "      <td>0650690VSF</td>\n",
       "    </tr>\n",
       "    <tr>\n",
       "      <th>15</th>\n",
       "      <td>006505010C</td>\n",
       "    </tr>\n",
       "    <tr>\n",
       "      <th>16</th>\n",
       "      <td>0000210VSF</td>\n",
       "    </tr>\n",
       "    <tr>\n",
       "      <th>17</th>\n",
       "      <td>005029369C</td>\n",
       "    </tr>\n",
       "    <tr>\n",
       "      <th>18</th>\n",
       "      <td>006410509C</td>\n",
       "    </tr>\n",
       "    <tr>\n",
       "      <th>19</th>\n",
       "      <td>0643482VSF</td>\n",
       "    </tr>\n",
       "  </tbody>\n",
       "</table>\n",
       "</div>"
      ],
      "text/plain": [
       "   TDLR Number\n",
       "0   006507931C\n",
       "1   006179570C\n",
       "2   006502097C\n",
       "3   006494912C\n",
       "4   0649468VSF\n",
       "5   006448786C\n",
       "6   0648444VSF\n",
       "7   0651667VSF\n",
       "8   006017767C\n",
       "9   006495492C\n",
       "10  006518521C\n",
       "11  006521662C\n",
       "12  006482451C\n",
       "13  0646264VSF\n",
       "14  0650690VSF\n",
       "15  006505010C\n",
       "16  0000210VSF\n",
       "17  005029369C\n",
       "18  006410509C\n",
       "19  0643482VSF"
      ]
     },
     "execution_count": 60,
     "metadata": {},
     "output_type": "execute_result"
    }
   ],
   "source": [
    "df1 = pd.read_csv(\"tow-trucks.csv\")\n",
    "df1"
   ]
  },
  {
   "cell_type": "code",
   "execution_count": 75,
   "metadata": {},
   "outputs": [
    {
     "data": {
      "text/html": [
       "<div>\n",
       "<style>\n",
       "    .dataframe thead tr:only-child th {\n",
       "        text-align: right;\n",
       "    }\n",
       "\n",
       "    .dataframe thead th {\n",
       "        text-align: left;\n",
       "    }\n",
       "\n",
       "    .dataframe tbody tr th {\n",
       "        vertical-align: top;\n",
       "    }\n",
       "</style>\n",
       "<table border=\"1\" class=\"dataframe\">\n",
       "  <thead>\n",
       "    <tr style=\"text-align: right;\">\n",
       "      <th></th>\n",
       "      <th>name</th>\n",
       "      <th>phone</th>\n",
       "      <th>physical</th>\n",
       "      <th>status</th>\n",
       "    </tr>\n",
       "  </thead>\n",
       "  <tbody>\n",
       "    <tr>\n",
       "      <th>0</th>\n",
       "      <td>Name:   AUGUSTUS E SMITH</td>\n",
       "      <td>Phone:   9032276464</td>\n",
       "      <td>103 N MAIN ST\\nBONHAM, TX. 75418</td>\n",
       "      <td>Active</td>\n",
       "    </tr>\n",
       "    <tr>\n",
       "      <th>1</th>\n",
       "      <td>Name:   B.D. SMITH TOWING</td>\n",
       "      <td>Phone:   8173330706</td>\n",
       "      <td>13619 BRETT JACKSON RD.\\nFORT WORTH, TX. 76179</td>\n",
       "      <td>Active</td>\n",
       "    </tr>\n",
       "    <tr>\n",
       "      <th>2</th>\n",
       "      <td>Name:   BARRY MICHAEL SMITH</td>\n",
       "      <td>Phone:   8066544404</td>\n",
       "      <td>4501 W CEMETERY RD\\nCANYON, TX. 79015</td>\n",
       "      <td>Active</td>\n",
       "    </tr>\n",
       "    <tr>\n",
       "      <th>3</th>\n",
       "      <td>Name:   HEATH SMITH</td>\n",
       "      <td>Phone:   940-552-0687</td>\n",
       "      <td>1529 WILBARGER ST\\nVERNON, TX. 76384</td>\n",
       "      <td>Expired</td>\n",
       "    </tr>\n",
       "    <tr>\n",
       "      <th>4</th>\n",
       "      <td>Name:   HEATH SMITH</td>\n",
       "      <td>Phone:   9405520687</td>\n",
       "      <td>1529 WILBARGER ST\\nVERNON, TX. 76384</td>\n",
       "      <td>Expired</td>\n",
       "    </tr>\n",
       "    <tr>\n",
       "      <th>5</th>\n",
       "      <td>Name:   HYSMITH AUTOMOTIVE</td>\n",
       "      <td>Owner/Officer:   ASHLEY ERIN HYSMITH / TREASURER</td>\n",
       "      <td>1210 US 380 BYPASS\\nGRAHAM, TX. 76450</td>\n",
       "      <td>Active</td>\n",
       "    </tr>\n",
       "    <tr>\n",
       "      <th>6</th>\n",
       "      <td>Name:   HYSMITH AUTOMOTIVE &amp; TRUCK REPAIR INC</td>\n",
       "      <td>Owner/Officer:   WILLIAM THOMAS HYSMITH / PRES...</td>\n",
       "      <td>927 LOVING HWY\\nGRAHAM, TX. 76450</td>\n",
       "      <td>Expired</td>\n",
       "    </tr>\n",
       "    <tr>\n",
       "      <th>7</th>\n",
       "      <td>Name:   HYSMITH AUTOMOTIVE &amp; TRUCK REPAIR INC</td>\n",
       "      <td>Owner/Officer:   ASHLEY ERIN HYSMITH / TREASURER</td>\n",
       "      <td>1210 380 BYPASS\\nGRAHAM, TX. 76450</td>\n",
       "      <td>Active</td>\n",
       "    </tr>\n",
       "    <tr>\n",
       "      <th>8</th>\n",
       "      <td>Name:   JEFF &amp; WENDY SMITH</td>\n",
       "      <td>Owner/Officer:   WENDY SMITH / PARTNER</td>\n",
       "      <td>10842 FM 2138 N\\nJACKSONVILLE, TX. 75766</td>\n",
       "      <td>Expired</td>\n",
       "    </tr>\n",
       "    <tr>\n",
       "      <th>9</th>\n",
       "      <td>Name:   JEFF SMITH</td>\n",
       "      <td>Phone:   8324354670</td>\n",
       "      <td>4338 HARVEY RD\\nCROSBY, TX. 77532</td>\n",
       "      <td>Active</td>\n",
       "    </tr>\n",
       "    <tr>\n",
       "      <th>10</th>\n",
       "      <td>Name:   LUTHER SMITH</td>\n",
       "      <td>Phone:   281-838-9435</td>\n",
       "      <td>20001 FM 2100 RD\\nCROSBY, TX. 77532</td>\n",
       "      <td>Active</td>\n",
       "    </tr>\n",
       "    <tr>\n",
       "      <th>11</th>\n",
       "      <td>Name:   MAURICE SMITH</td>\n",
       "      <td>Phone:   7134544462</td>\n",
       "      <td>5505 SAVANNAH WOODS LN\\nROSHARON, TX. 77583</td>\n",
       "      <td>Active</td>\n",
       "    </tr>\n",
       "    <tr>\n",
       "      <th>12</th>\n",
       "      <td>Name:   METRO LOCKSMITHS INC</td>\n",
       "      <td>Owner/Officer:   SOCORRO M ARREOLA / OWNER</td>\n",
       "      <td>200 S WALL ST\\nITASCA, TX. 76055</td>\n",
       "      <td>Active</td>\n",
       "    </tr>\n",
       "    <tr>\n",
       "      <th>13</th>\n",
       "      <td>NOT FOUND</td>\n",
       "      <td>NOT FOUND</td>\n",
       "      <td>NOT FOUND</td>\n",
       "      <td>NOT FOUND</td>\n",
       "    </tr>\n",
       "    <tr>\n",
       "      <th>14</th>\n",
       "      <td>NOT FOUND</td>\n",
       "      <td>NOT FOUND</td>\n",
       "      <td>NOT FOUND</td>\n",
       "      <td>NOT FOUND</td>\n",
       "    </tr>\n",
       "    <tr>\n",
       "      <th>15</th>\n",
       "      <td>Name:   SAMMY L SMITH</td>\n",
       "      <td>Phone:   3252159496</td>\n",
       "      <td>355 N 16TH ST\\nJUNCTION, TX. 76849</td>\n",
       "      <td>Expired</td>\n",
       "    </tr>\n",
       "    <tr>\n",
       "      <th>16</th>\n",
       "      <td>Name:   SMITH BRO. WRECKER SERVICE</td>\n",
       "      <td>Owner/Officer:   GLEN SMITH / PARTNER</td>\n",
       "      <td>10842 FM 2138 N\\nJACKSONVILLE, TX. 75766</td>\n",
       "      <td>Active</td>\n",
       "    </tr>\n",
       "    <tr>\n",
       "      <th>17</th>\n",
       "      <td>Name:   SMITH BROS. WRECKER SERVICE</td>\n",
       "      <td>Owner/Officer:   GLEN SMITH / PARTNER</td>\n",
       "      <td>10842 FM 2138 N\\nJACKSONVILLE, TX. 75766</td>\n",
       "      <td>Active</td>\n",
       "    </tr>\n",
       "    <tr>\n",
       "      <th>18</th>\n",
       "      <td>Name:   SMITH TOWING &amp; RECOVERY, LLC</td>\n",
       "      <td>Phone:   9362693915</td>\n",
       "      <td>12741 HWY 84E\\nJOAQUIN, TX. 75954</td>\n",
       "      <td>Active</td>\n",
       "    </tr>\n",
       "    <tr>\n",
       "      <th>19</th>\n",
       "      <td>Name:   SMITH TOWING &amp; RECOVERY,LLC</td>\n",
       "      <td>Phone:   9362693915</td>\n",
       "      <td>12741 HWY 84 E\\nJOAQUIN, TX. 75954</td>\n",
       "      <td>Active</td>\n",
       "    </tr>\n",
       "  </tbody>\n",
       "</table>\n",
       "</div>"
      ],
      "text/plain": [
       "                                             name  \\\n",
       "0                        Name:   AUGUSTUS E SMITH   \n",
       "1                       Name:   B.D. SMITH TOWING   \n",
       "2                     Name:   BARRY MICHAEL SMITH   \n",
       "3                             Name:   HEATH SMITH   \n",
       "4                             Name:   HEATH SMITH   \n",
       "5                      Name:   HYSMITH AUTOMOTIVE   \n",
       "6   Name:   HYSMITH AUTOMOTIVE & TRUCK REPAIR INC   \n",
       "7   Name:   HYSMITH AUTOMOTIVE & TRUCK REPAIR INC   \n",
       "8                      Name:   JEFF & WENDY SMITH   \n",
       "9                              Name:   JEFF SMITH   \n",
       "10                           Name:   LUTHER SMITH   \n",
       "11                          Name:   MAURICE SMITH   \n",
       "12                   Name:   METRO LOCKSMITHS INC   \n",
       "13                                      NOT FOUND   \n",
       "14                                      NOT FOUND   \n",
       "15                          Name:   SAMMY L SMITH   \n",
       "16             Name:   SMITH BRO. WRECKER SERVICE   \n",
       "17            Name:   SMITH BROS. WRECKER SERVICE   \n",
       "18           Name:   SMITH TOWING & RECOVERY, LLC   \n",
       "19            Name:   SMITH TOWING & RECOVERY,LLC   \n",
       "\n",
       "                                                phone  \\\n",
       "0                                 Phone:   9032276464   \n",
       "1                                 Phone:   8173330706   \n",
       "2                                 Phone:   8066544404   \n",
       "3                               Phone:   940-552-0687   \n",
       "4                                 Phone:   9405520687   \n",
       "5    Owner/Officer:   ASHLEY ERIN HYSMITH / TREASURER   \n",
       "6   Owner/Officer:   WILLIAM THOMAS HYSMITH / PRES...   \n",
       "7    Owner/Officer:   ASHLEY ERIN HYSMITH / TREASURER   \n",
       "8              Owner/Officer:   WENDY SMITH / PARTNER   \n",
       "9                                 Phone:   8324354670   \n",
       "10                              Phone:   281-838-9435   \n",
       "11                                Phone:   7134544462   \n",
       "12         Owner/Officer:   SOCORRO M ARREOLA / OWNER   \n",
       "13                                          NOT FOUND   \n",
       "14                                          NOT FOUND   \n",
       "15                                Phone:   3252159496   \n",
       "16              Owner/Officer:   GLEN SMITH / PARTNER   \n",
       "17              Owner/Officer:   GLEN SMITH / PARTNER   \n",
       "18                                Phone:   9362693915   \n",
       "19                                Phone:   9362693915   \n",
       "\n",
       "                                          physical     status  \n",
       "0                 103 N MAIN ST\\nBONHAM, TX. 75418     Active  \n",
       "1   13619 BRETT JACKSON RD.\\nFORT WORTH, TX. 76179     Active  \n",
       "2            4501 W CEMETERY RD\\nCANYON, TX. 79015     Active  \n",
       "3             1529 WILBARGER ST\\nVERNON, TX. 76384    Expired  \n",
       "4             1529 WILBARGER ST\\nVERNON, TX. 76384    Expired  \n",
       "5            1210 US 380 BYPASS\\nGRAHAM, TX. 76450     Active  \n",
       "6                927 LOVING HWY\\nGRAHAM, TX. 76450    Expired  \n",
       "7               1210 380 BYPASS\\nGRAHAM, TX. 76450     Active  \n",
       "8         10842 FM 2138 N\\nJACKSONVILLE, TX. 75766    Expired  \n",
       "9                4338 HARVEY RD\\nCROSBY, TX. 77532     Active  \n",
       "10             20001 FM 2100 RD\\nCROSBY, TX. 77532     Active  \n",
       "11     5505 SAVANNAH WOODS LN\\nROSHARON, TX. 77583     Active  \n",
       "12                200 S WALL ST\\nITASCA, TX. 76055     Active  \n",
       "13                                       NOT FOUND  NOT FOUND  \n",
       "14                                       NOT FOUND  NOT FOUND  \n",
       "15              355 N 16TH ST\\nJUNCTION, TX. 76849    Expired  \n",
       "16        10842 FM 2138 N\\nJACKSONVILLE, TX. 75766     Active  \n",
       "17        10842 FM 2138 N\\nJACKSONVILLE, TX. 75766     Active  \n",
       "18               12741 HWY 84E\\nJOAQUIN, TX. 75954     Active  \n",
       "19              12741 HWY 84 E\\nJOAQUIN, TX. 75954     Active  "
      ]
     },
     "execution_count": 75,
     "metadata": {},
     "output_type": "execute_result"
    }
   ],
   "source": [
    "from selenium.common.exceptions import NoSuchElementException\n",
    "def infophone(row):\n",
    "    driver = webdriver.Chrome(chrome_options=chrome_options)\n",
    "    driver.get('https://www.tdlr.texas.gov/tools_search/mccs_search.asp')\n",
    "    try:\n",
    "        check_box = driver.find_element_by_xpath('//*[@id=\"mcrbutton\"]')\n",
    "        check_box.click()\n",
    "        search_in = driver.find_element_by_xpath('//*[@id=\"mcrdata\"]')\n",
    "        search_in.click()\n",
    "        search_in.send_keys(row['TDLR Number'])\n",
    "        driver.find_element_by_xpath('//*[@id=\"submit3\"]').click()\n",
    "        name = driver.find_element_by_xpath('//*[@id=\"t1\"]/tbody/tr/td/font/table[2]/tbody/tr[2]/td[1]').text\n",
    "        phone = driver.find_element_by_xpath('//*[@id=\"t1\"]/tbody/tr/td/font/table[2]/tbody/tr[4]/td[1]').text\n",
    "        status = driver.find_element_by_xpath('//*[@id=\"t1\"]/tbody/tr/td/font/table[3]/tbody/tr[1]/td[2]/font').text\n",
    "        physical = driver.find_element_by_xpath('//*[@id=\"t1\"]/tbody/tr/td/font/table[3]/tbody/tr[2]/td[2]')\n",
    "        physical_txt = physical.text.split(\":\")[-1].strip()\n",
    "    except NoSuchElementException:\n",
    "        name = \"NOT FOUND\"\n",
    "        phone = \"NOT FOUND\"\n",
    "        status = \"NOT FOUND\"\n",
    "        physical_txt = \"NOT FOUND\"\n",
    "    return pd.Series({\n",
    "        'name': name,\n",
    "        'phone': phone,\n",
    "        'status': status,\n",
    "        'physical': physical_txt\n",
    "        })\n",
    "\n",
    "\n",
    "df1.apply(infophone, axis=1)\n",
    "#df1 = df1.apply(infoall, axis=1).join(df)\n",
    "#df.head()\n"
   ]
  },
  {
   "cell_type": "code",
   "execution_count": null,
   "metadata": {
    "collapsed": true
   },
   "outputs": [],
   "source": []
  }
 ],
 "metadata": {
  "kernelspec": {
   "display_name": "Python 3",
   "language": "python",
   "name": "python3"
  },
  "language_info": {
   "codemirror_mode": {
    "name": "ipython",
    "version": 3
   },
   "file_extension": ".py",
   "mimetype": "text/x-python",
   "name": "python",
   "nbconvert_exporter": "python",
   "pygments_lexer": "ipython3",
   "version": "3.6.1"
  }
 },
 "nbformat": 4,
 "nbformat_minor": 2
}
