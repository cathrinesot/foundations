{
 "cells": [
  {
   "cell_type": "markdown",
   "metadata": {},
   "source": [
    "# Exercise: 311 Requests\n",
    "\n",
    "#### Summary\n",
    "\n",
    "In NYC, you can call 311 with *anything* about the city - questions, complaints, etc. We'll be analyzing requests from 2015-2016 from the Department of Transportation and NYPD.\n",
    "\n",
    "#### Data Source(s)\n",
    "\n",
    "Filtered from full set, https://nycopendata.socrata.com/Social-Services/311-Service-Requests-from-2010-to-Present/erm2-nwe9\n",
    "\n",
    "#### Files\n",
    "\n",
    "- `311-requests/311_Service_Requests_from_2010_to_Present.csv`, about 1.8 million rows (over 1GB of data)\n",
    "\n",
    "#### Data dictionary\n",
    "\n",
    "Visit [this page](https://nycopendata.socrata.com/Social-Services/311-Service-Requests-from-2010-to-Present/erm2-nwe9#schema-preview) and click 'Show more' on the bottom right of the list (53 columns).\n",
    "\n",
    "#### Skills\n",
    "\n",
    "- Opening large files\n",
    "- Time"
   ]
  },
  {
   "cell_type": "markdown",
   "metadata": {},
   "source": [
    "## Opening the file\n",
    "\n",
    "It's a big one! If your computer is slow or you only have 2GB of RAM, you might want to specify `nrows=50000` (or less). Increase the number until it takes around 20 seconds, maybe!"
   ]
  },
  {
   "cell_type": "code",
   "execution_count": 6,
   "metadata": {
    "collapsed": true
   },
   "outputs": [],
   "source": [
    "import pandas as pd\n",
    "import numpy\n",
    "%matplotlib inline\n",
    "df = pd.read_csv(\"data/311_Service_Requests_from_2010_to_Present.csv\", nrows=1000)"
   ]
  },
  {
   "cell_type": "code",
   "execution_count": null,
   "metadata": {
    "collapsed": true
   },
   "outputs": [],
   "source": []
  },
  {
   "cell_type": "markdown",
   "metadata": {},
   "source": [
    "### Measuring time in Jupyter Notebooks\n",
    "\n",
    "How long did that take? Read it in again, but this time **time how long it takes.** (and no, not with your watch - with Jupyter!)"
   ]
  },
  {
   "cell_type": "code",
   "execution_count": 7,
   "metadata": {},
   "outputs": [
    {
     "data": {
      "text/html": [
       "<div>\n",
       "<style>\n",
       "    .dataframe thead tr:only-child th {\n",
       "        text-align: right;\n",
       "    }\n",
       "\n",
       "    .dataframe thead th {\n",
       "        text-align: left;\n",
       "    }\n",
       "\n",
       "    .dataframe tbody tr th {\n",
       "        vertical-align: top;\n",
       "    }\n",
       "</style>\n",
       "<table border=\"1\" class=\"dataframe\">\n",
       "  <thead>\n",
       "    <tr style=\"text-align: right;\">\n",
       "      <th></th>\n",
       "      <th>Unique Key</th>\n",
       "      <th>Created Date</th>\n",
       "      <th>Closed Date</th>\n",
       "      <th>Agency</th>\n",
       "      <th>Agency Name</th>\n",
       "      <th>Complaint Type</th>\n",
       "      <th>Descriptor</th>\n",
       "      <th>Location Type</th>\n",
       "      <th>Incident Zip</th>\n",
       "      <th>Incident Address</th>\n",
       "      <th>Street Name</th>\n",
       "      <th>Cross Street 1</th>\n",
       "      <th>Cross Street 2</th>\n",
       "      <th>Intersection Street 1</th>\n",
       "      <th>Intersection Street 2</th>\n",
       "      <th>Address Type</th>\n",
       "      <th>City</th>\n",
       "      <th>Landmark</th>\n",
       "      <th>Facility Type</th>\n",
       "      <th>Status</th>\n",
       "      <th>Due Date</th>\n",
       "      <th>Resolution Description</th>\n",
       "      <th>Resolution Action Updated Date</th>\n",
       "      <th>Community Board</th>\n",
       "      <th>Borough</th>\n",
       "      <th>X Coordinate (State Plane)</th>\n",
       "      <th>Y Coordinate (State Plane)</th>\n",
       "      <th>Park Facility Name</th>\n",
       "      <th>Park Borough</th>\n",
       "      <th>School Name</th>\n",
       "      <th>School Number</th>\n",
       "      <th>School Region</th>\n",
       "      <th>School Code</th>\n",
       "      <th>School Phone Number</th>\n",
       "      <th>School Address</th>\n",
       "      <th>School City</th>\n",
       "      <th>School State</th>\n",
       "      <th>School Zip</th>\n",
       "      <th>School Not Found</th>\n",
       "      <th>School or Citywide Complaint</th>\n",
       "      <th>Vehicle Type</th>\n",
       "      <th>Taxi Company Borough</th>\n",
       "      <th>Taxi Pick Up Location</th>\n",
       "      <th>Bridge Highway Name</th>\n",
       "      <th>Bridge Highway Direction</th>\n",
       "      <th>Road Ramp</th>\n",
       "      <th>Bridge Highway Segment</th>\n",
       "      <th>Garage Lot Name</th>\n",
       "      <th>Ferry Direction</th>\n",
       "      <th>Ferry Terminal Name</th>\n",
       "      <th>Latitude</th>\n",
       "      <th>Longitude</th>\n",
       "      <th>Location</th>\n",
       "    </tr>\n",
       "  </thead>\n",
       "  <tbody>\n",
       "    <tr>\n",
       "      <th>0</th>\n",
       "      <td>31463990</td>\n",
       "      <td>09/04/2015 10:55:25 PM</td>\n",
       "      <td>09/05/2015 02:06:54 AM</td>\n",
       "      <td>NYPD</td>\n",
       "      <td>New York City Police Department</td>\n",
       "      <td>Noise - Street/Sidewalk</td>\n",
       "      <td>Loud Music/Party</td>\n",
       "      <td>Street/Sidewalk</td>\n",
       "      <td>10460.0</td>\n",
       "      <td>1110 WYATT STREET</td>\n",
       "      <td>WYATT STREET</td>\n",
       "      <td>DEVOE AVENUE</td>\n",
       "      <td>BRONX PARK AVENUE</td>\n",
       "      <td>NaN</td>\n",
       "      <td>NaN</td>\n",
       "      <td>ADDRESS</td>\n",
       "      <td>BRONX</td>\n",
       "      <td>NaN</td>\n",
       "      <td>Precinct</td>\n",
       "      <td>Closed</td>\n",
       "      <td>09/05/2015 06:55:25 AM</td>\n",
       "      <td>The Police Department responded and upon arriv...</td>\n",
       "      <td>09/05/2015 02:06:54 AM</td>\n",
       "      <td>06 BRONX</td>\n",
       "      <td>BRONX</td>\n",
       "      <td>1018201.0</td>\n",
       "      <td>245083.0</td>\n",
       "      <td>Unspecified</td>\n",
       "      <td>BRONX</td>\n",
       "      <td>Unspecified</td>\n",
       "      <td>Unspecified</td>\n",
       "      <td>Unspecified</td>\n",
       "      <td>Unspecified</td>\n",
       "      <td>Unspecified</td>\n",
       "      <td>Unspecified</td>\n",
       "      <td>Unspecified</td>\n",
       "      <td>Unspecified</td>\n",
       "      <td>Unspecified</td>\n",
       "      <td>N</td>\n",
       "      <td>NaN</td>\n",
       "      <td>NaN</td>\n",
       "      <td>NaN</td>\n",
       "      <td>NaN</td>\n",
       "      <td>NaN</td>\n",
       "      <td>NaN</td>\n",
       "      <td>NaN</td>\n",
       "      <td>NaN</td>\n",
       "      <td>NaN</td>\n",
       "      <td>NaN</td>\n",
       "      <td>NaN</td>\n",
       "      <td>40.839306</td>\n",
       "      <td>-73.877301</td>\n",
       "      <td>(40.83930620730105, -73.8773009180668)</td>\n",
       "    </tr>\n",
       "    <tr>\n",
       "      <th>1</th>\n",
       "      <td>31463991</td>\n",
       "      <td>09/04/2015 01:53:45 PM</td>\n",
       "      <td>09/04/2015 06:37:24 PM</td>\n",
       "      <td>NYPD</td>\n",
       "      <td>New York City Police Department</td>\n",
       "      <td>Noise - Street/Sidewalk</td>\n",
       "      <td>Loud Music/Party</td>\n",
       "      <td>Street/Sidewalk</td>\n",
       "      <td>10031.0</td>\n",
       "      <td>NaN</td>\n",
       "      <td>NaN</td>\n",
       "      <td>NaN</td>\n",
       "      <td>NaN</td>\n",
       "      <td>WEST  151 STREET</td>\n",
       "      <td>BROADWAY</td>\n",
       "      <td>INTERSECTION</td>\n",
       "      <td>NEW YORK</td>\n",
       "      <td>NaN</td>\n",
       "      <td>Precinct</td>\n",
       "      <td>Closed</td>\n",
       "      <td>09/04/2015 09:53:45 PM</td>\n",
       "      <td>The Police Department responded to the complai...</td>\n",
       "      <td>09/04/2015 06:37:24 PM</td>\n",
       "      <td>09 MANHATTAN</td>\n",
       "      <td>MANHATTAN</td>\n",
       "      <td>998728.0</td>\n",
       "      <td>241754.0</td>\n",
       "      <td>Unspecified</td>\n",
       "      <td>MANHATTAN</td>\n",
       "      <td>Unspecified</td>\n",
       "      <td>Unspecified</td>\n",
       "      <td>Unspecified</td>\n",
       "      <td>Unspecified</td>\n",
       "      <td>Unspecified</td>\n",
       "      <td>Unspecified</td>\n",
       "      <td>Unspecified</td>\n",
       "      <td>Unspecified</td>\n",
       "      <td>Unspecified</td>\n",
       "      <td>N</td>\n",
       "      <td>NaN</td>\n",
       "      <td>NaN</td>\n",
       "      <td>NaN</td>\n",
       "      <td>NaN</td>\n",
       "      <td>NaN</td>\n",
       "      <td>NaN</td>\n",
       "      <td>NaN</td>\n",
       "      <td>NaN</td>\n",
       "      <td>NaN</td>\n",
       "      <td>NaN</td>\n",
       "      <td>NaN</td>\n",
       "      <td>40.830222</td>\n",
       "      <td>-73.947684</td>\n",
       "      <td>(40.830222460372724, -73.94768359377827)</td>\n",
       "    </tr>\n",
       "    <tr>\n",
       "      <th>2</th>\n",
       "      <td>31463992</td>\n",
       "      <td>09/04/2015 09:15:43 PM</td>\n",
       "      <td>09/04/2015 10:32:01 PM</td>\n",
       "      <td>NYPD</td>\n",
       "      <td>New York City Police Department</td>\n",
       "      <td>Noise - Street/Sidewalk</td>\n",
       "      <td>Loud Music/Party</td>\n",
       "      <td>Street/Sidewalk</td>\n",
       "      <td>10031.0</td>\n",
       "      <td>545 WEST 144 STREET</td>\n",
       "      <td>WEST 144 STREET</td>\n",
       "      <td>AMSTERDAM AVENUE</td>\n",
       "      <td>BROADWAY</td>\n",
       "      <td>NaN</td>\n",
       "      <td>NaN</td>\n",
       "      <td>ADDRESS</td>\n",
       "      <td>NEW YORK</td>\n",
       "      <td>NaN</td>\n",
       "      <td>Precinct</td>\n",
       "      <td>Closed</td>\n",
       "      <td>09/05/2015 05:15:43 AM</td>\n",
       "      <td>The Police Department responded to the complai...</td>\n",
       "      <td>09/04/2015 10:32:02 PM</td>\n",
       "      <td>09 MANHATTAN</td>\n",
       "      <td>MANHATTAN</td>\n",
       "      <td>998263.0</td>\n",
       "      <td>239889.0</td>\n",
       "      <td>Unspecified</td>\n",
       "      <td>MANHATTAN</td>\n",
       "      <td>Unspecified</td>\n",
       "      <td>Unspecified</td>\n",
       "      <td>Unspecified</td>\n",
       "      <td>Unspecified</td>\n",
       "      <td>Unspecified</td>\n",
       "      <td>Unspecified</td>\n",
       "      <td>Unspecified</td>\n",
       "      <td>Unspecified</td>\n",
       "      <td>Unspecified</td>\n",
       "      <td>N</td>\n",
       "      <td>NaN</td>\n",
       "      <td>NaN</td>\n",
       "      <td>NaN</td>\n",
       "      <td>NaN</td>\n",
       "      <td>NaN</td>\n",
       "      <td>NaN</td>\n",
       "      <td>NaN</td>\n",
       "      <td>NaN</td>\n",
       "      <td>NaN</td>\n",
       "      <td>NaN</td>\n",
       "      <td>NaN</td>\n",
       "      <td>40.825104</td>\n",
       "      <td>-73.949368</td>\n",
       "      <td>(40.825104318551325, -73.94936777115372)</td>\n",
       "    </tr>\n",
       "    <tr>\n",
       "      <th>3</th>\n",
       "      <td>31463993</td>\n",
       "      <td>09/05/2015 01:06:57 AM</td>\n",
       "      <td>09/05/2015 02:26:43 AM</td>\n",
       "      <td>NYPD</td>\n",
       "      <td>New York City Police Department</td>\n",
       "      <td>Noise - Commercial</td>\n",
       "      <td>Loud Music/Party</td>\n",
       "      <td>Club/Bar/Restaurant</td>\n",
       "      <td>11203.0</td>\n",
       "      <td>UTICA AVENUE</td>\n",
       "      <td>UTICA AVENUE</td>\n",
       "      <td>AVENUE D</td>\n",
       "      <td>FOSTER AVENUE</td>\n",
       "      <td>NaN</td>\n",
       "      <td>NaN</td>\n",
       "      <td>BLOCKFACE</td>\n",
       "      <td>BROOKLYN</td>\n",
       "      <td>NaN</td>\n",
       "      <td>Precinct</td>\n",
       "      <td>Closed</td>\n",
       "      <td>09/05/2015 09:06:57 AM</td>\n",
       "      <td>The Police Department responded to the complai...</td>\n",
       "      <td>09/05/2015 02:26:44 AM</td>\n",
       "      <td>17 BROOKLYN</td>\n",
       "      <td>BROOKLYN</td>\n",
       "      <td>1003890.0</td>\n",
       "      <td>172805.0</td>\n",
       "      <td>Unspecified</td>\n",
       "      <td>BROOKLYN</td>\n",
       "      <td>Unspecified</td>\n",
       "      <td>Unspecified</td>\n",
       "      <td>Unspecified</td>\n",
       "      <td>Unspecified</td>\n",
       "      <td>Unspecified</td>\n",
       "      <td>Unspecified</td>\n",
       "      <td>Unspecified</td>\n",
       "      <td>Unspecified</td>\n",
       "      <td>Unspecified</td>\n",
       "      <td>N</td>\n",
       "      <td>NaN</td>\n",
       "      <td>NaN</td>\n",
       "      <td>NaN</td>\n",
       "      <td>NaN</td>\n",
       "      <td>NaN</td>\n",
       "      <td>NaN</td>\n",
       "      <td>NaN</td>\n",
       "      <td>NaN</td>\n",
       "      <td>NaN</td>\n",
       "      <td>NaN</td>\n",
       "      <td>NaN</td>\n",
       "      <td>40.640965</td>\n",
       "      <td>-73.929232</td>\n",
       "      <td>(40.64096464471428, -73.92923194083798)</td>\n",
       "    </tr>\n",
       "    <tr>\n",
       "      <th>4</th>\n",
       "      <td>31463995</td>\n",
       "      <td>09/04/2015 07:48:25 AM</td>\n",
       "      <td>09/04/2015 05:21:18 PM</td>\n",
       "      <td>NYPD</td>\n",
       "      <td>New York City Police Department</td>\n",
       "      <td>Illegal Parking</td>\n",
       "      <td>Overnight Commercial Storage</td>\n",
       "      <td>Street/Sidewalk</td>\n",
       "      <td>11210.0</td>\n",
       "      <td>GLENWOOD ROAD</td>\n",
       "      <td>GLENWOOD ROAD</td>\n",
       "      <td>BROOKLYN AVENUE</td>\n",
       "      <td>EAST 37 STREET</td>\n",
       "      <td>NaN</td>\n",
       "      <td>NaN</td>\n",
       "      <td>BLOCKFACE</td>\n",
       "      <td>BROOKLYN</td>\n",
       "      <td>NaN</td>\n",
       "      <td>Precinct</td>\n",
       "      <td>Closed</td>\n",
       "      <td>09/04/2015 03:48:25 PM</td>\n",
       "      <td>The Police Department responded to the complai...</td>\n",
       "      <td>09/04/2015 05:21:19 PM</td>\n",
       "      <td>17 BROOKLYN</td>\n",
       "      <td>BROOKLYN</td>\n",
       "      <td>1000480.0</td>\n",
       "      <td>170405.0</td>\n",
       "      <td>Unspecified</td>\n",
       "      <td>BROOKLYN</td>\n",
       "      <td>Unspecified</td>\n",
       "      <td>Unspecified</td>\n",
       "      <td>Unspecified</td>\n",
       "      <td>Unspecified</td>\n",
       "      <td>Unspecified</td>\n",
       "      <td>Unspecified</td>\n",
       "      <td>Unspecified</td>\n",
       "      <td>Unspecified</td>\n",
       "      <td>Unspecified</td>\n",
       "      <td>N</td>\n",
       "      <td>NaN</td>\n",
       "      <td>NaN</td>\n",
       "      <td>NaN</td>\n",
       "      <td>NaN</td>\n",
       "      <td>NaN</td>\n",
       "      <td>NaN</td>\n",
       "      <td>NaN</td>\n",
       "      <td>NaN</td>\n",
       "      <td>NaN</td>\n",
       "      <td>NaN</td>\n",
       "      <td>NaN</td>\n",
       "      <td>40.634384</td>\n",
       "      <td>-73.941525</td>\n",
       "      <td>(40.63438406330588, -73.9415248319131)</td>\n",
       "    </tr>\n",
       "  </tbody>\n",
       "</table>\n",
       "</div>"
      ],
      "text/plain": [
       "   Unique Key            Created Date             Closed Date Agency  \\\n",
       "0    31463990  09/04/2015 10:55:25 PM  09/05/2015 02:06:54 AM   NYPD   \n",
       "1    31463991  09/04/2015 01:53:45 PM  09/04/2015 06:37:24 PM   NYPD   \n",
       "2    31463992  09/04/2015 09:15:43 PM  09/04/2015 10:32:01 PM   NYPD   \n",
       "3    31463993  09/05/2015 01:06:57 AM  09/05/2015 02:26:43 AM   NYPD   \n",
       "4    31463995  09/04/2015 07:48:25 AM  09/04/2015 05:21:18 PM   NYPD   \n",
       "\n",
       "                       Agency Name           Complaint Type  \\\n",
       "0  New York City Police Department  Noise - Street/Sidewalk   \n",
       "1  New York City Police Department  Noise - Street/Sidewalk   \n",
       "2  New York City Police Department  Noise - Street/Sidewalk   \n",
       "3  New York City Police Department       Noise - Commercial   \n",
       "4  New York City Police Department          Illegal Parking   \n",
       "\n",
       "                     Descriptor        Location Type  Incident Zip  \\\n",
       "0              Loud Music/Party      Street/Sidewalk       10460.0   \n",
       "1              Loud Music/Party      Street/Sidewalk       10031.0   \n",
       "2              Loud Music/Party      Street/Sidewalk       10031.0   \n",
       "3              Loud Music/Party  Club/Bar/Restaurant       11203.0   \n",
       "4  Overnight Commercial Storage      Street/Sidewalk       11210.0   \n",
       "\n",
       "      Incident Address      Street Name    Cross Street 1     Cross Street 2  \\\n",
       "0    1110 WYATT STREET     WYATT STREET      DEVOE AVENUE  BRONX PARK AVENUE   \n",
       "1                  NaN              NaN               NaN                NaN   \n",
       "2  545 WEST 144 STREET  WEST 144 STREET  AMSTERDAM AVENUE           BROADWAY   \n",
       "3         UTICA AVENUE     UTICA AVENUE          AVENUE D      FOSTER AVENUE   \n",
       "4        GLENWOOD ROAD    GLENWOOD ROAD   BROOKLYN AVENUE     EAST 37 STREET   \n",
       "\n",
       "  Intersection Street 1 Intersection Street 2  Address Type      City  \\\n",
       "0                   NaN                   NaN       ADDRESS     BRONX   \n",
       "1      WEST  151 STREET              BROADWAY  INTERSECTION  NEW YORK   \n",
       "2                   NaN                   NaN       ADDRESS  NEW YORK   \n",
       "3                   NaN                   NaN     BLOCKFACE  BROOKLYN   \n",
       "4                   NaN                   NaN     BLOCKFACE  BROOKLYN   \n",
       "\n",
       "  Landmark Facility Type  Status                Due Date  \\\n",
       "0      NaN      Precinct  Closed  09/05/2015 06:55:25 AM   \n",
       "1      NaN      Precinct  Closed  09/04/2015 09:53:45 PM   \n",
       "2      NaN      Precinct  Closed  09/05/2015 05:15:43 AM   \n",
       "3      NaN      Precinct  Closed  09/05/2015 09:06:57 AM   \n",
       "4      NaN      Precinct  Closed  09/04/2015 03:48:25 PM   \n",
       "\n",
       "                              Resolution Description  \\\n",
       "0  The Police Department responded and upon arriv...   \n",
       "1  The Police Department responded to the complai...   \n",
       "2  The Police Department responded to the complai...   \n",
       "3  The Police Department responded to the complai...   \n",
       "4  The Police Department responded to the complai...   \n",
       "\n",
       "  Resolution Action Updated Date Community Board    Borough  \\\n",
       "0         09/05/2015 02:06:54 AM        06 BRONX      BRONX   \n",
       "1         09/04/2015 06:37:24 PM    09 MANHATTAN  MANHATTAN   \n",
       "2         09/04/2015 10:32:02 PM    09 MANHATTAN  MANHATTAN   \n",
       "3         09/05/2015 02:26:44 AM     17 BROOKLYN   BROOKLYN   \n",
       "4         09/04/2015 05:21:19 PM     17 BROOKLYN   BROOKLYN   \n",
       "\n",
       "   X Coordinate (State Plane)  Y Coordinate (State Plane) Park Facility Name  \\\n",
       "0                   1018201.0                    245083.0        Unspecified   \n",
       "1                    998728.0                    241754.0        Unspecified   \n",
       "2                    998263.0                    239889.0        Unspecified   \n",
       "3                   1003890.0                    172805.0        Unspecified   \n",
       "4                   1000480.0                    170405.0        Unspecified   \n",
       "\n",
       "  Park Borough  School Name School Number School Region  School Code  \\\n",
       "0        BRONX  Unspecified   Unspecified   Unspecified  Unspecified   \n",
       "1    MANHATTAN  Unspecified   Unspecified   Unspecified  Unspecified   \n",
       "2    MANHATTAN  Unspecified   Unspecified   Unspecified  Unspecified   \n",
       "3     BROOKLYN  Unspecified   Unspecified   Unspecified  Unspecified   \n",
       "4     BROOKLYN  Unspecified   Unspecified   Unspecified  Unspecified   \n",
       "\n",
       "  School Phone Number School Address  School City School State   School Zip  \\\n",
       "0         Unspecified    Unspecified  Unspecified  Unspecified  Unspecified   \n",
       "1         Unspecified    Unspecified  Unspecified  Unspecified  Unspecified   \n",
       "2         Unspecified    Unspecified  Unspecified  Unspecified  Unspecified   \n",
       "3         Unspecified    Unspecified  Unspecified  Unspecified  Unspecified   \n",
       "4         Unspecified    Unspecified  Unspecified  Unspecified  Unspecified   \n",
       "\n",
       "  School Not Found  School or Citywide Complaint  Vehicle Type  \\\n",
       "0                N                           NaN           NaN   \n",
       "1                N                           NaN           NaN   \n",
       "2                N                           NaN           NaN   \n",
       "3                N                           NaN           NaN   \n",
       "4                N                           NaN           NaN   \n",
       "\n",
       "   Taxi Company Borough  Taxi Pick Up Location Bridge Highway Name  \\\n",
       "0                   NaN                    NaN                 NaN   \n",
       "1                   NaN                    NaN                 NaN   \n",
       "2                   NaN                    NaN                 NaN   \n",
       "3                   NaN                    NaN                 NaN   \n",
       "4                   NaN                    NaN                 NaN   \n",
       "\n",
       "  Bridge Highway Direction Road Ramp Bridge Highway Segment  Garage Lot Name  \\\n",
       "0                      NaN       NaN                    NaN              NaN   \n",
       "1                      NaN       NaN                    NaN              NaN   \n",
       "2                      NaN       NaN                    NaN              NaN   \n",
       "3                      NaN       NaN                    NaN              NaN   \n",
       "4                      NaN       NaN                    NaN              NaN   \n",
       "\n",
       "   Ferry Direction  Ferry Terminal Name   Latitude  Longitude  \\\n",
       "0              NaN                  NaN  40.839306 -73.877301   \n",
       "1              NaN                  NaN  40.830222 -73.947684   \n",
       "2              NaN                  NaN  40.825104 -73.949368   \n",
       "3              NaN                  NaN  40.640965 -73.929232   \n",
       "4              NaN                  NaN  40.634384 -73.941525   \n",
       "\n",
       "                                   Location  \n",
       "0    (40.83930620730105, -73.8773009180668)  \n",
       "1  (40.830222460372724, -73.94768359377827)  \n",
       "2  (40.825104318551325, -73.94936777115372)  \n",
       "3   (40.64096464471428, -73.92923194083798)  \n",
       "4    (40.63438406330588, -73.9415248319131)  "
      ]
     },
     "execution_count": 7,
     "metadata": {},
     "output_type": "execute_result"
    }
   ],
   "source": [
    "df.head()"
   ]
  },
  {
   "cell_type": "markdown",
   "metadata": {},
   "source": [
    "### Look at the first few rows\n",
    "\n",
    "Make sure you can see **every single column.**"
   ]
  },
  {
   "cell_type": "code",
   "execution_count": 8,
   "metadata": {},
   "outputs": [
    {
     "data": {
      "text/html": [
       "<div>\n",
       "<style>\n",
       "    .dataframe thead tr:only-child th {\n",
       "        text-align: right;\n",
       "    }\n",
       "\n",
       "    .dataframe thead th {\n",
       "        text-align: left;\n",
       "    }\n",
       "\n",
       "    .dataframe tbody tr th {\n",
       "        vertical-align: top;\n",
       "    }\n",
       "</style>\n",
       "<table border=\"1\" class=\"dataframe\">\n",
       "  <thead>\n",
       "    <tr style=\"text-align: right;\">\n",
       "      <th></th>\n",
       "      <th>Unique Key</th>\n",
       "      <th>Created Date</th>\n",
       "      <th>Closed Date</th>\n",
       "      <th>Agency</th>\n",
       "      <th>Agency Name</th>\n",
       "      <th>Complaint Type</th>\n",
       "      <th>Descriptor</th>\n",
       "      <th>Location Type</th>\n",
       "      <th>Incident Zip</th>\n",
       "      <th>Incident Address</th>\n",
       "      <th>Street Name</th>\n",
       "      <th>Cross Street 1</th>\n",
       "      <th>Cross Street 2</th>\n",
       "      <th>Intersection Street 1</th>\n",
       "      <th>Intersection Street 2</th>\n",
       "      <th>Address Type</th>\n",
       "      <th>City</th>\n",
       "      <th>Landmark</th>\n",
       "      <th>Facility Type</th>\n",
       "      <th>Status</th>\n",
       "      <th>Due Date</th>\n",
       "      <th>Resolution Description</th>\n",
       "      <th>Resolution Action Updated Date</th>\n",
       "      <th>Community Board</th>\n",
       "      <th>Borough</th>\n",
       "      <th>X Coordinate (State Plane)</th>\n",
       "      <th>Y Coordinate (State Plane)</th>\n",
       "      <th>Park Facility Name</th>\n",
       "      <th>Park Borough</th>\n",
       "      <th>School Name</th>\n",
       "      <th>School Number</th>\n",
       "      <th>School Region</th>\n",
       "      <th>School Code</th>\n",
       "      <th>School Phone Number</th>\n",
       "      <th>School Address</th>\n",
       "      <th>School City</th>\n",
       "      <th>School State</th>\n",
       "      <th>School Zip</th>\n",
       "      <th>School Not Found</th>\n",
       "      <th>School or Citywide Complaint</th>\n",
       "      <th>Vehicle Type</th>\n",
       "      <th>Taxi Company Borough</th>\n",
       "      <th>Taxi Pick Up Location</th>\n",
       "      <th>Bridge Highway Name</th>\n",
       "      <th>Bridge Highway Direction</th>\n",
       "      <th>Road Ramp</th>\n",
       "      <th>Bridge Highway Segment</th>\n",
       "      <th>Garage Lot Name</th>\n",
       "      <th>Ferry Direction</th>\n",
       "      <th>Ferry Terminal Name</th>\n",
       "      <th>Latitude</th>\n",
       "      <th>Longitude</th>\n",
       "      <th>Location</th>\n",
       "    </tr>\n",
       "  </thead>\n",
       "  <tbody>\n",
       "    <tr>\n",
       "      <th>0</th>\n",
       "      <td>31463990</td>\n",
       "      <td>09/04/2015 10:55:25 PM</td>\n",
       "      <td>09/05/2015 02:06:54 AM</td>\n",
       "      <td>NYPD</td>\n",
       "      <td>New York City Police Department</td>\n",
       "      <td>Noise - Street/Sidewalk</td>\n",
       "      <td>Loud Music/Party</td>\n",
       "      <td>Street/Sidewalk</td>\n",
       "      <td>10460.0</td>\n",
       "      <td>1110 WYATT STREET</td>\n",
       "      <td>WYATT STREET</td>\n",
       "      <td>DEVOE AVENUE</td>\n",
       "      <td>BRONX PARK AVENUE</td>\n",
       "      <td>NaN</td>\n",
       "      <td>NaN</td>\n",
       "      <td>ADDRESS</td>\n",
       "      <td>BRONX</td>\n",
       "      <td>NaN</td>\n",
       "      <td>Precinct</td>\n",
       "      <td>Closed</td>\n",
       "      <td>09/05/2015 06:55:25 AM</td>\n",
       "      <td>The Police Department responded and upon arriv...</td>\n",
       "      <td>09/05/2015 02:06:54 AM</td>\n",
       "      <td>06 BRONX</td>\n",
       "      <td>BRONX</td>\n",
       "      <td>1018201.0</td>\n",
       "      <td>245083.0</td>\n",
       "      <td>Unspecified</td>\n",
       "      <td>BRONX</td>\n",
       "      <td>Unspecified</td>\n",
       "      <td>Unspecified</td>\n",
       "      <td>Unspecified</td>\n",
       "      <td>Unspecified</td>\n",
       "      <td>Unspecified</td>\n",
       "      <td>Unspecified</td>\n",
       "      <td>Unspecified</td>\n",
       "      <td>Unspecified</td>\n",
       "      <td>Unspecified</td>\n",
       "      <td>N</td>\n",
       "      <td>NaN</td>\n",
       "      <td>NaN</td>\n",
       "      <td>NaN</td>\n",
       "      <td>NaN</td>\n",
       "      <td>NaN</td>\n",
       "      <td>NaN</td>\n",
       "      <td>NaN</td>\n",
       "      <td>NaN</td>\n",
       "      <td>NaN</td>\n",
       "      <td>NaN</td>\n",
       "      <td>NaN</td>\n",
       "      <td>40.839306</td>\n",
       "      <td>-73.877301</td>\n",
       "      <td>(40.83930620730105, -73.8773009180668)</td>\n",
       "    </tr>\n",
       "  </tbody>\n",
       "</table>\n",
       "</div>"
      ],
      "text/plain": [
       "   Unique Key            Created Date             Closed Date Agency  \\\n",
       "0    31463990  09/04/2015 10:55:25 PM  09/05/2015 02:06:54 AM   NYPD   \n",
       "\n",
       "                       Agency Name           Complaint Type        Descriptor  \\\n",
       "0  New York City Police Department  Noise - Street/Sidewalk  Loud Music/Party   \n",
       "\n",
       "     Location Type  Incident Zip   Incident Address   Street Name  \\\n",
       "0  Street/Sidewalk       10460.0  1110 WYATT STREET  WYATT STREET   \n",
       "\n",
       "  Cross Street 1     Cross Street 2 Intersection Street 1  \\\n",
       "0   DEVOE AVENUE  BRONX PARK AVENUE                   NaN   \n",
       "\n",
       "  Intersection Street 2 Address Type   City Landmark Facility Type  Status  \\\n",
       "0                   NaN      ADDRESS  BRONX      NaN      Precinct  Closed   \n",
       "\n",
       "                 Due Date                             Resolution Description  \\\n",
       "0  09/05/2015 06:55:25 AM  The Police Department responded and upon arriv...   \n",
       "\n",
       "  Resolution Action Updated Date Community Board Borough  \\\n",
       "0         09/05/2015 02:06:54 AM        06 BRONX   BRONX   \n",
       "\n",
       "   X Coordinate (State Plane)  Y Coordinate (State Plane) Park Facility Name  \\\n",
       "0                   1018201.0                    245083.0        Unspecified   \n",
       "\n",
       "  Park Borough  School Name School Number School Region  School Code  \\\n",
       "0        BRONX  Unspecified   Unspecified   Unspecified  Unspecified   \n",
       "\n",
       "  School Phone Number School Address  School City School State   School Zip  \\\n",
       "0         Unspecified    Unspecified  Unspecified  Unspecified  Unspecified   \n",
       "\n",
       "  School Not Found  School or Citywide Complaint  Vehicle Type  \\\n",
       "0                N                           NaN           NaN   \n",
       "\n",
       "   Taxi Company Borough  Taxi Pick Up Location Bridge Highway Name  \\\n",
       "0                   NaN                    NaN                 NaN   \n",
       "\n",
       "  Bridge Highway Direction Road Ramp Bridge Highway Segment  Garage Lot Name  \\\n",
       "0                      NaN       NaN                    NaN              NaN   \n",
       "\n",
       "   Ferry Direction  Ferry Terminal Name   Latitude  Longitude  \\\n",
       "0              NaN                  NaN  40.839306 -73.877301   \n",
       "\n",
       "                                 Location  \n",
       "0  (40.83930620730105, -73.8773009180668)  "
      ]
     },
     "execution_count": 8,
     "metadata": {},
     "output_type": "execute_result"
    }
   ],
   "source": [
    "df.head(1)"
   ]
  },
  {
   "cell_type": "code",
   "execution_count": 9,
   "metadata": {
    "collapsed": true
   },
   "outputs": [],
   "source": [
    "pd.set_option(\"display.max_columns\", 100)"
   ]
  },
  {
   "cell_type": "markdown",
   "metadata": {},
   "source": [
    "### Speeding things up\n",
    "\n",
    "We're going to be looking at open and close times, agencies, and the complaints (both types and descriptor). The only kind of location-based thing we'll want is borough.\n",
    "\n",
    "**How much faster is it if we only read in those columns?**"
   ]
  },
  {
   "cell_type": "code",
   "execution_count": 10,
   "metadata": {},
   "outputs": [
    {
     "name": "stdout",
     "output_type": "stream",
     "text": [
      "Wall time: 52 s\n"
     ]
    }
   ],
   "source": [
    "%%time\n",
    "df = pd.read_csv(\"data/311_Service_Requests_from_2010_to_Present.csv\", usecols=['Unique Key', 'Created Date', 'Closed Date', 'Agency', 'Complaint Type', 'Descriptor', 'Location Type', 'Borough'])"
   ]
  },
  {
   "cell_type": "markdown",
   "metadata": {},
   "source": [
    "## Converting the 'Created Date' and 'Closed Date' columns to datetimes\n",
    "\n",
    "### First, testing some things out\n",
    "\n",
    "Let's take a look at converting **Created Date**, but **not all at once**.\n",
    "\n",
    "1. Take 10,000 of them and try to convert them **without** a format string. Time it.\n",
    "2. Take the same 10,000 and try to convert them **with** a format string. Time it.\n",
    "\n",
    "If you tried to do all 1.8 million rows, **how long might it take with a format string vs without?**"
   ]
  },
  {
   "cell_type": "code",
   "execution_count": 11,
   "metadata": {
    "collapsed": true
   },
   "outputs": [],
   "source": [
    "#pd.to_datetime(df['Created Date']).head(10000)"
   ]
  },
  {
   "cell_type": "code",
   "execution_count": 12,
   "metadata": {},
   "outputs": [
    {
     "data": {
      "text/plain": [
       "0      2015-09-04 22:55:25\n",
       "1      2015-09-04 13:53:45\n",
       "2      2015-09-04 21:15:43\n",
       "3      2015-09-05 01:06:57\n",
       "4      2015-09-04 07:48:25\n",
       "5      2015-09-04 11:31:12\n",
       "6      2015-09-04 07:02:24\n",
       "7      2015-09-04 12:34:05\n",
       "8      2015-09-04 19:56:42\n",
       "9      2015-09-04 21:04:42\n",
       "10     2015-09-04 20:26:09\n",
       "11     2015-09-04 11:07:15\n",
       "12     2015-09-04 22:23:59\n",
       "13     2015-09-04 23:16:12\n",
       "14     2015-09-04 16:49:55\n",
       "15     2015-09-04 14:39:46\n",
       "16     2015-09-04 20:21:22\n",
       "17     2015-09-04 23:34:23\n",
       "18     2015-09-04 21:55:19\n",
       "19     2015-09-04 23:44:07\n",
       "20     2015-09-04 08:12:10\n",
       "21     2015-09-04 23:14:40\n",
       "22     2015-09-04 20:17:20\n",
       "23     2015-09-04 22:54:59\n",
       "24     2015-09-04 15:45:14\n",
       "25     2015-09-04 23:48:20\n",
       "26     2015-09-05 01:53:40\n",
       "27     2015-09-04 23:34:47\n",
       "28     2015-09-04 23:37:52\n",
       "29     2015-09-04 23:01:37\n",
       "               ...        \n",
       "9970   2015-09-07 13:39:12\n",
       "9971   2015-09-07 06:53:28\n",
       "9972   2015-09-07 06:10:00\n",
       "9973   2015-09-07 04:02:27\n",
       "9974   2015-09-07 09:00:33\n",
       "9975   2015-09-07 07:13:20\n",
       "9976   2015-09-07 14:47:56\n",
       "9977   2015-09-07 13:55:42\n",
       "9978   2015-09-07 05:30:49\n",
       "9979   2015-09-07 06:02:00\n",
       "9980   2015-09-07 19:57:57\n",
       "9981   2015-09-07 21:26:28\n",
       "9982   2015-09-07 11:49:55\n",
       "9983   2015-09-07 22:05:00\n",
       "9984   2015-09-07 09:18:10\n",
       "9985   2015-09-07 13:13:02\n",
       "9986   2015-09-07 12:26:18\n",
       "9987   2015-09-07 06:09:00\n",
       "9988   2015-09-07 18:41:04\n",
       "9989   2015-09-08 01:59:16\n",
       "9990   2015-09-07 06:04:00\n",
       "9991   2015-09-07 06:02:00\n",
       "9992   2015-09-07 22:40:23\n",
       "9993   2015-09-07 23:18:22\n",
       "9994   2015-09-07 15:05:00\n",
       "9995   2015-09-07 19:12:08\n",
       "9996   2015-09-07 21:11:00\n",
       "9997   2015-09-08 16:50:52\n",
       "9998   2015-09-08 07:27:55\n",
       "9999   2015-09-08 16:25:03\n",
       "Name: Created Date, Length: 10000, dtype: datetime64[ns]"
      ]
     },
     "execution_count": 12,
     "metadata": {},
     "output_type": "execute_result"
    }
   ],
   "source": [
    "first_ten_thousand = df['Created Date'].head(10000)\n",
    "pd.to_datetime(first_ten_thousand)"
   ]
  },
  {
   "cell_type": "code",
   "execution_count": 13,
   "metadata": {},
   "outputs": [
    {
     "name": "stdout",
     "output_type": "stream",
     "text": [
      "Wall time: 356 ms\n"
     ]
    },
    {
     "data": {
      "text/plain": [
       "0      2015-09-04 22:55:25\n",
       "1      2015-09-04 13:53:45\n",
       "2      2015-09-04 21:15:43\n",
       "3      2015-09-05 01:06:57\n",
       "4      2015-09-04 07:48:25\n",
       "5      2015-09-04 11:31:12\n",
       "6      2015-09-04 07:02:24\n",
       "7      2015-09-04 12:34:05\n",
       "8      2015-09-04 19:56:42\n",
       "9      2015-09-04 21:04:42\n",
       "10     2015-09-04 20:26:09\n",
       "11     2015-09-04 11:07:15\n",
       "12     2015-09-04 22:23:59\n",
       "13     2015-09-04 23:16:12\n",
       "14     2015-09-04 16:49:55\n",
       "15     2015-09-04 14:39:46\n",
       "16     2015-09-04 20:21:22\n",
       "17     2015-09-04 23:34:23\n",
       "18     2015-09-04 21:55:19\n",
       "19     2015-09-04 23:44:07\n",
       "20     2015-09-04 08:12:10\n",
       "21     2015-09-04 23:14:40\n",
       "22     2015-09-04 20:17:20\n",
       "23     2015-09-04 22:54:59\n",
       "24     2015-09-04 15:45:14\n",
       "25     2015-09-04 23:48:20\n",
       "26     2015-09-05 01:53:40\n",
       "27     2015-09-04 23:34:47\n",
       "28     2015-09-04 23:37:52\n",
       "29     2015-09-04 23:01:37\n",
       "               ...        \n",
       "9970   2015-09-07 13:39:12\n",
       "9971   2015-09-07 06:53:28\n",
       "9972   2015-09-07 06:10:00\n",
       "9973   2015-09-07 04:02:27\n",
       "9974   2015-09-07 09:00:33\n",
       "9975   2015-09-07 07:13:20\n",
       "9976   2015-09-07 14:47:56\n",
       "9977   2015-09-07 13:55:42\n",
       "9978   2015-09-07 05:30:49\n",
       "9979   2015-09-07 06:02:00\n",
       "9980   2015-09-07 19:57:57\n",
       "9981   2015-09-07 21:26:28\n",
       "9982   2015-09-07 11:49:55\n",
       "9983   2015-09-07 22:05:00\n",
       "9984   2015-09-07 09:18:10\n",
       "9985   2015-09-07 13:13:02\n",
       "9986   2015-09-07 12:26:18\n",
       "9987   2015-09-07 06:09:00\n",
       "9988   2015-09-07 18:41:04\n",
       "9989   2015-09-08 01:59:16\n",
       "9990   2015-09-07 06:04:00\n",
       "9991   2015-09-07 06:02:00\n",
       "9992   2015-09-07 22:40:23\n",
       "9993   2015-09-07 23:18:22\n",
       "9994   2015-09-07 15:05:00\n",
       "9995   2015-09-07 19:12:08\n",
       "9996   2015-09-07 21:11:00\n",
       "9997   2015-09-08 16:50:52\n",
       "9998   2015-09-08 07:27:55\n",
       "9999   2015-09-08 16:25:03\n",
       "Name: Created Date, Length: 10000, dtype: datetime64[ns]"
      ]
     },
     "execution_count": 13,
     "metadata": {},
     "output_type": "execute_result"
    }
   ],
   "source": [
    "%%time\n",
    "pd.to_datetime(first_ten_thousand, format= '%m/%d/%Y %I:%M:%S %p')"
   ]
  },
  {
   "cell_type": "code",
   "execution_count": null,
   "metadata": {
    "collapsed": true
   },
   "outputs": [],
   "source": []
  },
  {
   "cell_type": "markdown",
   "metadata": {},
   "source": [
    "### Creating new columns\n",
    "\n",
    "Create new columns called `created_at` and `closed_at` from the `Created Date` and `Closed Date` columns. Do them individually, and **time them**."
   ]
  },
  {
   "cell_type": "code",
   "execution_count": 14,
   "metadata": {
    "collapsed": true
   },
   "outputs": [],
   "source": [
    "df['created_at'] = pd.to_datetime(df['Created Date'], format= '%m/%d/%Y %I:%M:%S %p')"
   ]
  },
  {
   "cell_type": "code",
   "execution_count": 15,
   "metadata": {},
   "outputs": [
    {
     "data": {
      "text/plain": [
       "0   2015-09-04 22:55:25\n",
       "1   2015-09-04 13:53:45\n",
       "2   2015-09-04 21:15:43\n",
       "3   2015-09-05 01:06:57\n",
       "4   2015-09-04 07:48:25\n",
       "Name: created_at, dtype: datetime64[ns]"
      ]
     },
     "execution_count": 15,
     "metadata": {},
     "output_type": "execute_result"
    }
   ],
   "source": [
    "df['created_at'].head()"
   ]
  },
  {
   "cell_type": "code",
   "execution_count": 16,
   "metadata": {
    "collapsed": true
   },
   "outputs": [],
   "source": [
    "df['closed_at'] = pd.to_datetime(df['Closed Date'], format= '%m/%d/%Y %I:%M:%S %p')"
   ]
  },
  {
   "cell_type": "code",
   "execution_count": 17,
   "metadata": {},
   "outputs": [
    {
     "data": {
      "text/plain": [
       "0   2015-09-05 02:06:54\n",
       "1   2015-09-04 18:37:24\n",
       "2   2015-09-04 22:32:01\n",
       "3   2015-09-05 02:26:43\n",
       "4   2015-09-04 17:21:18\n",
       "Name: closed_at, dtype: datetime64[ns]"
      ]
     },
     "execution_count": 17,
     "metadata": {},
     "output_type": "execute_result"
    }
   ],
   "source": [
    "df['closed_at'].head()"
   ]
  },
  {
   "cell_type": "markdown",
   "metadata": {},
   "source": [
    "### Confirming they look okay\n",
    "\n",
    "Take a look at the first few rows to make sure the dates look correct, and then make sure their data type is `datetime64[ns]`."
   ]
  },
  {
   "cell_type": "code",
   "execution_count": null,
   "metadata": {
    "collapsed": true
   },
   "outputs": [],
   "source": []
  },
  {
   "cell_type": "markdown",
   "metadata": {},
   "source": [
    "# Examining agencies"
   ]
  },
  {
   "cell_type": "markdown",
   "metadata": {},
   "source": [
    "Who has more 311 requests, the Department of Transportation or the NYPD?"
   ]
  },
  {
   "cell_type": "code",
   "execution_count": 18,
   "metadata": {},
   "outputs": [
    {
     "data": {
      "text/plain": [
       "NYPD    1251121\n",
       "DOT      593157\n",
       "Name: Agency, dtype: int64"
      ]
     },
     "execution_count": 18,
     "metadata": {},
     "output_type": "execute_result"
    }
   ],
   "source": [
    "df['Agency'].value_counts()"
   ]
  },
  {
   "cell_type": "markdown",
   "metadata": {},
   "source": [
    "## What's the difference between \"Complaint Type\" and \"Descriptor\" columns?"
   ]
  },
  {
   "cell_type": "code",
   "execution_count": 19,
   "metadata": {},
   "outputs": [
    {
     "data": {
      "text/plain": [
       "Noise - Residential            429932\n",
       "Blocked Driveway               219927\n",
       "Illegal Parking                215158\n",
       "Street Condition               215053\n",
       "Street Light Condition         187228\n",
       "Noise - Street/Sidewalk        112890\n",
       "Noise - Commercial              93115\n",
       "Traffic Signal Condition        79737\n",
       "Derelict Vehicle                50758\n",
       "Broken Muni Meter               47234\n",
       "Noise - Vehicle                 43213\n",
       "Animal Abuse                    20609\n",
       "Non-Emergency Police Matter     16716\n",
       "Street Sign - Damaged           12041\n",
       "Sidewalk Condition              11630\n",
       "Traffic                         10825\n",
       "Highway Condition               10795\n",
       "Homeless Encampment             10053\n",
       "Street Sign - Missing            9061\n",
       "Vending                          8894\n",
       "Noise - Park                     7995\n",
       "DOT Literature Request           6028\n",
       "Curb Condition                   4381\n",
       "Street Sign - Dangling           4015\n",
       "Drinking                         2942\n",
       "Noise - House of Worship         1991\n",
       "Posting Advertisement            1781\n",
       "Broken Parking Meter             1778\n",
       "Urinating in Public              1118\n",
       "Ferry Inquiry                    1067\n",
       "Bridge Condition                  835\n",
       "Bike/Roller/Skate Chronic         829\n",
       "Panhandling                       797\n",
       "Disorderly Youth                  547\n",
       "Ferry Complaint                   533\n",
       "Agency Issues                     403\n",
       "Bus Stop Shelter Placement        395\n",
       "Illegal Fireworks                 383\n",
       "Drug Activity                     370\n",
       "Graffiti                          249\n",
       "Bike Rack Condition               243\n",
       "Municipal Parking Facility        166\n",
       "Ferry Permit                      135\n",
       "Highway Sign - Damaged            127\n",
       "Public Toilet                      97\n",
       "Highway Sign - Missing             63\n",
       "Parking Card                       60\n",
       "Highway Sign - Dangling            37\n",
       "Tunnel Condition                   26\n",
       "Squeegee                            9\n",
       "Building Condition                  4\n",
       "Maintenance or Facility             2\n",
       "Animal in a Park                    1\n",
       "Dead/Dying Tree                     1\n",
       "Opinion for the Mayor               1\n",
       "Name: Complaint Type, dtype: int64"
      ]
     },
     "execution_count": 19,
     "metadata": {},
     "output_type": "execute_result"
    }
   ],
   "source": [
    "df['Complaint Type'].value_counts()  #Categories"
   ]
  },
  {
   "cell_type": "code",
   "execution_count": 20,
   "metadata": {},
   "outputs": [
    {
     "data": {
      "text/plain": [
       "Loud Music/Party                                             432588\n",
       "No Access                                                    163622\n",
       "Street Light Out                                             147587\n",
       "Pothole                                                      138134\n",
       "Banging/Pounding                                             122237\n",
       "Loud Talking                                                  78513\n",
       "Posted Parking Sign Violation                                 62033\n",
       "Partial Access                                                56305\n",
       "Blocked Hydrant                                               50785\n",
       "With License Plate                                            50758\n",
       "Controller                                                    41109\n",
       "Blocked Sidewalk                                              32649\n",
       "Commercial Overnight Parking                                  31242\n",
       "Car/Truck Music                                               26665\n",
       "Cave-in                                                       22539\n",
       "Coin or Card Did Not Register                                 18478\n",
       "Other (complaint details)                                     18301\n",
       "Double Parked Blocking Traffic                                17039\n",
       "Out of Order                                                  16414\n",
       "Blocked - Construction                                        13077\n",
       "Rough, Pitted or Cracked Roads                                12150\n",
       "Defective Hardware                                            11832\n",
       "Engine Idling                                                 11366\n",
       "Double Parked Blocking Vehicle                                11236\n",
       "No Receipt                                                    10463\n",
       "Neglected                                                      9959\n",
       "Car/Truck Horn                                                 9822\n",
       "Failed Street Repair                                           9408\n",
       "Street Light Cycling                                           8880\n",
       "Loud Television                                                7945\n",
       "                                                              ...  \n",
       "2015 Alternate Side Parking Calendar - Chinese                    2\n",
       "Lane Station                                                      2\n",
       "Dead End Sign                                                     2\n",
       "Traffic Camera                                                    2\n",
       "Relocation of Parking Meter                                       2\n",
       "2016 Alternate Side Parking Calendar - Korean                     2\n",
       "Wireless                                                          2\n",
       "Supervisory                                                       1\n",
       "Blank Out Matrix Sgn                                              1\n",
       "PPPD - Initial - City Application - Chinese - Traditional         1\n",
       "Planted More Than 2 Years Ago                                     1\n",
       "Sign Defect - Garage                                              1\n",
       "Defective Streetlight                                             1\n",
       "Condulet Cover                                                    1\n",
       "Graffiti - Tunnel                                                 1\n",
       "2015 Alternate Side Parking Calendar - Bengali                    1\n",
       "PPPD - Initial - City Application - Haitian Creole                1\n",
       "Marine Fixture                                                    1\n",
       "2015 Alternate Side Parking Calendar - Russian                    1\n",
       "Damaged/Missing Ad Box                                            1\n",
       "Marine Globe                                                      1\n",
       "Fire Alarm Lamp Dim                                               1\n",
       "Dust Cover                                                        1\n",
       "Traffic Signal Condition                                          1\n",
       "EXPY Sign Reflector                                               1\n",
       "Animal Waste                                                      1\n",
       "PPPD - Initial - City Application - Korean                        1\n",
       "Lighting/Electrical                                               1\n",
       "2015 Alternate Side Parking Calendar - Korean                     1\n",
       "Coax Cable                                                        1\n",
       "Name: Descriptor, Length: 355, dtype: int64"
      ]
     },
     "execution_count": 20,
     "metadata": {},
     "output_type": "execute_result"
    }
   ],
   "source": [
    "df['Descriptor'].value_counts() #descriptions"
   ]
  },
  {
   "cell_type": "markdown",
   "metadata": {},
   "source": [
    "## What are the most popular categories of complaints for the NYPD? For the DOT?"
   ]
  },
  {
   "cell_type": "code",
   "execution_count": 21,
   "metadata": {},
   "outputs": [
    {
     "data": {
      "text/plain": [
       "Noise - Residential        429932\n",
       "Blocked Driveway           219927\n",
       "Illegal Parking            215158\n",
       "Noise - Street/Sidewalk    112890\n",
       "Noise - Commercial          93115\n",
       "Name: Complaint Type, dtype: int64"
      ]
     },
     "execution_count": 21,
     "metadata": {},
     "output_type": "execute_result"
    }
   ],
   "source": [
    "df[df['Agency'] == 'NYPD']['Complaint Type'].value_counts().head()"
   ]
  },
  {
   "cell_type": "code",
   "execution_count": 22,
   "metadata": {},
   "outputs": [
    {
     "data": {
      "text/plain": [
       "Street Condition            215052\n",
       "Street Light Condition      187228\n",
       "Traffic Signal Condition     79737\n",
       "Broken Muni Meter            47234\n",
       "Street Sign - Damaged        12041\n",
       "Name: Complaint Type, dtype: int64"
      ]
     },
     "execution_count": 22,
     "metadata": {},
     "output_type": "execute_result"
    }
   ],
   "source": [
    "df[df['Agency'] == 'DOT']['Complaint Type'].value_counts().head()"
   ]
  },
  {
   "cell_type": "markdown",
   "metadata": {},
   "source": [
    "## When people are complaining about street conditions, what are they usually complaining about?"
   ]
  },
  {
   "cell_type": "code",
   "execution_count": 23,
   "metadata": {},
   "outputs": [
    {
     "data": {
      "text/plain": [
       "39                                Pothole\n",
       "69                                Pothole\n",
       "75                                Pothole\n",
       "76                                Pothole\n",
       "100                               Pothole\n",
       "138                               Pothole\n",
       "147                               Pothole\n",
       "157        Rough, Pitted or Cracked Roads\n",
       "160        Rough, Pitted or Cracked Roads\n",
       "163                               Cave-in\n",
       "164                               Cave-in\n",
       "165                               Cave-in\n",
       "166                  Line/Marking - Faded\n",
       "172                               Cave-in\n",
       "207                Blocked - Construction\n",
       "212               Plate Condition - Noisy\n",
       "220                  Failed Street Repair\n",
       "222               Plate Condition - Noisy\n",
       "223                       Unsafe Worksite\n",
       "281                               Pothole\n",
       "304                               Pothole\n",
       "330                               Pothole\n",
       "399                               Pothole\n",
       "400                               Pothole\n",
       "401                               Pothole\n",
       "423                               Pothole\n",
       "424                               Pothole\n",
       "457                               Pothole\n",
       "469                               Pothole\n",
       "470        Rough, Pitted or Cracked Roads\n",
       "                        ...              \n",
       "1844002    Rough, Pitted or Cracked Roads\n",
       "1844003    Rough, Pitted or Cracked Roads\n",
       "1844004    Rough, Pitted or Cracked Roads\n",
       "1844005    Rough, Pitted or Cracked Roads\n",
       "1844040                           Pothole\n",
       "1844041    Rough, Pitted or Cracked Roads\n",
       "1844091                           Cave-in\n",
       "1844101    Rough, Pitted or Cracked Roads\n",
       "1844122                           Cave-in\n",
       "1844123              Failed Street Repair\n",
       "1844131    Rough, Pitted or Cracked Roads\n",
       "1844132    Rough, Pitted or Cracked Roads\n",
       "1844135    Rough, Pitted or Cracked Roads\n",
       "1844136    Rough, Pitted or Cracked Roads\n",
       "1844137    Rough, Pitted or Cracked Roads\n",
       "1844138    Rough, Pitted or Cracked Roads\n",
       "1844141    Rough, Pitted or Cracked Roads\n",
       "1844220                           Cave-in\n",
       "1844224                           Cave-in\n",
       "1844228                           Cave-in\n",
       "1844232                           Pothole\n",
       "1844233    Rough, Pitted or Cracked Roads\n",
       "1844235    Rough, Pitted or Cracked Roads\n",
       "1844247    Rough, Pitted or Cracked Roads\n",
       "1844248    Rough, Pitted or Cracked Roads\n",
       "1844254    Rough, Pitted or Cracked Roads\n",
       "1844256              Failed Street Repair\n",
       "1844260    Rough, Pitted or Cracked Roads\n",
       "1844261    Rough, Pitted or Cracked Roads\n",
       "1844268              Line/Marking - Faded\n",
       "Name: Descriptor, Length: 215053, dtype: object"
      ]
     },
     "execution_count": 23,
     "metadata": {},
     "output_type": "execute_result"
    }
   ],
   "source": [
    "df[df['Complaint Type'] == 'Street Condition']['Descriptor']"
   ]
  },
  {
   "cell_type": "markdown",
   "metadata": {},
   "source": [
    "## What kinds of noise are they complaining about when making residential noise complaints?"
   ]
  },
  {
   "cell_type": "code",
   "execution_count": 24,
   "metadata": {},
   "outputs": [
    {
     "data": {
      "text/plain": [
       "Loud Music/Party    283631\n",
       "Banging/Pounding    108470\n",
       "Loud Talking         30097\n",
       "Loud Television       7734\n",
       "Name: Descriptor, dtype: int64"
      ]
     },
     "execution_count": 24,
     "metadata": {},
     "output_type": "execute_result"
    }
   ],
   "source": [
    "df[df['Complaint Type'] == 'Noise - Residential']['Descriptor'].value_counts()"
   ]
  },
  {
   "cell_type": "markdown",
   "metadata": {},
   "source": [
    "# Timing our complaints\n",
    "\n",
    "How many complaints were filed each month?\n",
    "\n",
    "- Tip: You'll probably want to `.set_index` first!"
   ]
  },
  {
   "cell_type": "code",
   "execution_count": 25,
   "metadata": {
    "collapsed": true
   },
   "outputs": [],
   "source": [
    "df.set_index('created_at', inplace= True)"
   ]
  },
  {
   "cell_type": "code",
   "execution_count": null,
   "metadata": {
    "collapsed": true
   },
   "outputs": [],
   "source": []
  },
  {
   "cell_type": "markdown",
   "metadata": {},
   "source": [
    "## Plot how many requests were filed each month"
   ]
  },
  {
   "cell_type": "code",
   "execution_count": 26,
   "metadata": {},
   "outputs": [
    {
     "data": {
      "text/plain": [
       "<matplotlib.axes._subplots.AxesSubplot at 0xd4d8c609e8>"
      ]
     },
     "execution_count": 26,
     "metadata": {},
     "output_type": "execute_result"
    },
    {
     "data": {
      "image/png": "[encoded data removed]",
      "text/plain": [
       "<matplotlib.figure.Figure at 0xd4dc1b04a8>"
      ]
     },
     "metadata": {},
     "output_type": "display_data"
    }
   ],
   "source": [
    "df['Unique Key'].resample('M').count().plot()"
   ]
  },
  {
   "cell_type": "markdown",
   "metadata": {},
   "source": [
    "# Hmmm, it looks like a cycle\n",
    "\n",
    "What could cause that? Try a couple comparisons to see if you can find out.\n",
    "\n",
    "- Tip: Maybe the most popular summer complaints vs winter\n",
    "- Tip: Maybe graphing the different agencies on the same graph\n",
    "\n",
    "If you don't figure it out **that's okay!** "
   ]
  },
  {
   "cell_type": "code",
   "execution_count": 27,
   "metadata": {
    "collapsed": true
   },
   "outputs": [],
   "source": [
    "summer = df[df.index.month.isin([6, 7, 8])]"
   ]
  },
  {
   "cell_type": "code",
   "execution_count": 28,
   "metadata": {
    "collapsed": true
   },
   "outputs": [],
   "source": [
    "winter = df[df.index.month.isin([12, 1, 2])]"
   ]
  },
  {
   "cell_type": "code",
   "execution_count": 29,
   "metadata": {
    "collapsed": true
   },
   "outputs": [],
   "source": [
    "import numpy as np\n",
    "import datetime as datetime"
   ]
  },
  {
   "cell_type": "code",
   "execution_count": 30,
   "metadata": {},
   "outputs": [
    {
     "data": {
      "text/plain": [
       "Noise - Residential       56003\n",
       "Street Condition          29377\n",
       "Illegal Parking           24891\n",
       "Street Light Condition    24651\n",
       "Blocked Driveway          24011\n",
       "Name: Complaint Type, dtype: int64"
      ]
     },
     "execution_count": 30,
     "metadata": {},
     "output_type": "execute_result"
    }
   ],
   "source": [
    "df[\"2015-06\":\"2015-08\"]['Complaint Type'].value_counts().head(5)"
   ]
  },
  {
   "cell_type": "code",
   "execution_count": 31,
   "metadata": {},
   "outputs": [
    {
     "data": {
      "text/plain": [
       "Noise - Residential       43615\n",
       "Street Condition          42728\n",
       "Blocked Driveway          24557\n",
       "Street Light Condition    22831\n",
       "Illegal Parking           18068\n",
       "Name: Complaint Type, dtype: int64"
      ]
     },
     "execution_count": 31,
     "metadata": {},
     "output_type": "execute_result"
    }
   ],
   "source": [
    "df[\"2015-01\":\"2015-03\"]['Complaint Type'].value_counts().head(5)"
   ]
  },
  {
   "cell_type": "code",
   "execution_count": 32,
   "metadata": {},
   "outputs": [
    {
     "data": {
      "text/plain": [
       "created_at  Complaint Type             \n",
       "1           Noise - Residential            31317\n",
       "            Blocked Driveway               17359\n",
       "            Street Light Condition         14772\n",
       "            Illegal Parking                14179\n",
       "            Street Condition               13597\n",
       "            Traffic Signal Condition        8192\n",
       "            Noise - Commercial              6408\n",
       "            Broken Muni Meter               4235\n",
       "            Derelict Vehicle                3094\n",
       "            Noise - Street/Sidewalk         2507\n",
       "            Animal Abuse                    2147\n",
       "            Noise - Vehicle                 1511\n",
       "            Non-Emergency Police Matter      939\n",
       "            Street Sign - Damaged            800\n",
       "            DOT Literature Request           715\n",
       "            Highway Condition                654\n",
       "            Sidewalk Condition               648\n",
       "            Street Sign - Missing            615\n",
       "            Traffic                          517\n",
       "            Vending                          394\n",
       "            Homeless Encampment              392\n",
       "            Street Sign - Dangling           272\n",
       "            Curb Condition                   236\n",
       "            Broken Parking Meter             174\n",
       "            Posting Advertisement            147\n",
       "            Drinking                         140\n",
       "            Bridge Condition                  73\n",
       "            Ferry Inquiry                     71\n",
       "            Noise - House of Worship          71\n",
       "            Noise - Park                      47\n",
       "                                           ...  \n",
       "12          Vending                          607\n",
       "            Homeless Encampment              584\n",
       "            Highway Condition                391\n",
       "            Curb Condition                   355\n",
       "            Street Sign - Dangling           256\n",
       "            Posting Advertisement            204\n",
       "            Drug Activity                    173\n",
       "            Drinking                         150\n",
       "            Noise - Park                     147\n",
       "            Noise - House of Worship         113\n",
       "            Broken Parking Meter             104\n",
       "            Ferry Inquiry                     95\n",
       "            Ferry Complaint                   55\n",
       "            Urinating in Public               49\n",
       "            Panhandling                       47\n",
       "            Bike/Roller/Skate Chronic         42\n",
       "            Bridge Condition                  31\n",
       "            Agency Issues                     21\n",
       "            Bus Stop Shelter Placement        15\n",
       "            Disorderly Youth                  15\n",
       "            Bike Rack Condition               12\n",
       "            Graffiti                          10\n",
       "            Ferry Permit                       8\n",
       "            Highway Sign - Damaged             8\n",
       "            Municipal Parking Facility         7\n",
       "            Highway Sign - Missing             3\n",
       "            Illegal Fireworks                  3\n",
       "            Public Toilet                      2\n",
       "            Highway Sign - Dangling            1\n",
       "            Parking Card                       1\n",
       "Name: Complaint Type, Length: 589, dtype: int64"
      ]
     },
     "execution_count": 32,
     "metadata": {},
     "output_type": "execute_result"
    }
   ],
   "source": [
    "df['Complaint Type'].groupby(by=df.index.month).value_counts()"
   ]
  },
  {
   "cell_type": "code",
   "execution_count": 34,
   "metadata": {},
   "outputs": [
    {
     "data": {
      "text/plain": [
       "<matplotlib.axes._subplots.AxesSubplot at 0xd4c4a387b8>"
      ]
     },
     "execution_count": 34,
     "metadata": {},
     "output_type": "execute_result"
    },
    {
     "data": {
      "image/png": "[encoded data removed]",
      "text/plain": [
       "<matplotlib.figure.Figure at 0xd4c4e09f28>"
      ]
     },
     "metadata": {},
     "output_type": "display_data"
    }
   ],
   "source": [
    "nypd = df[df['Agency'] == 'NYPD']\n",
    "dot = df[df['Agency'] == 'DOT']\n",
    "\n",
    "\n",
    "ax = nypd.groupby(by=nypd.index.hour).count().plot(y='Unique Key', label='NYPD')\n",
    "dot.groupby(by=dot.index.hour).count().plot(y='Unique Key', label='DOT', ax=ax)"
   ]
  },
  {
   "cell_type": "markdown",
   "metadata": {},
   "source": [
    "## Time of day\n",
    "\n",
    "### What time of day do people complain?"
   ]
  },
  {
   "cell_type": "code",
   "execution_count": 35,
   "metadata": {},
   "outputs": [
    {
     "data": {
      "text/plain": [
       "created_at\n",
       "23    126255\n",
       "Name: Unique Key, dtype: int64"
      ]
     },
     "execution_count": 35,
     "metadata": {},
     "output_type": "execute_result"
    }
   ],
   "source": [
    "df['Unique Key'].groupby(by=df.index.hour).count().sort_values(ascending = False).head(1)"
   ]
  },
  {
   "cell_type": "markdown",
   "metadata": {},
   "source": [
    "### What time of day do people complain about potholes?"
   ]
  },
  {
   "cell_type": "code",
   "execution_count": 36,
   "metadata": {
    "collapsed": true
   },
   "outputs": [],
   "source": [
    "potholes = df[df['Descriptor'] == 'Pothole']"
   ]
  },
  {
   "cell_type": "code",
   "execution_count": 37,
   "metadata": {},
   "outputs": [
    {
     "data": {
      "text/plain": [
       "<matplotlib.axes._subplots.AxesSubplot at 0xd4c4967470>"
      ]
     },
     "execution_count": 37,
     "metadata": {},
     "output_type": "execute_result"
    },
    {
     "data": {
      "image/png": "[encoded data removed]",
      "text/plain": [
       "<matplotlib.figure.Figure at 0xd4c4a43208>"
      ]
     },
     "metadata": {},
     "output_type": "display_data"
    }
   ],
   "source": [
    "potholes.groupby(by= potholes.index.hour).count().plot(y='Unique Key')"
   ]
  },
  {
   "cell_type": "code",
   "execution_count": null,
   "metadata": {
    "collapsed": true
   },
   "outputs": [],
   "source": []
  },
  {
   "cell_type": "markdown",
   "metadata": {},
   "source": [
    "### What time of day do people complain about loud parties?"
   ]
  },
  {
   "cell_type": "code",
   "execution_count": 38,
   "metadata": {
    "collapsed": true
   },
   "outputs": [],
   "source": [
    "parties = df[df['Descriptor'] == 'Loud Music/Party']\n"
   ]
  },
  {
   "cell_type": "code",
   "execution_count": 39,
   "metadata": {},
   "outputs": [
    {
     "data": {
      "text/plain": [
       "created_at\n",
       "0    53682\n",
       "Name: Unique Key, dtype: int64"
      ]
     },
     "execution_count": 39,
     "metadata": {},
     "output_type": "execute_result"
    }
   ],
   "source": [
    "parties['Unique Key'].groupby(by= parties.index.hour).count().head(1)"
   ]
  },
  {
   "cell_type": "markdown",
   "metadata": {},
   "source": [
    "## Days of the week"
   ]
  },
  {
   "cell_type": "markdown",
   "metadata": {},
   "source": [
    "### What days of the week do people complain about potholes?"
   ]
  },
  {
   "cell_type": "markdown",
   "metadata": {},
   "source": [
    "DatetimeIndex.dayofweek\n",
    "The day of the week with Monday=0, Sunday=6"
   ]
  },
  {
   "cell_type": "code",
   "execution_count": 40,
   "metadata": {},
   "outputs": [
    {
     "data": {
      "text/plain": [
       "created_at\n",
       "1    25260\n",
       "Name: Unique Key, dtype: int64"
      ]
     },
     "execution_count": 40,
     "metadata": {},
     "output_type": "execute_result"
    }
   ],
   "source": [
    "potholes['Unique Key'].groupby(by= potholes.index.dayofweek).count().sort_values(ascending = False).head(1)"
   ]
  },
  {
   "cell_type": "markdown",
   "metadata": {},
   "source": [
    "### What days of the week do people complain about loud parties?"
   ]
  },
  {
   "cell_type": "code",
   "execution_count": 41,
   "metadata": {},
   "outputs": [
    {
     "data": {
      "text/plain": [
       "created_at\n",
       "6    118467\n",
       "Name: Unique Key, dtype: int64"
      ]
     },
     "execution_count": 41,
     "metadata": {},
     "output_type": "execute_result"
    }
   ],
   "source": [
    "parties['Unique Key'].groupby(by= parties.index.dayofweek).count().sort_values(ascending = False).head(1)"
   ]
  },
  {
   "cell_type": "markdown",
   "metadata": {},
   "source": [
    "### What do you think is the best kind of graph for describing day of the week complaints?"
   ]
  },
  {
   "cell_type": "code",
   "execution_count": 42,
   "metadata": {},
   "outputs": [
    {
     "data": {
      "text/plain": [
       "<matplotlib.axes._subplots.AxesSubplot at 0xd4c4884400>"
      ]
     },
     "execution_count": 42,
     "metadata": {},
     "output_type": "execute_result"
    },
    {
     "data": {
      "image/png": "[encoded data removed]",
      "text/plain": [
       "<matplotlib.figure.Figure at 0xd4c53d3b00>"
      ]
     },
     "metadata": {},
     "output_type": "display_data"
    }
   ],
   "source": [
    "parties['Unique Key'].groupby(by= parties.index.dayofweek).count().plot()"
   ]
  },
  {
   "cell_type": "markdown",
   "metadata": {},
   "source": [
    "# Some more investigation\n",
    "\n",
    "## Are there more homeless people in the city in the summer or in the winter?"
   ]
  },
  {
   "cell_type": "code",
   "execution_count": 68,
   "metadata": {},
   "outputs": [
    {
     "data": {
      "text/plain": [
       "3663"
      ]
     },
     "execution_count": 68,
     "metadata": {},
     "output_type": "execute_result"
    }
   ],
   "source": [
    "summer[summer['Complaint Type'] == 'Homeless Encampment']['Unique Key'].count()"
   ]
  },
  {
   "cell_type": "code",
   "execution_count": 67,
   "metadata": {},
   "outputs": [
    {
     "data": {
      "text/plain": [
       "1298"
      ]
     },
     "execution_count": 67,
     "metadata": {},
     "output_type": "execute_result"
    }
   ],
   "source": [
    "winter[winter['Complaint Type'] == 'Homeless Encampment']['Unique Key'].count()"
   ]
  },
  {
   "cell_type": "markdown",
   "metadata": {},
   "source": [
    "## What holiday(s) are most popular for illegal fireworks?"
   ]
  },
  {
   "cell_type": "code",
   "execution_count": 46,
   "metadata": {
    "collapsed": true
   },
   "outputs": [],
   "source": [
    "Fireworks = df[df['Complaint Type'] == 'Illegal Fireworks']"
   ]
  },
  {
   "cell_type": "code",
   "execution_count": 47,
   "metadata": {},
   "outputs": [
    {
     "data": {
      "text/plain": [
       "2015-07-04    24\n",
       "Name: Complaint Type, dtype: int64"
      ]
     },
     "execution_count": 47,
     "metadata": {},
     "output_type": "execute_result"
    }
   ],
   "source": [
    "Fireworks['Complaint Type'].groupby(by= Fireworks.index.date).count().sort_values(ascending= False).head(1)"
   ]
  },
  {
   "cell_type": "markdown",
   "metadata": {},
   "source": [
    "## Plot all kinds of noise complaints on top of each other"
   ]
  },
  {
   "cell_type": "code",
   "execution_count": 48,
   "metadata": {},
   "outputs": [
    {
     "data": {
      "text/plain": [
       "Noise - Residential         429932\n",
       "Noise - Street/Sidewalk     112890\n",
       "Noise - Commercial           93115\n",
       "Noise - Vehicle              43213\n",
       "Noise - Park                  7995\n",
       "Noise - House of Worship      1991\n",
       "Name: Complaint Type, dtype: int64"
      ]
     },
     "execution_count": 48,
     "metadata": {},
     "output_type": "execute_result"
    }
   ],
   "source": [
    "noise = df[df[\"Complaint Type\"].str.contains(\"Noise\")]\n",
    "noise[\"Complaint Type\"].value_counts()"
   ]
  },
  {
   "cell_type": "code",
   "execution_count": 72,
   "metadata": {},
   "outputs": [
    {
     "data": {
      "image/png": "[encoded data removed]",
      "text/plain": [
       "<matplotlib.figure.Figure at 0xd4845849e8>"
      ]
     },
     "metadata": {},
     "output_type": "display_data"
    }
   ],
   "source": [
    "res = df[df['Complaint Type'] == 'Noise - Residential']\n",
    "walk = df[df['Complaint Type'] == 'Noise - Street/Sidewalk']\n",
    "com = df[df['Complaint Type'] == 'Noise - Commercial']\n",
    "veh = df[df['Complaint Type'] == 'Noise - Vehicle']\n",
    "park = df[df['Complaint Type'] == 'Noise - Park']\n",
    "church = df[df['Complaint Type'] == 'Noise - House of Worship']\n",
    "\n",
    "\n",
    "ax = res['Unique Key'].resample('M').count().plot()\n",
    "walk['Unique Key'].resample('M').count().plot(ax=ax)\n",
    "com['Unique Key'].resample('M').count().plot(ax=ax)\n",
    "veh['Unique Key'].resample('M').count().plot(ax=ax)\n",
    "park['Unique Key'].resample('M').count().plot(color='black', ax=ax)\n",
    "church['Unique Key'].resample('M').count().plot(ax=ax)\n",
    "\n",
    "ax.set_title(\"Noises\")\n",
    "ax.set_xlabel('Price per Ounce')\n",
    "ax.set_ylabel('Kind of Noise')\n",
    "ax.spines['right'].set_visible(False)\n",
    "ax.spines['top'].set_visible(False)\n",
    "ax.xaxis.set_ticks_position('none')\n",
    "ax.yaxis.set_ticks_position('none')"
   ]
  },
  {
   "cell_type": "code",
   "execution_count": null,
   "metadata": {
    "collapsed": true
   },
   "outputs": [],
   "source": []
  }
 ],
 "metadata": {
  "kernelspec": {
   "display_name": "Python 3",
   "language": "python",
   "name": "python3"
  },
  "language_info": {
   "codemirror_mode": {
    "name": "ipython",
    "version": 3
   },
   "file_extension": ".py",
   "mimetype": "text/x-python",
   "name": "python",
   "nbconvert_exporter": "python",
   "pygments_lexer": "ipython3",
   "version": "3.6.1"
  }
 },
 "nbformat": 4,
 "nbformat_minor": 2
}
